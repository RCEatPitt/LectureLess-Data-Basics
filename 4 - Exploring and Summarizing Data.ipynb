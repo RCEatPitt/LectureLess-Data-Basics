{
 "cells": [
  {
   "cell_type": "markdown",
   "id": "a3ac4996-86b5-456b-b6ca-ddf0397bdaa7",
   "metadata": {},
   "source": [
    "# Exploring and Summarizing Data\n",
    "\n",
    "\n",
    "**This ENTIRE lesson is currently:**  \n",
    "![Under construction gif](http://textfiles.com/underconstruction/asashleyatucsbunder-construction.gif)\n",
    "\n",
    "\n",
    "Proceed with ![caution](http://textfiles.com/underconstruction/HeartlandPrairie1139notusingconstructionbar.gif) because this lesson is still being developed.\n",
    "\n",
    "---\n",
    "\n",
    "## Learning Objectives\n",
    "\n",
    "- Sort rows of a Dataframe by a particular column - [Sorting](https://pandas.pydata.org/docs/user_guide/basics.html#sorting)\n",
    "- Select a subset of rows based upon a particular logical criteria using a mask [Boolean Indexing](https://pandas.pydata.org/docs/user_guide/indexing.html#boolean-indexing\n",
    "- Filter rows using the Pandas query method - [The query() Method](https://pandas.pydata.org/docs/user_guide/indexing.html#the-query-method)\n",
    "- Summarize numerical data with [Descriptive Statistics](https://pandas.pydata.org/pandas-docs/stable/user_guide/basics.html#descriptive-statistics) - mean, std, var, median, min, max\n",
    "- Summarize categorical data with value counts\n",
    "- Use groupby operations to summarize subsets of categorical and numerical data Dataframe \n",
    "- Perform mathematical operations to create a column of new values\n",
    "\n",
    "\n",
    "## Datasets used\n",
    "\n",
    "- ACS total population \n",
    "- Neighborhood data \n",
    "- trees\n"
   ]
  },
  {
   "cell_type": "markdown",
   "id": "c891d101-9a70-4aeb-be04-0db3590f8c81",
   "metadata": {},
   "source": [
    "## Loading Pandas\n",
    "\n",
    "Run the code cell below to load the pandas library"
   ]
  },
  {
   "cell_type": "code",
   "execution_count": null,
   "id": "58d6eda1-6f3b-4db7-a24e-2e4551c9f382",
   "metadata": {},
   "outputs": [],
   "source": [
    "# load pandas using the alias pd\n",
    "import pandas as pd"
   ]
  },
  {
   "cell_type": "markdown",
   "id": "fec5180d-22b6-4eb0-99fa-e8b96323066f",
   "metadata": {},
   "source": [
    "## Loading Data\n",
    "\n",
    "TODO load the tree data\n"
   ]
  },
  {
   "cell_type": "markdown",
   "id": "789726f6-f071-4311-a47f-aea660ba952d",
   "metadata": {},
   "source": [
    "## Performing Calculations across columns\n",
    "\n",
    "\n",
    "In this lesson: clean and prepare the data and create two new columns with the start and end terms\n",
    "Next lesson: calculate term length and then sort the results"
   ]
  },
  {
   "cell_type": "code",
   "execution_count": null,
   "id": "f41ec998-963b-43b6-9981-62dcdc6aeb50",
   "metadata": {},
   "outputs": [],
   "source": [
    "terms = mayors[\"Term\"].str.split(\"-\", expand=True)"
   ]
  },
  {
   "cell_type": "code",
   "execution_count": null,
   "id": "88ae31d8-eda7-41c8-82bf-bcbf0fcfb47a",
   "metadata": {},
   "outputs": [],
   "source": [
    "terms[1] = terms[1].fillna(terms[0]).replace({\"present \":2023})\n",
    "terms"
   ]
  },
  {
   "cell_type": "code",
   "execution_count": null,
   "id": "ae87f88a-36c1-4561-8538-094cb13ce3dc",
   "metadata": {},
   "outputs": [],
   "source": [
    "terms[\"length\"] = terms[1].astype(int) - terms[0].astype(int)"
   ]
  },
  {
   "cell_type": "code",
   "execution_count": null,
   "id": "f89f5969-1c82-4e7c-8132-b815a7f965da",
   "metadata": {},
   "outputs": [],
   "source": [
    "terms[\"length\"] = terms[\"length\"].replace({0:1})"
   ]
  },
  {
   "cell_type": "code",
   "execution_count": null,
   "id": "3d3dc9d2-eaf6-436f-acdf-6e860771dd92",
   "metadata": {},
   "outputs": [],
   "source": []
  },
  {
   "cell_type": "code",
   "execution_count": null,
   "id": "fa0bd08c-0803-4dc4-a934-2afe4565ea29",
   "metadata": {},
   "outputs": [],
   "source": []
  },
  {
   "cell_type": "code",
   "execution_count": null,
   "id": "357600f3-2b6d-4c0a-835b-c6dc75316654",
   "metadata": {},
   "outputs": [],
   "source": [
    "mayors[\"Term Length\"].compare(terms[\"length\"])"
   ]
  },
  {
   "cell_type": "code",
   "execution_count": null,
   "id": "b217ccfa-980c-4d45-856c-e4bef11f58bc",
   "metadata": {},
   "outputs": [],
   "source": []
  },
  {
   "cell_type": "code",
   "execution_count": null,
   "id": "647c5289-9bc9-43df-9de2-ec72a0a7dba6",
   "metadata": {},
   "outputs": [],
   "source": []
  },
  {
   "cell_type": "code",
   "execution_count": null,
   "id": "9ae05bc7-ba13-45c3-bfda-4c2118977344",
   "metadata": {},
   "outputs": [],
   "source": [
    "starts = pd.to_numeric()[0])\n",
    "sends = pd.to_numeric(mayors[\"Term\"].str.split(\"-\", expand=True)[1], errors=\"ignore\")"
   ]
  },
  {
   "cell_type": "code",
   "execution_count": null,
   "id": "739055c7-f734-4d4b-93b9-aee65e9231f7",
   "metadata": {},
   "outputs": [],
   "source": [
    "sends.replace(\""
   ]
  },
  {
   "cell_type": "code",
   "execution_count": null,
   "id": "51717aa5-bbcd-455a-899c-00cb380ba64f",
   "metadata": {},
   "outputs": [],
   "source": []
  },
  {
   "cell_type": "code",
   "execution_count": null,
   "id": "db9fcc78-6e2d-482e-bdbe-ab2ab5dd9fef",
   "metadata": {},
   "outputs": [],
   "source": []
  },
  {
   "cell_type": "code",
   "execution_count": null,
   "id": "02b791f9-16a3-4024-8d80-9dd224522a0c",
   "metadata": {},
   "outputs": [],
   "source": []
  },
  {
   "cell_type": "code",
   "execution_count": null,
   "id": "d5cced9a-c3c8-4ff0-98a5-a306f5c3e8fe",
   "metadata": {},
   "outputs": [],
   "source": [
    "years = mayors['Term'].str.split(\"-\", expand=True)\n",
    "years.iloc[0,1]"
   ]
  },
  {
   "cell_type": "markdown",
   "id": "e6627963-c641-47bc-9bf6-853e8a3dc365",
   "metadata": {},
   "source": [
    "#### Task - Create a custom function\n",
    "\n",
    "Create a function that takes a value from the `Term` column and returns the number of years that value represents.\n",
    "\n",
    "So for example the first mayor of the City of Pittsburgh, Ebenezer Denny, has the value `1816-1817` listed. \n",
    "\n",
    "- Some mayors served less than one year. The data lists their terms with a single number.\n",
    "- The current end date of the current mayor is listed as \"present\"\n",
    "\n",
    "\n",
    "\n",
    "1. Split the value on the the \"-\" character\n",
    "2. \n",
    "\n",
    "\n",
    "1. \n",
    "2. "
   ]
  },
  {
   "cell_type": "code",
   "execution_count": null,
   "id": "9a97bfc1-05db-4f65-8cbd-f23c4269894b",
   "metadata": {},
   "outputs": [],
   "source": [
    "mayors[\"Term\"][0].split(\"-\")[1].strip().isnumeric()"
   ]
  },
  {
   "cell_type": "code",
   "execution_count": null,
   "id": "0704840e-782d-4991-95aa-fdea037c0058",
   "metadata": {},
   "outputs": [],
   "source": [
    "def compute_term_length(term):\n",
    "    \n",
    "    terms = term.strip().split(\"-\")\n",
    "    \n",
    "    if len(terms) < 2:\n",
    "        # mayor only served one year\n",
    "        start = terms[0]\n",
    "        end = start\n",
    "    elif terms[1] == \"present\":\n",
    "        start = terms[0]\n",
    "        end = 2023\n",
    "    else:\n",
    "        start = terms[0]\n",
    "        end = terms[1]\n",
    "    return int(end) - int(start)\n",
    "        \n",
    "    \n",
    "    "
   ]
  },
  {
   "cell_type": "code",
   "execution_count": null,
   "id": "028913cc-c85a-45ae-9868-fffed7af9533",
   "metadata": {},
   "outputs": [],
   "source": [
    "def compute_term_length(term):\n",
    "    \n",
    "    terms = term.split(\"-\")\n",
    "    \n",
    "    if len(terms) == 2:\n",
    "        start = int(terms[0])\n",
    "        end   = int(terms[1]) if terms[1].strip().isnumeric() else 2023\n",
    "        #print(start,end)\n",
    "        return end - start\n",
    "    elif len(terms) == 1:\n",
    "        return 1\n",
    "    else:\n",
    "        return \"hi\"\n",
    "        "
   ]
  },
  {
   "cell_type": "code",
   "execution_count": null,
   "id": "5f986503-446f-4572-b208-b9b33279f167",
   "metadata": {},
   "outputs": [],
   "source": [
    "mayors[\"Term Length\"] =  mayors[\"Term\"].apply(compute_term_length)\n",
    "mayors[[\"Mayor\", \"Term Length\"]].sort_values(ascending=False, by=\"Term Length\")"
   ]
  },
  {
   "cell_type": "markdown",
   "id": "0f1cbbb5-de3c-4d8f-a8e5-bd153924198f",
   "metadata": {},
   "source": [
    "Looks like we have an answer! "
   ]
  },
  {
   "cell_type": "code",
   "execution_count": null,
   "id": "83179540-0689-465e-9f5f-26d953a9e890",
   "metadata": {},
   "outputs": [],
   "source": []
  },
  {
   "cell_type": "code",
   "execution_count": null,
   "id": "77f909eb-48ac-4cfb-a1cf-19672ab7c125",
   "metadata": {},
   "outputs": [],
   "source": []
  },
  {
   "cell_type": "markdown",
   "id": "723f3c82-3b11-4d09-a72e-0997066b715e",
   "metadata": {},
   "source": [
    "## Grouping data\n",
    "\n",
    "Grouping operations, often called \"group by,\" are designed to aggregate datasets by grouping rows based upon a particular value, typically categorical data types.\n",
    "\n",
    "Groupby operations require two things. First, a column of values in which to *group by*, that is, the values that will become rows in the new dataframe. Second, an operation that can *aggregate* multiple rows into a single row. Group by operations will then perform the aggregation operation on all rows that have the same value for the particular group by column. Mathematical aggregation operations will automatically be applied to numerical columns."
   ]
  },
  {
   "cell_type": "markdown",
   "id": "eaa6d36c-00d8-4fa5-a6ae-242320b1a7af",
   "metadata": {},
   "source": [
    "#### Task - Identifying columns for grouping operations\n",
    "\n",
    "1. Look at our example community center data and consider, what columns are suitable for grouping and what columns are suitable for aggregation?\n",
    "\n",
    "\n",
    "|date      |center_name                |attendance_count|\n",
    "|----------|---------------------------|----------------|\n",
    "|2023-03-12|Warrington Community Center|3               |\n",
    "|2023-03-11|Warrington Community Center|1               |\n",
    "|2023-03-11|Ormsby Community Center    |5               |\n",
    "|2023-03-11|Paulson Community Center   |12              |\n",
    "|2023-03-11|Phillips Community Center  |10              |\n",
    "|2023-03-11|West Penn Community Center |104             |\n",
    "|2023-03-10|Warrington Community Center|32              |\n",
    "|2023-03-10|Ammon Community Center     |8               |\n",
    "|2023-03-10|Arlington Community Center |13              |\n",
    "|2023-03-10|Brookline Community Center |40              |"
   ]
  },
  {
   "cell_type": "raw",
   "id": "a02f0cf1-c94f-45b8-acca-f62b84ed9458",
   "metadata": {},
   "source": [
    "# Your answer here\n"
   ]
  },
  {
   "cell_type": "raw",
   "id": "d5c28b99-bf5e-46dd-bc53-6975c43b42fc",
   "metadata": {},
   "source": [
    "# answer 1\n",
    "\n",
    "Center_name would be the best column for grouping because it contains categorical data. The date column could also be used as a group column. The attendance_count column would be best for aggregation because it contains numerical data that can be easily aggregated."
   ]
  },
  {
   "cell_type": "markdown",
   "id": "6725a6f7-e2f6-4784-aec5-8c33731fd409",
   "metadata": {},
   "source": [
    "#### Task - Finding the aggregation functions\n",
    "\n",
    "Review the [pandas documentation](https://pandas.pydata.org/pandas-docs/version/0.23/api.html#id39) of the built-in aggregation functions for the group by operations. \n",
    "1. What aggregation function would give us the total number of people who have visited a community center? Explain why that function would produce the answer?\n",
    "2. What aggregation function would tell us how many times a community center has reported their attendance in the data? Explain why that function would produce the answer? Note, there are two possible answers for this question, what are the differences between the two?"
   ]
  },
  {
   "cell_type": "raw",
   "id": "aa8cd64e-62e0-449d-a1e3-a7acc478739b",
   "metadata": {},
   "source": [
    "# your answer here\n"
   ]
  },
  {
   "cell_type": "raw",
   "id": "50f2ae4c-c0ba-480a-957b-9df49ecfc8de",
   "metadata": {},
   "source": [
    "# answer\n",
    "1. the `sum` function would tell us how many people visited a community center in total because it would compute the sum of all the values in the attendance_count column.\n",
    "2. Either the `size` or `count` function will tell you how many times a community center has reported their attendance. Size includes missing values and returns a Series, count returns a dataframe counting the number of non-null vaues in each column, so it reports values for the `date` and `attendance_count` column."
   ]
  },
  {
   "cell_type": "markdown",
   "id": "02a5b982-08a1-49ee-97d3-3928ccd5700e",
   "metadata": {},
   "source": [
    "#### Task -  Grouping and aggregating community center data\n",
    "\n",
    "The code below aggregates the community center data by the `center_name` column and then aggregates by calculating the *size* of the groups. \n",
    "\n",
    "1. Modify the code cell below to aggregate using the other function identified in the previous task. This function should calculate the total number of people who have visited each community center."
   ]
  },
  {
   "cell_type": "code",
   "execution_count": null,
   "id": "6767f7a2-c1fc-4e1f-beda-0c2febe5093e",
   "metadata": {
    "collapsed": false,
    "jupyter": {
     "outputs_hidden": false
    }
   },
   "outputs": [],
   "source": [
    "# Your code here\n",
    "# grouping by community center to\n",
    "cca_data.groupby(\"center_name\").size()"
   ]
  },
  {
   "cell_type": "code",
   "execution_count": null,
   "id": "623d7844-c346-48ef-bc0a-ec92e8adcb68",
   "metadata": {},
   "outputs": [],
   "source": [
    "# Answer 1\n",
    "# grouping by community center to\n",
    "cca_data.groupby(\"center_name\").sum()"
   ]
  },
  {
   "cell_type": "markdown",
   "id": "f75fafdd-cfd4-4184-bb00-782a4d886035",
   "metadata": {},
   "source": [
    "#### Task - What does Mean mean?\n",
    "\n",
    "1. The code below groups by the community center name and then aggregates by the mean. What does this operation tell us?"
   ]
  },
  {
   "cell_type": "code",
   "execution_count": null,
   "id": "a1ca0a59-985a-4a3d-845a-dba00e7cd574",
   "metadata": {
    "collapsed": false,
    "jupyter": {
     "outputs_hidden": false
    }
   },
   "outputs": [],
   "source": [
    "# aggregate by the mean\n",
    "cca_data.groupby(\"center_name\").mean()"
   ]
  },
  {
   "cell_type": "raw",
   "id": "409b4392-e26d-4dd1-9634-b94703d112a6",
   "metadata": {
    "jupyter": {
     "outputs_hidden": false
    }
   },
   "source": [
    "*Your answer here*\n",
    "\n"
   ]
  },
  {
   "cell_type": "raw",
   "id": "7cb5fe4d-c0b8-4892-995a-6b39c33b67bf",
   "metadata": {},
   "source": [
    "*Answer 1*\n",
    "\n",
    "Aggregating these data by the mean tells us the average number of people who visit each community center."
   ]
  },
  {
   "cell_type": "code",
   "execution_count": null,
   "id": "a76e690b-1fca-45a8-96ca-d7c3ccf46a7c",
   "metadata": {},
   "outputs": [],
   "source": []
  }
 ],
 "metadata": {
  "kernelspec": {
   "display_name": "Python 3 (ipykernel)",
   "language": "python",
   "name": "python3"
  },
  "language_info": {
   "codemirror_mode": {
    "name": "ipython",
    "version": 3
   },
   "file_extension": ".py",
   "mimetype": "text/x-python",
   "name": "python",
   "nbconvert_exporter": "python",
   "pygments_lexer": "ipython3",
   "version": "3.9.13"
  }
 },
 "nbformat": 4,
 "nbformat_minor": 5
}
