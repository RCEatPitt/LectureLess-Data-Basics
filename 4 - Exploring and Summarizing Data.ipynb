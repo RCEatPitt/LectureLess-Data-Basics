{
 "cells": [
  {
   "cell_type": "markdown",
   "id": "a3ac4996-86b5-456b-b6ca-ddf0397bdaa7",
   "metadata": {},
   "source": [
    "# Exploring and Summarizing Data\n",
    "\n",
    "This lesson covers the methods and approaches for exploring and producing summary statistics of data using a variety of Pandas methods and functions.\n",
    "\n",
    "## Learning Objectives\n",
    "\n",
    "By the end of this lesson you will be able to:\n",
    "\n",
    "- Summarize numerical data with [Descriptive Statistics](https://pandas.pydata.org/pandas-docs/stable/user_guide/basics.html#descriptive-statistics) - mean, std, var, median, min, max\n",
    "- Sort rows of a DataFrame by a particular column - [Sorting](https://pandas.pydata.org/docs/user_guide/basics.html#sorting)\n",
    "- Summarize categorical data with value counts\n",
    "- Select a subset of rows based upon a particular logical criteria using a mask [Boolean Indexing](https://pandas.pydata.org/docs/user_guide/indexing.html#boolean-indexing\n",
    "- Filter rows using the Pandas query method - [The query() Method](https://pandas.pydata.org/docs/user_guide/indexing.html#the-query-method)\n",
    "- Use groupby operations to summarize subsets of categorical and numerical data Dataframe \n",
    "\n",
    "\n",
    "## Datasets used\n",
    "\n",
    "- The Clean Trees dataset produced in the previous lesson\n"
   ]
  },
  {
   "cell_type": "code",
   "execution_count": null,
   "id": "58d6eda1-6f3b-4db7-a24e-2e4551c9f382",
   "metadata": {},
   "outputs": [],
   "source": [
    "# load pandas using the alias pd\n",
    "import pandas as pd"
   ]
  },
  {
   "cell_type": "markdown",
   "id": "fec5180d-22b6-4eb0-99fa-e8b96323066f",
   "metadata": {},
   "source": [
    "## Loading Data\n",
    "\n",
    "Run the code cell below to load the clean City of Pittsburgh Trees dataset produced in the previous lesson."
   ]
  },
  {
   "cell_type": "code",
   "execution_count": null,
   "id": "a07b1a33-4df5-46eb-862b-c8be421cea04",
   "metadata": {},
   "outputs": [],
   "source": [
    "# load the clean trees dataset\n",
    "trees = pd.read_csv(\"pgh-trees-clean.csv\")\n",
    "trees"
   ]
  },
  {
   "cell_type": "markdown",
   "id": "61a1934f-d841-4eed-8429-1d7cb7526a0e",
   "metadata": {},
   "source": [
    "#### Task - How many trees?\n",
    "\n",
    "1. How many trees are in the dataset? Use whatever computational technique you want (there are several ways).\n",
    "2. Use a `print()` function to display the answer in the sentence `There are ??? trees in Pittsburgh (according to this dataset).` Replace the `???` with the number of trees.\n",
    "\n"
   ]
  },
  {
   "cell_type": "code",
   "execution_count": null,
   "id": "f5089783-8a23-419b-bfa3-5e22b7d1856c",
   "metadata": {},
   "outputs": [],
   "source": [
    "# your code here\n"
   ]
  },
  {
   "cell_type": "markdown",
   "id": "8a196363-db9f-4148-af50-5c8d5d81ec9d",
   "metadata": {},
   "source": [
    "#### Answer - \n",
    "\n",
    "Click on the ellipses (...) below to see the answers."
   ]
  },
  {
   "cell_type": "code",
   "execution_count": null,
   "id": "f31aee85-4cb5-41ce-af5e-2aa9505b9e5c",
   "metadata": {
    "jupyter": {
     "source_hidden": true
    },
    "tags": []
   },
   "outputs": [],
   "source": [
    "# answer\n",
    "print(\"There are\", trees.shape[0], \"trees in Pittsburgh (according to this dataset).\")"
   ]
  },
  {
   "cell_type": "markdown",
   "id": "ad183595-52fe-4329-960b-5f5543b55619",
   "metadata": {},
   "source": [
    "#### Task - I am the `info()` I speak for the `trees`\n",
    "\n",
    "1. Use the `info()` method to get some information about the trees dataset\n",
    "2. How many columns are in the dataset? \n",
    "3. Look at the column names to infer the information they contain, what groupings of columns might you create?"
   ]
  },
  {
   "cell_type": "code",
   "execution_count": null,
   "id": "ba2596f3-c69b-451e-956e-7b5244b1c49a",
   "metadata": {},
   "outputs": [],
   "source": [
    "# your code here\n"
   ]
  },
  {
   "cell_type": "markdown",
   "id": "972df532-7984-4f8b-b455-ce97c6e79a1b",
   "metadata": {},
   "source": [
    "#### Answer - I am the `info()` I speak for the `trees`\n",
    "\n",
    "Click on the ellipses (...) below to see the answers."
   ]
  },
  {
   "cell_type": "code",
   "execution_count": null,
   "id": "70a950bf-1cf0-4448-94ef-214448078092",
   "metadata": {
    "tags": []
   },
   "outputs": [],
   "source": [
    "# answer\n",
    "trees.info()"
   ]
  },
  {
   "cell_type": "markdown",
   "id": "3f181d26-e6f5-45df-aade-52bcae540262",
   "metadata": {
    "jupyter": {
     "source_hidden": true
    },
    "tags": []
   },
   "source": [
    "*answer*\n",
    "\n",
    "2. There are 58 columns\n",
    "3. There are many possible groupings, here is one potential set of groups:\n",
    "\n",
    "- Columns about the tree's location\n",
    "- Columns about characteristics of the tree itself\n",
    "- Information about the tree's economic value\n",
    "- Information about the tree's ecological value\n",
    "- Administrative information and other\n"
   ]
  },
  {
   "cell_type": "markdown",
   "id": "852154ae-dc26-4830-ae01-2587334160a4",
   "metadata": {},
   "source": [
    "#### Task - Columns about locations\n",
    "\n",
    "1. Look at the column names, which columns do you think might be relevant to the tree's location within the city?\n",
    "2. Create a python list called `location_columns` that contains strings with the names of these columns.\n",
    "\n",
    "You don't need to be comprehensive and there are subjective decisions in these categories."
   ]
  },
  {
   "cell_type": "code",
   "execution_count": null,
   "id": "2ad24f22-1572-4f4e-91ce-2a16b1a2d048",
   "metadata": {},
   "outputs": [],
   "source": [
    "# your code here\n"
   ]
  },
  {
   "cell_type": "markdown",
   "id": "76b7803c-3593-42e3-ae96-d77dcc23539f",
   "metadata": {},
   "source": [
    "#### Answer - Columns about tree locations\n",
    "\n",
    "Click on the ellipses (...) below to see the answers."
   ]
  },
  {
   "cell_type": "code",
   "execution_count": null,
   "id": "d8c5497d-06ef-4986-9fbe-5f9e206190d0",
   "metadata": {
    "jupyter": {
     "source_hidden": true
    },
    "tags": []
   },
   "outputs": [],
   "source": [
    "# answer\n",
    "# create a list of columns about a tree's location\n",
    "location_columns = [\"address_number\", \"street\", \"neighborhood\", \"latitude\", \"longitude\"]"
   ]
  },
  {
   "cell_type": "markdown",
   "id": "564af187-749d-4bca-977d-4fc23bdcdcde",
   "metadata": {},
   "source": [
    "#### Task - Columns about the trees themselves\n",
    "\n",
    "1. Look at the column names, which columns do you think might contain information about the tree itself?\n",
    "2. Create a python list called `tree_info_columns` that contains strings with the names of these columns.\n",
    "\n",
    "\n",
    "You don't need to be comprehensive and there are subjective decisions in these categories."
   ]
  },
  {
   "cell_type": "code",
   "execution_count": null,
   "id": "af2ad74b-d351-4caa-a749-7196b7d004cc",
   "metadata": {},
   "outputs": [],
   "source": [
    "# your code here\n"
   ]
  },
  {
   "cell_type": "markdown",
   "id": "68d7b947-5b72-4a7d-8bae-8e8c35b71fe9",
   "metadata": {},
   "source": [
    "#### Answer - Columns about the trees themselves\n",
    "\n",
    "Click on the ellipses (...) below to see the answers."
   ]
  },
  {
   "cell_type": "code",
   "execution_count": null,
   "id": "503c5670-bb8e-4663-a3d4-2f895f06abe0",
   "metadata": {
    "jupyter": {
     "source_hidden": true
    },
    "tags": []
   },
   "outputs": [],
   "source": [
    "# answer\n",
    "\n",
    "# create a list of columns containing information about a tree\n",
    "tree_info_columns = [\"common_name\", \"scientific_name\", \"height\", \n",
    "                \"width\", \"growth_space_length\", \"growth_space_width\", \n",
    "                \"growth_space_type\", \"diameter_base_height\", \"stems\",\"overhead_utilities\", \"condition\"]"
   ]
  },
  {
   "cell_type": "markdown",
   "id": "94c7cc95-06d9-4421-a0fc-615f1148f15f",
   "metadata": {},
   "source": [
    "#### Task - Valuing trees economically & environmentally\n",
    "\n",
    "The trees dataset contains a bunch of columns related to the \"dollar value\" and environmental benefits of the trees. Rather than type out all those column names, identify single columns\n",
    "\n",
    "1. what single column do you think has a useful summary of the economic value of a tree?\n",
    "1. what single column do you think has a useful summary of the ecological value of a tree?"
   ]
  },
  {
   "cell_type": "raw",
   "id": "369b2068-97ce-4bc1-8807-292c088244e9",
   "metadata": {},
   "source": [
    "# your answer here\n"
   ]
  },
  {
   "cell_type": "markdown",
   "id": "f318cd16-4856-4f3f-8cbe-9ef3cb1f2524",
   "metadata": {},
   "source": [
    "#### Answer - Valuing tree economically & environmentally\n",
    "\n",
    "Click on the ellipses (...) below to see the answers."
   ]
  },
  {
   "cell_type": "markdown",
   "id": "64fa86a0-c18d-4050-979e-f24217b7c33a",
   "metadata": {
    "jupyter": {
     "source_hidden": true
    },
    "tags": []
   },
   "source": [
    "*answer*\n",
    "\n",
    "1. The `overall_benefits_dollar_value` column is probably the best for summarizing the economic value. \n",
    "2. There are a couple columns that might be useful, but the `air_quality_benefits_total` is probably the best for summarizing environmental benefits."
   ]
  },
  {
   "cell_type": "markdown",
   "id": "a7d79923-a6f5-4347-b3fe-f965ea70c37c",
   "metadata": {},
   "source": [
    "## Selecting Columns\n",
    "\n",
    "The dataset has many columns with information about trees, so much that it is hard to see all at once. By grouping and identifying specific columns we can begin to explore the tree data more deliberately."
   ]
  },
  {
   "cell_type": "markdown",
   "id": "bf7c8269-6c79-4df4-baff-f8d21ec4f0e1",
   "metadata": {},
   "source": [
    "#### Task - Just the tree information\n",
    "\n",
    "1. Use your newly created list of columns with information about the trees, `tree_info_columns` as an index to select just those columns from the larger `trees` DataFrame."
   ]
  },
  {
   "cell_type": "code",
   "execution_count": null,
   "id": "423c9ed0-229e-429a-9dde-79f537057e3f",
   "metadata": {},
   "outputs": [],
   "source": [
    "# your code here\n"
   ]
  },
  {
   "cell_type": "markdown",
   "id": "1172fbd7-5a2b-499b-85fd-8eedd222acc4",
   "metadata": {},
   "source": [
    "#### Answer - Just the tree information\n",
    "\n",
    "Click on the ellipses (...) below to see the answers."
   ]
  },
  {
   "cell_type": "code",
   "execution_count": null,
   "id": "7713489a-5206-4d1f-9b8e-784ea6beac26",
   "metadata": {
    "jupyter": {
     "source_hidden": true
    },
    "tags": []
   },
   "outputs": [],
   "source": [
    "# answer\n",
    "\n",
    "# select the columns \n",
    "trees[tree_info_columns]"
   ]
  },
  {
   "cell_type": "markdown",
   "id": "c22ba416-745e-418b-a1bc-3f4037553fdb",
   "metadata": {},
   "source": [
    "#### Task - The tallest tree in the land\n",
    "\n",
    "1. Look at the results, is there a column that you included in your `tree_info_columns` list that could help answer the question, what is the tallest tree in Pittsburgh?*\n",
    "2. What are some of the ways to manipulate the data to answer this question?\n",
    "\n",
    "\\* According to this dataset. Not every tree in the city is in this dataset, just those managed by the city."
   ]
  },
  {
   "cell_type": "raw",
   "id": "93c89294-4beb-439b-ad5a-300ea60e2000",
   "metadata": {},
   "source": [
    "# your answer here\n"
   ]
  },
  {
   "cell_type": "markdown",
   "id": "9585d615-60de-4e3b-a1e3-5387a4e62608",
   "metadata": {},
   "source": [
    "#### Answer - The tallest tree in the land\n",
    "\n",
    "Click on the ellipses (...) below to see the answers."
   ]
  },
  {
   "cell_type": "markdown",
   "id": "834913e7-c9ef-42a6-8858-f4c4b3f76512",
   "metadata": {
    "jupyter": {
     "source_hidden": true
    },
    "tags": []
   },
   "source": [
    "*answer*\n",
    "\n",
    "1. The `height` column is most likely the best column for answering the question about the tallest tree in the dataset/pittsburgh.\n",
    "2. We could calculate the max value or we could try to sort data based on the height column"
   ]
  },
  {
   "cell_type": "markdown",
   "id": "821f570c-8898-4a8a-8097-71efc8ec9214",
   "metadata": {},
   "source": [
    "#### Task - The max value\n",
    "\n",
    "1. Select just the column you identified in the last task\n",
    "2. Review the documentation for [Pandas Series](https://pandas.pydata.org/pandas-docs/version/1.5/reference/series.html#). Find the method that will tell us the height of the tallest tree? Use that method to find the answer to our question."
   ]
  },
  {
   "cell_type": "code",
   "execution_count": null,
   "id": "502a98f1-b0e6-489c-93ec-13f9cb4bbb80",
   "metadata": {},
   "outputs": [],
   "source": [
    "# your code here\n"
   ]
  },
  {
   "cell_type": "markdown",
   "id": "290f2324-85ec-4492-bb74-d46176dfa766",
   "metadata": {},
   "source": [
    "#### Answer - The max value\n",
    "\n",
    "Click on the ellipses (...) below to see the answers."
   ]
  },
  {
   "cell_type": "code",
   "execution_count": null,
   "id": "cca547e5-17d5-487b-810e-025faa69a189",
   "metadata": {
    "jupyter": {
     "source_hidden": true
    },
    "tags": []
   },
   "outputs": [],
   "source": [
    "# find the max value of hte height column\n",
    "trees['height'].max()"
   ]
  },
  {
   "cell_type": "markdown",
   "id": "4c5cf8a3-26ba-438a-9a9b-6d483062b352",
   "metadata": {},
   "source": [
    "#### Task - What and Where is the tallest tree?\n",
    "\n",
    "The previous task gave us the answer to our question about the tallest tree in Pittsburgh, but it doesn't provide much context about that tree. It would be nice to have a bit more information about \n",
    "\n",
    "1. Review the [Pandas Series documentation](https://pandas.pydata.org/pandas-docs/version/1.5/reference/series.html#reindexing-selection-label-manipulation) to find a function that will help us find an identifier for the row with the largest value for height.\n",
    "2. Use that method on the `height` column and save the results into a variable called `tallest_tree_id`\n",
    "3. Use the variable with the appropriate indexing property to select the row of the `trees` dataset for the tallest tree\n",
    "4. What type of tree is it? What neighborhood is it located in?"
   ]
  },
  {
   "cell_type": "code",
   "execution_count": null,
   "id": "d428bea3-ce2c-4b8b-b929-b1ddd3de0370",
   "metadata": {},
   "outputs": [],
   "source": [
    "# your code here\n"
   ]
  },
  {
   "cell_type": "markdown",
   "id": "2fd26cee-d7a5-48fa-bc37-c1145c89775d",
   "metadata": {},
   "source": [
    "#### Answer - What and where is the tallest tree?\n",
    "\n",
    "Click on the ellipses (...) below to see the answers."
   ]
  },
  {
   "cell_type": "code",
   "execution_count": null,
   "id": "338fb73d-d50f-4074-8ed7-8a20f2df1c20",
   "metadata": {
    "jupyter": {
     "source_hidden": true
    },
    "tags": []
   },
   "outputs": [],
   "source": [
    "# answer\n",
    "\n",
    "tallest_tree_id = trees['height'].idxmax()\n",
    "trees.loc[tallest_tree_id]"
   ]
  },
  {
   "cell_type": "markdown",
   "id": "67e021a7-ed79-4c36-9be8-49c0c4cc7384",
   "metadata": {
    "jupyter": {
     "source_hidden": true
    },
    "tags": []
   },
   "source": [
    "*answer*\n",
    "\n",
    "The tallest tree in the dataset is a Japanese lilac and it is located in Lower Lawrenceville"
   ]
  },
  {
   "cell_type": "markdown",
   "id": "d4543657-004d-4eac-95ca-545c3a7ef75a",
   "metadata": {},
   "source": [
    "#### Task - Top ten trees\n",
    "\n",
    "What if we wanted to get information about the 10 tallest trees in the dataset? What DataFrame method should we use?\n",
    "\n",
    "1. Review the [Pandas documentation for DataFrames](https://pandas.pydata.org/pandas-docs/version/1.5/reference/frame.html#). Find the section that lists methods relevant for answering this question. \n",
    "2. Find two methods that can answer the question about the 10 tallest trees and enter them in the code cells below."
   ]
  },
  {
   "cell_type": "code",
   "execution_count": null,
   "id": "da5c4fd1-4e0c-4426-95ee-8d2642dedf5b",
   "metadata": {},
   "outputs": [],
   "source": [
    "# your code here\n"
   ]
  },
  {
   "cell_type": "markdown",
   "id": "5a8ab04c-ed8a-4461-9098-9af4b33e7e98",
   "metadata": {},
   "source": [
    "#### Answer - Top ten tree\n",
    "\n",
    "Click on the ellipses (...) below to see the answers."
   ]
  },
  {
   "cell_type": "code",
   "execution_count": null,
   "id": "f53d3bd9-af2b-4812-aef8-3ea4ffaa02ed",
   "metadata": {
    "jupyter": {
     "source_hidden": true
    },
    "tags": []
   },
   "outputs": [],
   "source": [
    "# answer 1 \n",
    "\n",
    "# use the nlargest() method to find the top ten rows based on the heigh column\n",
    "trees.nlargest(10, \"height\")"
   ]
  },
  {
   "cell_type": "code",
   "execution_count": null,
   "id": "d4a3ee40-33ae-4595-8a03-be9ab6e5aa3e",
   "metadata": {
    "jupyter": {
     "source_hidden": true
    },
    "tags": []
   },
   "outputs": [],
   "source": [
    "# another answer\n",
    "\n",
    "# sort trees by heigh and display first ten rows\n",
    "trees.sort_values(\"height\", ascending=False).head(10)"
   ]
  },
  {
   "cell_type": "markdown",
   "id": "85074324-8186-49ab-a285-4b41df970950",
   "metadata": {},
   "source": [
    "#### Task - Every descriptive statistic everywhere all at once\n",
    "\n",
    "1. Run the code cell below to compute descriptive statistics on the numeric columns\n",
    "2. Identify the individual dataframe methods that will generate each individual descriptive statistics (count, mean, min, max, etc.). Refer to the [Pandas documentation](https://pandas.pydata.org/pandas-docs/version/1.5/reference/frame.html#computations-descriptive-stats) for help. You already know one of them!\n",
    "3. Run each descriptive statistic in a code cell below (you will need to create additional code cells).\n"
   ]
  },
  {
   "cell_type": "code",
   "execution_count": null,
   "id": "160655fe-7daf-4673-ae62-9e8fa059cbff",
   "metadata": {},
   "outputs": [],
   "source": [
    "# describe the information about the trees\n",
    "trees.describe()"
   ]
  },
  {
   "cell_type": "code",
   "execution_count": null,
   "id": "1d2f3e47-6f36-4843-999f-a4b324e9664a",
   "metadata": {},
   "outputs": [],
   "source": [
    "# your code here\n"
   ]
  },
  {
   "cell_type": "markdown",
   "id": "615c82e9-ed91-4d90-8ff1-71d5b365c95c",
   "metadata": {},
   "source": [
    "#### Answer - Every descriptive statistic everywhere all at once\n",
    "\n",
    "Click on the ellipses (...) below to see the answers."
   ]
  },
  {
   "cell_type": "code",
   "execution_count": null,
   "id": "d089854f-2635-4e28-9ffd-bb30aed6cd9f",
   "metadata": {
    "jupyter": {
     "source_hidden": true
    },
    "tags": []
   },
   "outputs": [],
   "source": [
    "# answer\n",
    "\n",
    "# compute counts\n",
    "trees[tree_info_columns].count()"
   ]
  },
  {
   "cell_type": "code",
   "execution_count": null,
   "id": "3e5e5c2b-0c21-4bb8-ad77-8b8852801351",
   "metadata": {
    "jupyter": {
     "source_hidden": true
    },
    "tags": []
   },
   "outputs": [],
   "source": [
    "# answer\n",
    "\n",
    "# compute mean\n",
    "trees[tree_info_columns].mean()"
   ]
  },
  {
   "cell_type": "code",
   "execution_count": null,
   "id": "2708b4bb-d65d-4c3c-82d7-4a5f31361e38",
   "metadata": {
    "jupyter": {
     "source_hidden": true
    },
    "tags": []
   },
   "outputs": [],
   "source": [
    "# answer\n",
    "\n",
    "# compute standard deviation\n",
    "trees[tree_info_columns].std()"
   ]
  },
  {
   "cell_type": "code",
   "execution_count": null,
   "id": "1bc1b649-4d1b-4099-a983-6f90ca1f2a7f",
   "metadata": {
    "jupyter": {
     "source_hidden": true
    },
    "tags": []
   },
   "outputs": [],
   "source": [
    "# answer\n",
    "\n",
    "# compute minimum\n",
    "trees[tree_info_columns].min()"
   ]
  },
  {
   "cell_type": "code",
   "execution_count": null,
   "id": "d66d67c4-8187-423b-a3c8-2fd449dd2ced",
   "metadata": {
    "jupyter": {
     "source_hidden": true
    },
    "tags": []
   },
   "outputs": [],
   "source": [
    "# answer\n",
    "\n",
    "# compute 25% quantiles\n",
    "trees[tree_info_columns].quantile(.25)"
   ]
  },
  {
   "cell_type": "code",
   "execution_count": null,
   "id": "6e2264be-0a6b-4eb3-8513-b38024f2d6bb",
   "metadata": {
    "jupyter": {
     "source_hidden": true
    },
    "tags": []
   },
   "outputs": [],
   "source": [
    "# answer\n",
    "\n",
    "# compute 50% quantiles\n",
    "trees[tree_info_columns].quantile()"
   ]
  },
  {
   "cell_type": "code",
   "execution_count": null,
   "id": "b8907343-3768-4f74-ac37-3b47c922fb9e",
   "metadata": {
    "jupyter": {
     "source_hidden": true
    },
    "tags": []
   },
   "outputs": [],
   "source": [
    "# answer\n",
    "\n",
    "# compute 75% quantiles\n",
    "trees[tree_info_columns].quantile(.75)"
   ]
  },
  {
   "cell_type": "code",
   "execution_count": null,
   "id": "ae711d1d-e692-462a-a857-fcf550786d9d",
   "metadata": {
    "jupyter": {
     "source_hidden": true
    },
    "tags": []
   },
   "outputs": [],
   "source": [
    "# answer \n",
    "\n",
    "# comput the max \n",
    "trees[tree_info_columns].max()"
   ]
  },
  {
   "cell_type": "markdown",
   "id": "dce293f6-9435-4aaa-8fcb-77e072289226",
   "metadata": {},
   "source": [
    "## Working with Categorical data\n",
    "\n",
    "When performing summary statistics, Pandas will automatically ignore non-numeric columns. That doesn't mean there isn't valuable information in those columns! There are a separate set of functions and techniques for working with categorical data."
   ]
  },
  {
   "cell_type": "markdown",
   "id": "845708a7-343f-4923-9128-0ff462632285",
   "metadata": {},
   "source": [
    "#### Task - The 20 most poplar trees\n",
    "\n",
    "1. Review the [Pandas DataFrame Documentation](https://pandas.pydata.org/pandas-docs/version/1.5/reference/frame.html#computations-descriptive-stats) and identify a method that will compute the number of unique values for each type of tree."
   ]
  },
  {
   "cell_type": "code",
   "execution_count": null,
   "id": "82454a02-cca3-416c-83f7-2474d3a47767",
   "metadata": {},
   "outputs": [],
   "source": [
    "# your code here"
   ]
  },
  {
   "cell_type": "code",
   "execution_count": null,
   "id": "5e0041ba-41a8-4d79-9052-a1e76e5b89e1",
   "metadata": {
    "jupyter": {
     "source_hidden": true
    },
    "tags": []
   },
   "outputs": [],
   "source": [
    "# answer\n",
    "\n",
    "trees['common_name'].value_counts().head(20)"
   ]
  },
  {
   "cell_type": "markdown",
   "id": "20e50c3b-4f76-4e0f-a99f-db2b86f8d651",
   "metadata": {},
   "source": [
    "#### Task - Most arboreal neighborhoods\n",
    "\n",
    "1. Use the same function above, but now identify the top 10 most tree-y neighborhoods"
   ]
  },
  {
   "cell_type": "code",
   "execution_count": null,
   "id": "7871ecda-0d08-45b0-b61c-4408f079e757",
   "metadata": {},
   "outputs": [],
   "source": [
    "# your code here\n"
   ]
  },
  {
   "cell_type": "markdown",
   "id": "197c831c-c2fc-4e52-a060-13011ce3f8d7",
   "metadata": {},
   "source": [
    "#### Answer - \n",
    "\n",
    "Click on the ellipses (...) below to see the answers."
   ]
  },
  {
   "cell_type": "code",
   "execution_count": null,
   "id": "a9fcaad7-1c59-45ba-a7de-b0904311e819",
   "metadata": {
    "jupyter": {
     "source_hidden": true
    },
    "tags": []
   },
   "outputs": [],
   "source": [
    "# answer\n",
    "trees['neighborhood'].value_counts().head(10)"
   ]
  },
  {
   "cell_type": "markdown",
   "id": "e7ee4c06-10dd-4123-9b7a-8739fc4d4abc",
   "metadata": {},
   "source": [
    "#### Task - How many types of trees\n",
    "\n",
    "1. Review the [Pandas DataFrame Documentation](https://pandas.pydata.org/pandas-docs/version/1.5/reference/frame.html#computations-descriptive-stats) and identify a method that will return a *single* value representing how many types of trees are present in the dataset."
   ]
  },
  {
   "cell_type": "code",
   "execution_count": null,
   "id": "162c3cf6-00eb-48fb-88d5-f3c5ed3b6056",
   "metadata": {},
   "outputs": [],
   "source": [
    "# your code here\n"
   ]
  },
  {
   "cell_type": "markdown",
   "id": "2fe2a487-e32f-41b7-8cac-d1c108f34976",
   "metadata": {},
   "source": [
    "#### Answer - \n",
    "\n",
    "Click on the ellipses (...) below to see the answers."
   ]
  },
  {
   "cell_type": "code",
   "execution_count": null,
   "id": "4f657646-fe58-454a-b4f7-bd6f88be6957",
   "metadata": {
    "jupyter": {
     "source_hidden": true
    },
    "tags": []
   },
   "outputs": [],
   "source": [
    "# answer\n",
    "\n",
    "# return the number of unique values for the common_name column\n",
    "trees['common_name'].nunique()"
   ]
  },
  {
   "cell_type": "markdown",
   "id": "5d8c0520-3260-43ae-a45e-c9ef9118876a",
   "metadata": {},
   "source": [
    "#### Task - Types of trees in Latin\n",
    "\n",
    "1. Repeat the task above, but calculate the number of trees based on their botanical names.\n",
    "2. Is the number the same? Why might the two values be different?"
   ]
  },
  {
   "cell_type": "code",
   "execution_count": null,
   "id": "57598420-320a-4e39-a328-e47a80040411",
   "metadata": {},
   "outputs": [],
   "source": [
    "# your code here\n"
   ]
  },
  {
   "cell_type": "markdown",
   "id": "01f88aee-c86d-4c8a-91b4-23d46fddfc96",
   "metadata": {},
   "source": [
    "#### Answer - \n",
    "\n",
    "Click on the ellipses (...) below to see the answers."
   ]
  },
  {
   "cell_type": "code",
   "execution_count": null,
   "id": "60b3f17b-8123-429e-9309-eaf750c2f094",
   "metadata": {
    "jupyter": {
     "source_hidden": true
    },
    "tags": []
   },
   "outputs": [],
   "source": [
    "# answer \n",
    "\n",
    "# return the number of unique values for the scientific name\n",
    "trees['scientific_name'].nunique()"
   ]
  },
  {
   "cell_type": "markdown",
   "id": "48099f18-11bb-434c-bfe9-d11713b88ff5",
   "metadata": {
    "jupyter": {
     "source_hidden": true
    },
    "tags": []
   },
   "source": [
    "*answer*\n",
    "\n",
    "2. The number is not the same! There are more scientific names than common names. Dirty data? "
   ]
  },
  {
   "cell_type": "markdown",
   "id": "27cb5006-17c4-48c4-9cf6-d86f473454e5",
   "metadata": {},
   "source": [
    "#### Task - Which names not the same?\n",
    "\n",
    "The previous tasks showed that there is not a one to one correspondence between the common name and scientific name of the trees in the dataset. The code cell below tries to performs a series of computations on the data to identify the mismatch between common and scientific names, however there is a bug and it doesn't produce the correct results.\n",
    "\n",
    "1. Fix the bug in the code below so we can see which values for names are duplicated.\n",
    "2. Can you describe what these operations are doing and how they work to tell us about the mismatched names?"
   ]
  },
  {
   "cell_type": "code",
   "execution_count": null,
   "id": "920178ad-c33e-473d-8af8-42ce60278ac4",
   "metadata": {},
   "outputs": [],
   "source": [
    "# \n",
    "trees[['common_name','scientific_name']].drop_duplicates().value_counts(['scientific_name'])"
   ]
  },
  {
   "cell_type": "markdown",
   "id": "7bd3b05b-5d9d-4e52-8bdb-e905a24978f7",
   "metadata": {},
   "source": [
    "#### Answer - \n",
    "\n",
    "Click on the ellipses (...) below to see the answers."
   ]
  },
  {
   "cell_type": "code",
   "execution_count": null,
   "id": "4aac9400-3389-42a1-b971-3c5550f9d84b",
   "metadata": {
    "jupyter": {
     "source_hidden": true
    },
    "tags": []
   },
   "outputs": [],
   "source": [
    "# answer\n",
    "# select the name columns, create a dataframe of the unique pairs, and count the occurances of common name\n",
    "trees[['common_name','scientific_name']].drop_duplicates().value_counts(['common_name'])"
   ]
  },
  {
   "cell_type": "markdown",
   "id": "c40b1e4d-015f-4d32-a233-526e14df8afd",
   "metadata": {
    "jupyter": {
     "source_hidden": true
    },
    "tags": []
   },
   "source": [
    "*answer*\n",
    "\n",
    "2. The code first selects just the `common_name` and `scientific_name` columns from the trees datasets, this produces a new DataFrame of just those two columns. Then the [`drop_duplicates()` DataFrame method](https://pandas.pydata.org/pandas-docs/version/1.5/reference/api/pandas.DataFrame.drop_duplicates.html#pandas.DataFrame.drop_duplicates) is used to create yet another DataFrame of only the unique pairs of common and scientific name. The [`value_counts()` DataFrame method](https://pandas.pydata.org/pandas-docs/version/1.5/reference/api/pandas.DataFrame.value_counts.html#pandas.DataFrame.value_counts) is used to find the duplicate names. The `common_name` column needs to be used because that is the column with fewer unique values and therefor has duplicates that can be identified with `value_counts()` method."
   ]
  },
  {
   "cell_type": "markdown",
   "id": "55b81561-4ebb-4ee7-b632-b6ea64868dc5",
   "metadata": {},
   "source": [
    "## Filtering Data by value\n",
    "\n",
    "Pandas provides a couple mechanisms to create subsets of your data based upon particular criteria, *masking* and *querying*. This section will discuss how to create subset of your data by creating a *boolean mask* of values, `True`/`False`, based upon a logical criteria that applies to values within each row.\n",
    "\n",
    "The tasks below will show how to filter data using boolean masks."
   ]
  },
  {
   "cell_type": "markdown",
   "id": "050ed981-6e10-433a-a3d7-ea917d30b3c4",
   "metadata": {},
   "source": [
    "#### Task - Making the Yellowwood mask\n",
    "\n",
    "1. The code below selects the `common_name` column from the `trees` dataset, but is missing the appropriate [comparison operator](https://docs.python.org/3/library/stdtypes.html#comparisons). Replace the `???` below with the appropriate operator to produce a boolean mask for American Yellowwood trees.\n",
    "2. How many and what type of values are in the resulting Pandas Series? How does that compare to the number of trees? "
   ]
  },
  {
   "cell_type": "code",
   "execution_count": null,
   "id": "a9574f9b-1c10-4e2a-959c-d17cdc5fa1ab",
   "metadata": {},
   "outputs": [],
   "source": [
    "# which operator?\n",
    "yellowwood_mask = trees['common_name'] ??? \"Yellowwood: American\"\n",
    "yellowwood_mask"
   ]
  },
  {
   "cell_type": "markdown",
   "id": "cc19a4a3-5b14-4c9d-8592-b47d22ea1252",
   "metadata": {},
   "source": [
    "#### Answer - \n",
    "\n",
    "Click on the ellipses (...) below to see the answers."
   ]
  },
  {
   "cell_type": "code",
   "execution_count": null,
   "id": "3fffd355-00cf-49eb-9dc8-e4da73e48b09",
   "metadata": {
    "jupyter": {
     "source_hidden": true
    },
    "tags": []
   },
   "outputs": [],
   "source": [
    "# answer\n",
    "# True if the common name equals American yellowwood\n",
    "yellowwood_mask = trees['common_name'] == \"Yellowwood: American\"\n",
    "yellowwood_mask"
   ]
  },
  {
   "cell_type": "markdown",
   "id": "5fb41735-0566-43a8-a540-80f3809d17ec",
   "metadata": {
    "jupyter": {
     "source_hidden": true
    },
    "tags": []
   },
   "source": [
    "*answer*\n",
    "\n",
    "2. There are 45709 values in the series, th"
   ]
  },
  {
   "cell_type": "markdown",
   "id": "7935a37e-56b2-47b5-9aa2-e3c3a5a19fed",
   "metadata": {},
   "source": [
    "#### Task - Using the Yellowwood mask\n",
    "\n",
    "1. Use the boolean mask, `yellowwood_mask`, to index the `trees` DataFrame and select only the rows that match the conditional express from the task above."
   ]
  },
  {
   "cell_type": "code",
   "execution_count": null,
   "id": "81f367f0-bc7e-48f4-a912-36c10242fb6f",
   "metadata": {},
   "outputs": [],
   "source": [
    "# your code here\n"
   ]
  },
  {
   "cell_type": "markdown",
   "id": "9aa69cc6-3584-494b-a975-3ac461f22ed4",
   "metadata": {},
   "source": [
    "#### Answer - \n",
    "\n",
    "Click on the ellipses (...) below to see the answers."
   ]
  },
  {
   "cell_type": "code",
   "execution_count": null,
   "id": "fd2b8b3e-03e1-4b80-a2e0-79aa92ab3954",
   "metadata": {
    "jupyter": {
     "source_hidden": true
    },
    "tags": []
   },
   "outputs": [],
   "source": [
    "# answer\n",
    "\n",
    "# select american yellowwoods\n",
    "trees[yellowwood_mask]"
   ]
  },
  {
   "cell_type": "markdown",
   "id": "5a21f8fe-87f3-4be6-b029-8e5600d20731",
   "metadata": {},
   "source": [
    "#### Task - Create another Mask for Japanese pagodatree\n",
    "\n",
    "1. There were two types of trees with mismatched common and scientific names. Create a boolean mask and save it to the variable `pagodatree_mask` and generate a table like the one in the previous task but for the other tree type."
   ]
  },
  {
   "cell_type": "code",
   "execution_count": null,
   "id": "9dfa9cb5-e148-4cc9-9ea3-48f1f2183fac",
   "metadata": {},
   "outputs": [],
   "source": [
    "# your code here\n"
   ]
  },
  {
   "cell_type": "markdown",
   "id": "31a43b03-2684-47a1-86ff-54f09735b552",
   "metadata": {},
   "source": [
    "#### Answer - \n",
    "\n",
    "Click on the ellipses (...) below to see the answers."
   ]
  },
  {
   "cell_type": "code",
   "execution_count": null,
   "id": "ea520982-b8a6-40ca-9ede-98e5a3a5ecb8",
   "metadata": {
    "jupyter": {
     "source_hidden": true
    },
    "tags": []
   },
   "outputs": [],
   "source": [
    "# answer\n",
    "\n",
    "# create a mask\n",
    "pagodatree_mask = trees['common_name'] == \"Pagodatree: Japanese\" \n",
    "# select rows where mask is True\n",
    "trees[pagodatree_mask]"
   ]
  },
  {
   "cell_type": "markdown",
   "id": "3a032c0a-0965-4db3-8a32-800081401ee0",
   "metadata": {},
   "source": [
    "#### Task - Son of the Mask\n",
    "\n",
    "1. Use the two boolean mask variables with a [bitwise operation](https://docs.python.org/3/library/stdtypes.html#bitwise-operations-on-integer-types) to filter for rows matching both of the misnamed tree types. Note, you cannot use the Python [boolean comparions]() because they will not be applied on an element-wide basis. See [this post for an explaination](https://towardsdatascience.com/bitwise-operators-and-chaining-comparisons-in-pandas-d3a559487525)"
   ]
  },
  {
   "cell_type": "code",
   "execution_count": null,
   "id": "5e0d86e2-6132-44f6-84a1-ccb56c06f162",
   "metadata": {},
   "outputs": [],
   "source": [
    "# your code here"
   ]
  },
  {
   "cell_type": "markdown",
   "id": "9c31da66-48ec-4675-a0b6-05f470c82ef1",
   "metadata": {},
   "source": [
    "#### Answer - \n",
    "\n",
    "Click on the ellipses (...) below to see the answers."
   ]
  },
  {
   "cell_type": "code",
   "execution_count": null,
   "id": "180a25f5-acb6-48db-a43b-e6d14ace1966",
   "metadata": {
    "jupyter": {
     "source_hidden": true
    },
    "tags": []
   },
   "outputs": [],
   "source": [
    "# answer\n",
    "\n",
    "# filter for misnamed trees\n",
    "trees[yellowwood_mask | pagodatree_mask]"
   ]
  },
  {
   "cell_type": "markdown",
   "id": "eea9e8ab-8dad-4af8-beeb-c300ff52e421",
   "metadata": {},
   "source": [
    "#### Task - Display the misnamed trees\n",
    "\n",
    "\n",
    "|       | common_name          | scientific_name         |\n",
    "|------:|:---------------------|:------------------------|\n",
    "|   339 | Pagodatree: Japanese | Sophora japonica        |\n",
    "|  4335 | Yellowwood: American | Cladrastis kentukea     |\n",
    "| 31991 | Yellowwood: American | Cladrastis lutea        |\n",
    "| 32001 | Pagodatree: Japanese | Styphnolobium japonicum |\n",
    "\n",
    "\n",
    "1. Use your mask plus and some of the code from the task \"Which names not the same?\" to produce the table above.\n",
    "2. Do some web searching to determine what is the propert scientific name for these two trees."
   ]
  },
  {
   "cell_type": "code",
   "execution_count": null,
   "id": "b2faff6d-15c0-4510-8864-e8ba97f07067",
   "metadata": {},
   "outputs": [],
   "source": [
    "# your code here\n"
   ]
  },
  {
   "cell_type": "markdown",
   "id": "bd3c0c73-6272-44a4-928c-5881dab1efe7",
   "metadata": {},
   "source": [
    "#### Answer - \n",
    "\n",
    "Click on the ellipses (...) below to see the answers."
   ]
  },
  {
   "cell_type": "code",
   "execution_count": null,
   "id": "5e2b5499-1fe9-490f-a409-3514cd9837f3",
   "metadata": {
    "jupyter": {
     "source_hidden": true
    },
    "tags": []
   },
   "outputs": [],
   "source": [
    "# answer\n",
    "\n",
    "trees[yellowwood_mask | pagodatree_mask][['common_name','scientific_name']].drop_duplicates()"
   ]
  },
  {
   "cell_type": "markdown",
   "id": "5c0b0732-a9d3-4501-9131-48d3e792c109",
   "metadata": {
    "jupyter": {
     "source_hidden": true
    },
    "tags": []
   },
   "source": [
    "*answer*\n",
    "\n",
    "2. Wikipedia says\n",
    "- The scientific name of American Yellow wood is [*Cladrastis kentukea*](https://en.wikipedia.org/wiki/Cladrastis_kentukea) with *C lutea* as a synonym\n",
    "- The scientific name of Japanese Pagodatree is [*Styphnolobium japonicum*](https://en.wikipedia.org/wiki/Styphnolobium_japonicum) with *sephoa* as a synonym"
   ]
  },
  {
   "cell_type": "markdown",
   "id": "121058d3-ea9f-4d53-9e11-d96a11bd596f",
   "metadata": {},
   "source": [
    "## Query Method\n",
    "\n",
    "Because masking can be somewhat cumbersome, Pandas provides a [DataFrame method called `query()`](https://pandas.pydata.org/docs/reference/api/pandas.DataFrame.query.html#pandas.DataFrame.query) that allows for writing concise logical expressions as strings. Documentation and guidance on the `query()` method is a bit sparse. Refer to the [Pandas Cheatsheet](https://pandas.pydata.org/Pandas_Cheat_Sheet.pdf) for guidance on how to write query strings. Also Google. Under the hood the query methods uses the Pandas DataFrame `eval()` method so reviewing the documentation for that can help with understanding how the query strings are evaluated.\n",
    "\n",
    "The examples below show some of the functionality and ways of writing query strings."
   ]
  },
  {
   "cell_type": "code",
   "execution_count": null,
   "id": "02a3ce20-0dcf-490f-9fb5-0e297251922d",
   "metadata": {},
   "outputs": [],
   "source": [
    "# select stumps that aren't stumps\n",
    "trees.query(\"common_name == 'Stump' and height > 0\")"
   ]
  },
  {
   "cell_type": "markdown",
   "id": "ac7b846f-f48d-4898-b9e5-63a0e1fd67ac",
   "metadata": {},
   "source": [
    "The query below uses a vectorized string method, `startswith()` in the logical expression to select the different varieties of maple tree. The `engine=\"python\"` parameter is necessary when working with string methods inside of the query string. However, this still causes an error because the `common_name` column contains missing values which don't evaluate to True or False."
   ]
  },
  {
   "cell_type": "code",
   "execution_count": null,
   "id": "45f30c98-53ac-4c4e-9877-9d6718bdb899",
   "metadata": {},
   "outputs": [],
   "source": [
    "# filter for maple trees of all types\n",
    "trees.query(\"common_name.str.startswith('Maple')\", engine=\"python\")"
   ]
  },
  {
   "cell_type": "markdown",
   "id": "cde199e0-3748-4fb2-937b-09a8ababafc5",
   "metadata": {},
   "source": [
    "The solution is to expand the query string to first filter for the non-missing values in the `common_name` column and then filter for names that start with \"Maple\". "
   ]
  },
  {
   "cell_type": "code",
   "execution_count": null,
   "id": "3ef8381f-cd03-48b2-94b6-544210702f77",
   "metadata": {},
   "outputs": [],
   "source": [
    "# filter out missing values and then filter for maple tress.\n",
    "trees.query(\"common_name.notna() and common_name.str.startswith('Maple')\", engine=\"python\")"
   ]
  },
  {
   "cell_type": "markdown",
   "id": "dd737db1-9e42-4887-92bc-ac7064d1fddc",
   "metadata": {},
   "source": [
    "So many maple trees!"
   ]
  },
  {
   "cell_type": "markdown",
   "id": "24843e65-a8c8-476a-bb24-78b839f0e8ee",
   "metadata": {},
   "source": [
    "#### Task - Query misnamed trees\n",
    "\n",
    "1. Use the `query()` method and write a query string that is a boolean expression that will only match rows where the `scientific_name` matches the incorrect scientific names identified above."
   ]
  },
  {
   "cell_type": "code",
   "execution_count": null,
   "id": "9dd011a6-3127-486f-8a7d-1d89bf348fce",
   "metadata": {},
   "outputs": [],
   "source": [
    "# your code here\n"
   ]
  },
  {
   "cell_type": "markdown",
   "id": "19550665-dce9-431c-81e2-af986243e42a",
   "metadata": {},
   "source": [
    "#### Answer - \n",
    "\n",
    "Click on the ellipses (...) below to see the answers."
   ]
  },
  {
   "cell_type": "code",
   "execution_count": null,
   "id": "eaa2d91c-7cee-43f2-972d-1a96345e16c9",
   "metadata": {
    "jupyter": {
     "source_hidden": true
    },
    "tags": []
   },
   "outputs": [],
   "source": [
    "# answer\n",
    "trees.query(\"scientific_name == 'Sophora japonica'  or scientific_name == 'Cladrastis lutea' \")"
   ]
  },
  {
   "cell_type": "markdown",
   "id": "00189f06-0672-4820-ad91-a47b94116f49",
   "metadata": {},
   "source": [
    "#### Task - Fix the names\n",
    "\n",
    "1. Review documentation for the Pandas DataFrame `replace()` method and use it to update the scientific names for American Yellowwood and Japanese Pagodatree. The `replace()` method can be used in many different ways, try them.\n",
    "2. Test to see if the code works by using the query from the previous task.\n",
    "3. Once you have confirmed your `replace()` function is working correctly, add a parameter to update the `trees` DataFrame directly rather than creating a copy. \n"
   ]
  },
  {
   "cell_type": "code",
   "execution_count": null,
   "id": "000e07a9-491b-4b67-be4a-cea2ec8a15ee",
   "metadata": {},
   "outputs": [],
   "source": [
    "# your code here\n"
   ]
  },
  {
   "cell_type": "markdown",
   "id": "c38e5081-d55b-4ec7-a480-45fea5908c2b",
   "metadata": {},
   "source": [
    "#### Answer - \n",
    "\n",
    "Click on the ellipses (...) below to see the answers."
   ]
  },
  {
   "cell_type": "code",
   "execution_count": null,
   "id": "7358ebdf-8f42-45ae-9d00-4bba453868af",
   "metadata": {
    "jupyter": {
     "source_hidden": true
    },
    "tags": []
   },
   "outputs": [],
   "source": [
    "# show data before replacement\n",
    "trees.query(\"scientific_name == 'Sophora japonica'  or scientific_name == 'Cladrastis lutea' \")"
   ]
  },
  {
   "cell_type": "code",
   "execution_count": null,
   "id": "a7c149f5-c0bd-4f1a-888b-3dc4aacdeb9b",
   "metadata": {
    "jupyter": {
     "source_hidden": true
    },
    "tags": []
   },
   "outputs": [],
   "source": [
    "# replace with a dictionary\n",
    "trees.replace({\"Sophora japonica\":\"Styphnolobium japonicum\",\n",
    "               \"Cladrastis lutea\":\"Cladrastis kentukea\"}\n",
    "             ).query(\"scientific_name == 'Sophora japonica' or scientific_name == 'Cladrastis lutea' \")"
   ]
  },
  {
   "cell_type": "code",
   "execution_count": null,
   "id": "6141175b-089f-43c2-9d6d-7718c8af09d9",
   "metadata": {
    "jupyter": {
     "source_hidden": true
    },
    "tags": []
   },
   "outputs": [],
   "source": [
    "# replace with two lists\n",
    "trees.replace([\"Sophora japonica\",\"Cladrastis lutea\"], \n",
    "              [\"Styphnolobium japonicum\",\"Cladrastis kentukea\"]\n",
    "             ).query(\"scientific_name == 'Sophora japonica'  or scientific_name == 'Cladrastis lutea' \")"
   ]
  },
  {
   "cell_type": "code",
   "execution_count": null,
   "id": "83179540-0689-465e-9f5f-26d953a9e890",
   "metadata": {
    "jupyter": {
     "source_hidden": true
    },
    "tags": []
   },
   "outputs": [],
   "source": [
    "# use the dictionary replace and set inplace to True\n",
    "# replace with a dictionary\n",
    "trees.replace({\"Sophora japonica\":\"Styphnolobium japonicum\",\n",
    "               \"Cladrastis lutea\":\"Cladrastis kentukea\"\n",
    "              }, inplace=True)\n",
    "# check to see if the original dataframe has been updated\n",
    "trees.query(\"scientific_name == 'Sophora japonica'  or scientific_name == 'Cladrastis lutea' \")"
   ]
  },
  {
   "cell_type": "markdown",
   "id": "d7f03c3b-9ca0-47e2-a318-a5765d569f00",
   "metadata": {},
   "source": [
    "#### Task - Save the cleaner trees\n",
    "\n",
    "1. Save thee updated `trees` DataFrame as a CSV file called `pgh_trees_cleaner.csv` and don't include the index column in the output file."
   ]
  },
  {
   "cell_type": "code",
   "execution_count": null,
   "id": "2f3f8ac7-ace7-4e86-a95d-264172a8b591",
   "metadata": {},
   "outputs": [],
   "source": [
    "# your code here\n"
   ]
  },
  {
   "cell_type": "markdown",
   "id": "bfab67ff-814b-4a32-ab54-82d37c4c4cbb",
   "metadata": {},
   "source": [
    "#### Answer - \n",
    "\n",
    "Click on the ellipses (...) below to see the answers."
   ]
  },
  {
   "cell_type": "code",
   "execution_count": null,
   "id": "7907c54f-1542-480f-920d-91db1eaf5749",
   "metadata": {
    "jupyter": {
     "source_hidden": true
    },
    "tags": []
   },
   "outputs": [],
   "source": [
    "#answer\n",
    "# save cleaner trees to disk\n",
    "trees.to_csv('pgh_trees_cleaner.csv', index=False)"
   ]
  },
  {
   "cell_type": "markdown",
   "id": "723f3c82-3b11-4d09-a72e-0997066b715e",
   "metadata": {},
   "source": [
    "## Grouping data\n",
    "\n",
    "Grouping operations, often called \"group by,\" are designed to aggregate datasets by grouping rows based upon a particular value, typically categorical data types, and then computing a single value through an operation that summarizes all the rows associated with the group.\n",
    "\n",
    "Groupby operations require two things. First, a column of values in which to *group by*, that is, the values that will become rows in the new DataFrame. Second, an operation that can *aggregate* multiple rows into a single row. Groupby operations will then perform the aggregation operation on all rows that have the same value for the particular group by column. Mathematical aggregation operations will automatically be applied to numerical columns."
   ]
  },
  {
   "cell_type": "markdown",
   "id": "e435e004-7e4b-4d12-aa48-fff203ed77a9",
   "metadata": {},
   "source": [
    "#### Task - Identifying columns for grouping operations\n",
    "\n",
    "1. Look at the tree data and consider, what columns are suitable for grouping and what columns are suitable for aggregation? You don't have to list all of them, just highlight some that might be most interesting."
   ]
  },
  {
   "cell_type": "markdown",
   "id": "0a359982-938f-4da0-918a-97a43e068b55",
   "metadata": {},
   "source": [
    "|    |         id |   address_number | street        | common_name        | scientific_name   |   height |   width |   growth_space_length |   growth_space_width | growth_space_type    |   diameter_base_height |   stems | overhead_utilities   | land_use              | condition   |   stormwater_benefits_dollar_value |   stormwater_benefits_runoff_elim |   property_value_benefits_dollarvalue |   property_value_benefits_leaf_surface_area |   energy_benefits_electricity_dollar_value |   energy_benefits_gas_dollar_value |   air_quality_benfits_o3dep_dollar_value |   air_quality_benfits_o3dep_lbs |   air_quality_benfits_vocavd_dollar_value |   air_quality_benfits_vocavd_lbs |   air_quality_benfits_no2dep_dollar_value |   air_quality_benfits_no2dep_lbs |   air_quality_benfits_no2avd_dollar_value |   air_quality_benfits_no2avd_lbs |   air_quality_benfits_so2dep_dollar_value |   air_quality_benfits_so2dep_lbs |   air_quality_benfits_so2avd_dollar_value |   air_quality_benfits_so2avd_lbs |   air_quality_benfits_pm10depdollar_value |   air_quality_benfits_pm10dep_lbs |   air_quality_benfits_pm10avd_dollar_value |   air_quality_benfits_pm10avd_lbs |   air_quality_benfits_total_dollar_value |   air_quality_benfits_total_lbs |   co2_benefits_dollar_value |   co2_benefits_sequestered_lbs |   co2_benefits_sequestered_value |   co2_benefits_avoided_lbs |   co2_benefits_avoided_value |   co2_benefits_decomp_lbs |   co2_benefits_maint_lbs |   co2_benefits_totalco2_lbs |   overall_benefits_dollar_value | neighborhood     |   council_district |   ward |       tract |   public_works_division |   pli_division |   police_zone | fire_zone   |   latitude |   longitude |\n",
    "|---:|-----------:|-----------------:|:--------------|:-------------------|:------------------|---------:|--------:|----------------------:|---------------------:|:---------------------|-----------------------:|--------:|:---------------------|:----------------------|:------------|-----------------------------------:|----------------------------------:|--------------------------------------:|--------------------------------------------:|-------------------------------------------:|-----------------------------------:|-----------------------------------------:|--------------------------------:|------------------------------------------:|---------------------------------:|------------------------------------------:|---------------------------------:|------------------------------------------:|---------------------------------:|------------------------------------------:|---------------------------------:|------------------------------------------:|---------------------------------:|------------------------------------------:|----------------------------------:|-------------------------------------------:|----------------------------------:|-----------------------------------------:|--------------------------------:|----------------------------:|-------------------------------:|---------------------------------:|---------------------------:|-----------------------------:|--------------------------:|-------------------------:|----------------------------:|--------------------------------:|:-----------------|-------------------:|-------:|------------:|------------------------:|---------------:|--------------:|:------------|-----------:|------------:|\n",
    "|  0 |  754166088 |             7428 | MONTICELLO ST | Stump              | Stump             |        0 |       0 |                    10 |                    2 | Well or Pit          |                     16 |       1 | Yes                  | Vacant                | nan         |                          nan       |                           nan     |                              nan      |                                    nan      |                                  nan       |                           nan      |                               nan        |                      nan        |                               nan         |                     nan          |                                nan        |                      nan         |                                nan        |                       nan        |                               nan         |                      nan         |                                nan        |                      nan         |                                nan        |                       nan         |                                 nan        |                       nan         |                                nan       |                      nan        |                  nan        |                        nan     |                       nan        |                   nan      |                   nan        |                 nan       |                nan       |                     nan     |                        nan      | Homewood North   |                  9 |     13 | 4.20031e+10 |                       2 |             13 |             5 | 3-17        |    40.4582 |    -79.8897 |\n",
    "|  1 | 1946899269 |              220 | BALVER AVE    | Linden: Littleleaf | Tilia cordata     |        0 |       0 |                    99 |                   99 | Open or Unrestricted |                     22 |       0 | No                   | Residential           | nan         |                           13.9467  |                          1743.34  |                               21.9848 |                                     36.5383 |                                   15.7765  |                            61.0683 |                                 2.36085  |                        0.514346 |                                 0.0721382 |                       0.0312287  |                                  0.992384 |                        0.216206  |                                  3.70231  |                         0.806603 |                                 0.274901  |                        0.0789944 |                                  1.40772  |                        0.404518  |                                  2.18533  |                         0.262976  |                                   0.46181  |                         0.0555728 |                                 11.4574  |                        2.37044  |                    0.944601 |                        115.328 |                         0.847431 |                   277.541  |                     2.03937  |                 -96.3455  |                -13.7088  |                     282.815 |                        125.178  | Oakwood          |                  2 |     28 | 4.20036e+10 |                       5 |             28 |             6 | 1-19        |    40.4293 |    -80.0679 |\n",
    "|  2 | 1431517397 |             2822 | SIDNEY ST     | Maple: Red         | Acer rubrum       |       22 |       6 |                     6 |                    3 | Well or Pit          |                      6 |       1 | No                   | Commercial/Industrial | Fair        |                            3.97486 |                           496.857 |                               51.5291 |                                     85.6404 |                                    3.38882 |                            16.0847 |                                 0.464026 |                        0.101095 |                                 0.0176434 |                       0.00763782 |                                  0.200391 |                        0.0436582 |                                  0.875966 |                         0.190842 |                                 0.0587249 |                        0.016875  |                                  0.302735 |                        0.0869929 |                                  0.444639 |                         0.0535065 |                                   0.110526 |                         0.0133004 |                                  2.47465 |                        0.513908 |                    0.314952 |                         45.288 |                         0.332776 |                    59.6164 |                     0.438061 |                  -6.86864 |                 -3.73876 |                      94.297 |                         77.7671 | South Side Flats |                  3 |     16 | 4.20032e+10 |                       3 |             16 |             3 | 4-24        |    40.4268 |    -79.965  |\n",
    "|  3 |  994063598 |              608 | SUISMON ST    | Maple: Freeman     | Acer x freemanii  |       25 |      10 |                     3 |                    3 | Well or Pit          |                      7 |       1 | Conflicting          | Residential           | Fair        |                            4.77566 |                           596.958 |                               43.1845 |                                     71.7718 |                                    5.39622 |                            24.2209 |                                 0.742735 |                        0.161816 |                                 0.0270871 |                       0.011726   |                                  0.312209 |                        0.0680194 |                                  1.357    |                         0.295642 |                                 0.0864852 |                        0.0248521 |                                  0.481898 |                        0.138476  |                                  0.687516 |                         0.0827335 |                                   0.170684 |                         0.0205395 |                                  3.86561 |                        0.803805 |                    0.395314 |                         33.565 |                         0.246635 |                    94.9307 |                     0.697551 |                  -5.77618 |                 -4.36189 |                     118.358 |                         81.8383 | East Allegheny   |                  1 |     23 | 4.20036e+10 |                       1 |             23 |             1 | 1-6         |    40.4555 |    -79.9993 |\n",
    "|  4 | 1591838573 |             1135 | N NEGLEY AVE  | Maple: Norway      | Acer platanoides  |       52 |      13 |                    99 |                   99 | Open or Unrestricted |                     38 |       1 | Yes                  | Residential           | Good        |                           41.2284  |                          5153.55  |                              194.129  |                                    322.638  |                                   28.5715  |                            94.9301 |                                 5.87279  |                        1.27948  |                                 0.138217  |                       0.0598343  |                                  2.53883  |                        0.553121  |                                  7.27429  |                         1.58481  |                                 0.730628  |                        0.209951  |                                  2.95144  |                        0.848114  |                                  5.27533  |                         0.634817  |                                   0.856869 |                         0.103113  |                                 25.6384  |                        5.27324  |                    6.04169  |                       1391.74  |                        10.2265   |                   582.319  |                     4.27888  |                -137.739   |                -27.4328  |                    1808.89  |                        390.539  | Highland Park    |                  7 |     11 | 4.20031e+10 |                       2 |             11 |             5 | 3-9         |    40.4767 |    -79.9241 |"
   ]
  },
  {
   "cell_type": "raw",
   "id": "a02f0cf1-c94f-45b8-acca-f62b84ed9458",
   "metadata": {},
   "source": [
    "# Your answer here\n"
   ]
  },
  {
   "cell_type": "markdown",
   "id": "94d11714-6bc4-433d-83e4-06060ecfd25e",
   "metadata": {},
   "source": [
    "#### Answer - \n",
    "\n",
    "Click on the ellipses (...) below to see the answers."
   ]
  },
  {
   "cell_type": "markdown",
   "id": "9c0ed73f-e60f-45f6-8f3b-df7d7bd8fa6d",
   "metadata": {
    "jupyter": {
     "source_hidden": true
    },
    "tags": []
   },
   "source": [
    "*answer* \n",
    "\n",
    "`common_name` would be a good column for grouping because it contains categorical data. The `neighborhood` column could also be used as a group column. Columns that contain values for which you want to see the distrbution of different aggregations across the unique values in that categorical column are good candidates for groupby. The `height`, `width`, or `overall_benefits_dollar_value` column would all be good for aggregation because they contains numerical data that can be easily aggregated. "
   ]
  },
  {
   "cell_type": "markdown",
   "id": "6725a6f7-e2f6-4784-aec5-8c33731fd409",
   "metadata": {},
   "source": [
    "#### Task - Finding the aggregation functions\n",
    "\n",
    "Review the [pandas documentation](https://pandas.pydata.org/pandas-docs/version/0.23/api.html#id39) of the built-in aggregation functions for the group by operations. \n",
    "1. What groupby and aggregation function would give us the total economic benefit per neighborhood? \n",
    "2. What aggregation function would tell us how many types of trees are present in the dataset?\n",
    "3. Are there aggregation functions that could perform computations on non-numeric columns? "
   ]
  },
  {
   "cell_type": "raw",
   "id": "aa8cd64e-62e0-449d-a1e3-a7acc478739b",
   "metadata": {},
   "source": [
    "# your answer here\n"
   ]
  },
  {
   "cell_type": "markdown",
   "id": "16ac24cd-8872-4f0d-bbfc-06820efae7f9",
   "metadata": {
    "jupyter": {
     "source_hidden": true
    },
    "tags": []
   },
   "source": [
    "*answer*\n",
    "\n",
    "1. Using the `sum` aggregation function and grouping by `neighborhood` and then selecting the `overall_benefits_dollar_value` column would \n",
    "2. Grouping by `common_name` or `scientific_name` and computing the `size()`\n",
    "3. Look for functions that can produce a single value from categorical content. The `count` and `size` methods will just calculate the total number of values. The `first` and `last` will return the first and last value from the group."
   ]
  },
  {
   "cell_type": "markdown",
   "id": "02a5b982-08a1-49ee-97d3-3928ccd5700e",
   "metadata": {},
   "source": [
    "#### Task -  Grouping and aggregating trees\n",
    "\n",
    "1. Modify the code cell below to put a categorical column name in as the parameter for the `groupby()` method and add an aggregation method. "
   ]
  },
  {
   "cell_type": "code",
   "execution_count": null,
   "id": "6767f7a2-c1fc-4e1f-beda-0c2febe5093e",
   "metadata": {
    "collapsed": false,
    "jupyter": {
     "outputs_hidden": false
    }
   },
   "outputs": [],
   "source": [
    "# Your code here\n",
    "# grouping by a category and aggregating by an aggregation function\n",
    "trees.groupby(???).???()"
   ]
  },
  {
   "cell_type": "markdown",
   "id": "3139c5ff-c500-4faf-805b-47e75ea04b65",
   "metadata": {},
   "source": [
    "#### Answer - \n",
    "\n",
    "Click on the ellipses (...) below to see the answers."
   ]
  },
  {
   "cell_type": "code",
   "execution_count": null,
   "id": "623d7844-c346-48ef-bc0a-ec92e8adcb68",
   "metadata": {
    "jupyter": {
     "source_hidden": true
    },
    "tags": []
   },
   "outputs": [],
   "source": [
    "# Answer 1\n",
    "# grouping by common name and computing the median value for all numeric columns\n",
    "trees.groupby(\"common_name\").median()"
   ]
  },
  {
   "cell_type": "markdown",
   "id": "f75fafdd-cfd4-4184-bb00-782a4d886035",
   "metadata": {},
   "source": [
    "#### Task - Meaningful Means\n",
    "\n",
    "1. The code below groups by the neighborhood name, selects by a subset of columns, and then aggregates by the mean. However, the aggregation is computing meaningless values for numeric columns. \n",
    "2. Modify the code to calculate the mean just for the columns about the trees themselves."
   ]
  },
  {
   "cell_type": "code",
   "execution_count": null,
   "id": "1cea222d-536c-4042-bf71-6c86dcf61bd8",
   "metadata": {},
   "outputs": [],
   "source": [
    "# group by neighborhood, select location columns, and compute the mean\n",
    "trees.groupby(\"neighborhood\")[location_columns].mean()"
   ]
  },
  {
   "cell_type": "code",
   "execution_count": null,
   "id": "d95451a5-a783-40a3-ab65-0f0f15361d74",
   "metadata": {},
   "outputs": [],
   "source": [
    "# your code here\n"
   ]
  },
  {
   "cell_type": "markdown",
   "id": "6a3ea3a4-27cc-41fe-be88-40566db705ff",
   "metadata": {},
   "source": [
    "#### Answer - \n",
    "\n",
    "Click on the ellipses (...) below to see the answers."
   ]
  },
  {
   "cell_type": "code",
   "execution_count": null,
   "id": "a1ca0a59-985a-4a3d-845a-dba00e7cd574",
   "metadata": {
    "jupyter": {
     "source_hidden": true
    },
    "tags": []
   },
   "outputs": [],
   "source": [
    "# answer\n",
    "# aggregate treeby the mean\n",
    "trees.groupby(\"neighborhood\")[tree_info_columns].mean()"
   ]
  },
  {
   "cell_type": "markdown",
   "id": "f0c09fdc-485b-40e2-bd69-148fc4ab3711",
   "metadata": {},
   "source": [
    "#### Task - The Sorting Hat\n",
    "\n",
    "1. Copy your answer to the previous task and add code to sort the results by a column of your choosing. \n"
   ]
  },
  {
   "cell_type": "code",
   "execution_count": null,
   "id": "bab7b937-a3c8-401e-98ac-f23643411778",
   "metadata": {},
   "outputs": [],
   "source": [
    "# your code here\n"
   ]
  },
  {
   "cell_type": "markdown",
   "id": "3bfbcc8b-0756-4e86-b595-6dd0b6d4c991",
   "metadata": {},
   "source": [
    "#### Answer - \n",
    "\n",
    "Click on the ellipses (...) below to see the answers."
   ]
  },
  {
   "cell_type": "code",
   "execution_count": null,
   "id": "024f7788-5821-4937-b323-92d678b30115",
   "metadata": {
    "jupyter": {
     "source_hidden": true
    },
    "tags": []
   },
   "outputs": [],
   "source": [
    "# answer\n",
    "\n",
    "# tree summaries per neighborhood, sorted by \n",
    "trees.groupby(\"neighborhood\")[tree_info_columns].mean().sort_values(by=\"height\")"
   ]
  },
  {
   "cell_type": "markdown",
   "id": "db94a99d-83a7-4664-af88-4e0f663ea7bb",
   "metadata": {},
   "source": [
    "#### Task - Neighborhoods with the most valuable trees\n",
    "\n",
    "1. Use the groupby, aggregation, and sorting methods to calculate the total economic value of all the trees per neighborhood.\n",
    "2. Save the results in a variable called `value_per_neighborhood` and display the results"
   ]
  },
  {
   "cell_type": "code",
   "execution_count": null,
   "id": "5752d33e-54f0-463e-bd0e-9f22a6b85c75",
   "metadata": {},
   "outputs": [],
   "source": [
    "# your code here\n"
   ]
  },
  {
   "cell_type": "markdown",
   "id": "8adfef62-7913-47f5-b2c0-ea21c71b37df",
   "metadata": {},
   "source": [
    "#### Answer - \n",
    "\n",
    "Click on the ellipses (...) below to see the answers."
   ]
  },
  {
   "cell_type": "code",
   "execution_count": null,
   "id": "2a670868-9d34-4d20-be51-4c5edff818fb",
   "metadata": {
    "jupyter": {
     "source_hidden": true
    },
    "tags": []
   },
   "outputs": [],
   "source": [
    "# answer\n",
    "\n",
    "# Group by neighborhood and select the overal_benefits_value column and compute the sum. sort the resultsing series\n",
    "value_per_neighborhood = trees.groupby('neighborhood')['overall_benefits_dollar_value'].sum().sort_values(ascending=False)\n",
    "value_per_neighborhood"
   ]
  },
  {
   "cell_type": "markdown",
   "id": "5721175b-6188-4f73-bb0c-dfc6af8f345d",
   "metadata": {},
   "source": [
    "#### Task - How many trees per neighborhood?\n",
    "\n",
    "1. Not every neighborhood has the same number of trees. Use groupby, aggregation, and sorting methods to calculate how many trees there are in each neighborhood.\n",
    "2. Save the results in a variable called `trees_per_neighborhood` and display the results"
   ]
  },
  {
   "cell_type": "code",
   "execution_count": null,
   "id": "cd8cc1a8-bf11-4c6f-a9db-b330f8a3dd57",
   "metadata": {},
   "outputs": [],
   "source": [
    "# your code here\n"
   ]
  },
  {
   "cell_type": "markdown",
   "id": "310631bf-e9a7-48e5-b340-92a7ca6495c1",
   "metadata": {},
   "source": [
    "#### Answer - \n",
    "\n",
    "Click on the ellipses (...) below to see the answers."
   ]
  },
  {
   "cell_type": "code",
   "execution_count": null,
   "id": "2447fb35-6c10-49d7-91ac-2d36dc7ab2f1",
   "metadata": {
    "jupyter": {
     "source_hidden": true
    },
    "tags": []
   },
   "outputs": [],
   "source": [
    "# answer\n",
    "\n",
    "# calculate the number of trees per neigborhood\n",
    "trees_per_neighborhood = trees.groupby('neighborhood').size().sort_values()\n",
    "trees_per_neighborhood"
   ]
  },
  {
   "cell_type": "markdown",
   "id": "b7b6dd84-d831-4d70-a79b-3719419491b5",
   "metadata": {},
   "source": [
    "#### Task - Neighborhood value per trees\n",
    "\n",
    "1. Using the `value_per_neighborhood` and `trees_per_neighborhood` variables, compute new economic value for each neighborhood based upon the number of trees.\n",
    "2. Save the results in a variable `value_by_tree` and display the results sorted from high to low. Are the results different than the total economic benefit per neighborhood? "
   ]
  },
  {
   "cell_type": "code",
   "execution_count": null,
   "id": "57810151-9a59-499f-84de-ab174b30d3f1",
   "metadata": {
    "jupyter": {
     "source_hidden": true
    },
    "tags": []
   },
   "outputs": [],
   "source": [
    "# answer\n",
    "\n",
    "# calculate the total economic value per neighborhood divided by the number of trees per neighborhood\n",
    "value_by_trees = value_per_neighborhood / trees_per_neighborhood\n",
    "# sort from high to low\n",
    "value_by_trees.sort_values(ascending=False)"
   ]
  },
  {
   "cell_type": "code",
   "execution_count": null,
   "id": "770b39c2-e097-4d7f-a315-5195397849c7",
   "metadata": {},
   "outputs": [],
   "source": []
  }
 ],
 "metadata": {
  "kernelspec": {
   "display_name": "Python 3 (ipykernel)",
   "language": "python",
   "name": "python3"
  },
  "language_info": {
   "codemirror_mode": {
    "name": "ipython",
    "version": 3
   },
   "file_extension": ".py",
   "mimetype": "text/x-python",
   "name": "python",
   "nbconvert_exporter": "python",
   "pygments_lexer": "ipython3",
   "version": "3.9.13"
  }
 },
 "nbformat": 4,
 "nbformat_minor": 5
}
