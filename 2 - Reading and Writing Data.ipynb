{
 "cells": [
  {
   "cell_type": "markdown",
   "id": "2ddf0288-8d81-4ba3-a1cc-86a78dbe6f8f",
   "metadata": {},
   "source": [
    "# Loading Data into Pandas\n",
    "\n",
    "In the previous lesson you explicitly encoded your data by hand in Python data structures. This approach to managing data does not work when you have larger amounts of data. This lesson will show you the basics functions for loading tabulated data that has been saved as a Comma Separated Values (CSV) file into a Pandas DataFrame. Additionally, this lesson will demonstrate how to do some basic exploration of the data values as well as show how to read metadata about the DataFrame and the types of values. Pandas functions for loading data files are very robust, this lesson will only show the basics necessary for getting started with loading data.\n",
    "\n",
    "## Learning Objectives\n",
    "\n",
    "By the end of this lesson, you will be familiar with\n",
    "\n",
    "- Opening CSV data files and loading them into a Pandas DataFrame with the `read_csv()` function.\n",
    "- Displaying the partial contents of a DataFrame with the `head()` and `tail()` methods.\n",
    "- Inspect the DataFrame and see the number of columns and rows as well as their data types.\n",
    "- Understand what type of data the `Object` data type represents. \n",
    "- Know how to interpret the results of the `info()` method.\n",
    "- How to save a DataFrame to disk in an Excel format.\n",
    "\n",
    "\n",
    "TODO loading data directly from the web. \n",
    "\n",
    "## Data used in this lesson\n",
    "\n",
    "- [Pittsburgh Neighborhood Data](https://ucsur.pitt.edu/files/census/UCSUR_SF1_NeighborhoodProfiles_July2011.pdf) - This dataset was extracted from a 2010 Pittsburgh Neighborhood Profiles PDF document. This dataset includes rankings of each neighborhood across a variety of metrics including population, age, race, and housing. The dataset represents information from 2010. Each row is a neighborhood and there are 90 entries.\n",
    "    - The datset is stored as a CSV file with the name `pgh-neighborhood-data-2010.csv` in the `datasets` directory.\n",
    "\n",
    "The data are formatted as a CSV file. You will be using Pandas to read this CSV file into a Dataframe and then write it back to disk as an Excel spreadsheet. \n"
   ]
  },
  {
   "cell_type": "code",
   "execution_count": null,
   "id": "c79d674f-2224-4aa4-80ac-0521bc9f5563",
   "metadata": {},
   "outputs": [],
   "source": [
    "# load pandas\n",
    "import pandas as pd"
   ]
  },
  {
   "cell_type": "markdown",
   "id": "424627a0-6ca6-49c4-8079-6db7fe6f5bfe",
   "metadata": {},
   "source": [
    "## Reading Data into a Dataframe\n",
    "\n",
    "In the previous lesson we had to type all of our data into the code and create Pandas data structures. This is laborious and takes a lot of time. When we have large datasets it doesn't make sense to type them out or even copy and paste them. Fortunately, Pandas provides a function, `read_csv`, that makes reading data files into a pandas dataframe very easy!\n",
    "\n",
    "The `read_csv` function is a top level Pandas function, so it is called via the alias `pd`. The `read_csv` function has many, many parameters. Refer to [the Pandas `read_csv` documentation for more information.](https://pandas.pydata.org/docs/reference/api/pandas.read_csv.html). In the example below, the file path of a CSV file, `my_data.csv` in the `data_pile` directory is loaded into a DataFrame called `example_dataframe`.\n",
    "\n",
    "```python\n",
    "# read a data file called \"my_data.csv\" into a dataframe called example_dataframe\n",
    "example_dataframe = pd.read_csv(\"data_pile/my_data.csv\")\n",
    "```"
   ]
  },
  {
   "cell_type": "markdown",
   "id": "e28ed6a4-e214-411e-904a-1c16285f5fc2",
   "metadata": {},
   "source": [
    "#### Task - Loading Data into Pandas from Disk\n",
    "\n",
    "- Copy the example above, but open a data file called \"pgh-neighborhood-data.csv\" in the \"datasets\" directory and give it a variable name of \"pgh_neighborhood_data\". Remember, to "
   ]
  },
  {
   "cell_type": "code",
   "execution_count": null,
   "id": "4010b9c0-35da-461e-9c75-6ff135e83cb0",
   "metadata": {},
   "outputs": [],
   "source": [
    "# Your code here\n"
   ]
  },
  {
   "cell_type": "markdown",
   "id": "a05813c2-b6cd-407d-8c8a-de17856e4a25",
   "metadata": {},
   "source": [
    "#### Answer - Loading Data into Pandas from Disk\n",
    "\n",
    "Click on the ellipses (...) below to see the answers."
   ]
  },
  {
   "cell_type": "code",
   "execution_count": null,
   "id": "f5e1aa81-5705-471f-90bd-6629476ca425",
   "metadata": {
    "jupyter": {
     "source_hidden": true
    },
    "tags": []
   },
   "outputs": [],
   "source": [
    "# answer\n",
    "\n",
    "pgh_neighborhood_data = pd.read_csv(\"datasets/pgh-neighborhood-data.csv\")"
   ]
  },
  {
   "cell_type": "markdown",
   "id": "5273e92e-9483-4b64-9efd-bc04b2dfb04a",
   "metadata": {},
   "source": [
    "## Displaying DataFrames\n",
    "\n",
    "Once you load a CSV file into a DataFrame, you can begin to manipulate it. The first step to working with data in Pandas is looking at it to see if it loaded correctly."
   ]
  },
  {
   "cell_type": "markdown",
   "id": "9ff92f70-d36b-49c6-a2a4-fbb67b76ba1c",
   "metadata": {},
   "source": [
    "#### Task - Displaying a Dataframe\n",
    "\n",
    "1. Put the name of the variable containing the dataframe in the code cell below.\n",
    "2. Look at the output, consider what portions of the dataframe are being displayed in the output."
   ]
  },
  {
   "cell_type": "code",
   "execution_count": null,
   "id": "1b60d092-057c-4534-951d-e35e7bf331c3",
   "metadata": {},
   "outputs": [],
   "source": [
    "# your code here\n"
   ]
  },
  {
   "cell_type": "markdown",
   "id": "f2b20f97-e3ac-4113-a98d-4c7a6268b437",
   "metadata": {},
   "source": [
    "#### Answer - Displaying a Dataframe\n",
    "\n",
    "Click on the ellipses (...) below to see the answers."
   ]
  },
  {
   "cell_type": "code",
   "execution_count": null,
   "id": "87ca9daf-b6fa-4d75-a296-f868f3d18ae3",
   "metadata": {
    "jupyter": {
     "source_hidden": true
    },
    "tags": []
   },
   "outputs": [],
   "source": [
    "# answer\n",
    "pgh_neighborhood_data"
   ]
  },
  {
   "cell_type": "markdown",
   "id": "813bcd18-e016-4dfe-b01f-e12d4d108d66",
   "metadata": {},
   "source": [
    "## Heads and Tails\n",
    "\n",
    "By default, pandas will display the first and last five rows of a large dataframe. However, sometimes you may want to see a specific number of rows from the beginning (or end) of the dataframe. Pandas dataframes have the `head(N)` function which takes an argument, `n`, which is a number to indicate how many rows to display.\n",
    "\n",
    "```python\n",
    "# display the first three rows\n",
    "my_dataframe.head(3)\n",
    "```"
   ]
  },
  {
   "cell_type": "markdown",
   "id": "6eb18927-74b3-4142-95b0-c468832a8c1c",
   "metadata": {},
   "source": [
    "#### Task - Displaying Specific Rows of a Dataframe\n",
    "1. Use the `head()` function to dispay the first 8 rows of the Pittsburgh Neighborhood dataset\n",
    "2. Try a much larger number and see what happens."
   ]
  },
  {
   "cell_type": "code",
   "execution_count": null,
   "id": "d15669a7-04c7-4aa2-9894-be4dd3fff985",
   "metadata": {},
   "outputs": [],
   "source": [
    "# your code here\n"
   ]
  },
  {
   "cell_type": "markdown",
   "id": "c9cfe7ff-93df-4d2d-94ce-483d9c125197",
   "metadata": {},
   "source": [
    "#### Answer - Displaying Specific Rows of a Dataframe\n",
    "\n",
    "Click on the ellipses (...) below to see the answers."
   ]
  },
  {
   "cell_type": "code",
   "execution_count": null,
   "id": "9b408bbe-57d8-4eb8-b75c-979bb85dc56b",
   "metadata": {
    "jupyter": {
     "source_hidden": true
    },
    "tags": []
   },
   "outputs": [],
   "source": [
    "# answer task 1\n",
    "pgh_neighborhood_data.head(8)"
   ]
  },
  {
   "cell_type": "code",
   "execution_count": null,
   "id": "527a916d-1987-44d4-b894-773257c8dcaf",
   "metadata": {
    "jupyter": {
     "source_hidden": true
    },
    "tags": []
   },
   "outputs": [],
   "source": [
    "# answer task 2\n",
    "pgh_neighborhood_data.head(80)"
   ]
  },
  {
   "cell_type": "markdown",
   "id": "910a04f8-3251-47b4-8f87-e8a63cf952fd",
   "metadata": {},
   "source": [
    "If you picked a large enough number, you may have noticed Pandas defaulted back to the first and last 5 rows. There is a limit to how many rows Pandas will display in the output. See if you can find out what that limit is."
   ]
  },
  {
   "cell_type": "markdown",
   "id": "9c5e7281-4e60-460d-a321-13427420334e",
   "metadata": {},
   "source": [
    "#### Task - Finding the Max Number of Rows to be Displayed\n",
    "\n",
    "1. Try different numbers in the `head` function to see what largest number you can use as an argument for the head function before Pandas defaults to the first and last 5 rows.\n",
    "2. BONUS: Do some googling to see if you can figure out how to change that limit. Set the number to 90 so every neighborhood in Pittsburgh can be displayed.\n",
    "3. BONUS: Reset the number back to the default value"
   ]
  },
  {
   "cell_type": "code",
   "execution_count": null,
   "id": "8bf1e651-dc46-4622-a2b1-4c7366605808",
   "metadata": {},
   "outputs": [],
   "source": [
    "# your code here\n"
   ]
  },
  {
   "cell_type": "markdown",
   "id": "d13d6f12-d543-458b-8a7c-f6c300904cce",
   "metadata": {},
   "source": [
    "#### Answer - Finding the Max Number of Rows to be Displayed\n",
    "\n",
    "Click on the ellipses (...) below to see the answers."
   ]
  },
  {
   "cell_type": "code",
   "execution_count": null,
   "id": "073bc84f-9b8b-4c68-b1df-120d2a6af739",
   "metadata": {
    "jupyter": {
     "source_hidden": true
    },
    "tags": []
   },
   "outputs": [],
   "source": [
    "# answer 1\n",
    "pgh_neighborhood_data.head(60)"
   ]
  },
  {
   "cell_type": "code",
   "execution_count": null,
   "id": "a9d25e4d-6805-47fb-86ae-166fadfb9acd",
   "metadata": {
    "jupyter": {
     "source_hidden": true
    },
    "tags": []
   },
   "outputs": [],
   "source": [
    "# bonus answer 2\n",
    "pd.set_option('display.max_rows', 90)\n",
    "pgh_neighborhood_data"
   ]
  },
  {
   "cell_type": "code",
   "execution_count": null,
   "id": "75195933-abad-431e-9cfd-5103acad9564",
   "metadata": {
    "jupyter": {
     "source_hidden": true
    },
    "tags": []
   },
   "outputs": [],
   "source": [
    "# answer 3\n",
    "# bonus answer\n",
    "pd.set_option('display.max_rows', 60)\n",
    "pgh_neighborhood_data"
   ]
  },
  {
   "cell_type": "markdown",
   "id": "09be8e9a-010c-42ff-93f1-8b87e4f34dcf",
   "metadata": {},
   "source": [
    "#### Task - Displaying the last rows of a dataframe\n",
    "\n",
    "Pandas Dataframes have another function for displaying the last `n` rows of a dataframe. \n",
    "\n",
    "1. Guess what the name of that function and display the last 8 rows of the dataframe"
   ]
  },
  {
   "cell_type": "code",
   "execution_count": null,
   "id": "226354dc-12ed-4315-8bb6-558afcff8917",
   "metadata": {},
   "outputs": [],
   "source": [
    "# your code here\n"
   ]
  },
  {
   "cell_type": "markdown",
   "id": "b2b28376-3717-4104-9100-9f78ae7471b9",
   "metadata": {},
   "source": [
    "#### Answer - Displaying the last rows of a dataframe\n",
    "\n",
    "Click on the ellipses (...) below to see the answers."
   ]
  },
  {
   "cell_type": "code",
   "execution_count": null,
   "id": "41512860-4f64-4023-b6f1-6ec2b83a6e93",
   "metadata": {
    "jupyter": {
     "source_hidden": true
    },
    "tags": []
   },
   "outputs": [],
   "source": [
    "# answer\n",
    "pgh_neighborhood_data.tail(8)"
   ]
  },
  {
   "cell_type": "markdown",
   "id": "77b2610c-1eb8-4030-a254-d684a0d8f3fa",
   "metadata": {},
   "source": [
    "## How Many Rows and Columns\n",
    "\n",
    "There are several ways to see how many rows and columns are available in a dataframe. If you let Jupyter display your dataframe it will automatically display the row x columns at the bottom of the output (see example below). "
   ]
  },
  {
   "cell_type": "code",
   "execution_count": null,
   "id": "deff209a-0705-42dd-8c50-cbef4bbb643c",
   "metadata": {},
   "outputs": [],
   "source": [
    "# display the dataframe\n",
    "pgh_neighborhood_data"
   ]
  },
  {
   "cell_type": "markdown",
   "id": "67d85914-8df8-4cc3-8f6c-97a4183942eb",
   "metadata": {},
   "source": [
    "However, if you need to *programmatically* access information about the size of the dataframe you have a couple options. You could use the built-in Python function `len()`, however this will only give you the number of rows. "
   ]
  },
  {
   "cell_type": "code",
   "execution_count": null,
   "id": "d403cc94-4de3-46d3-a578-098871b61f97",
   "metadata": {},
   "outputs": [],
   "source": [
    "len(pgh_neighborhood_data)"
   ]
  },
  {
   "cell_type": "markdown",
   "id": "5f25dd5e-2a4a-466c-98ae-da195af9838b",
   "metadata": {},
   "source": [
    "The `shape` *property* of Pandas dataframes provides an easy way to programmatically access both the number of rows and columns of a dataframe.\n",
    "\n",
    "#### Task - Checking the shape\n",
    "\n",
    "1. Use the `shape` property to check and see how many rows and columns are in `pgh_neighborhood_data`.\n",
    "    - Remember properties are not callable like functions, they are like variables with data.\n",
    "2. What is the data type of the result?\n",
    "3. Can you select just the number of rows using Python indexing?"
   ]
  },
  {
   "cell_type": "code",
   "execution_count": null,
   "id": "ecff4bcf-0965-46f0-8d4c-14d7815d2e01",
   "metadata": {},
   "outputs": [],
   "source": [
    "# Your code here\n"
   ]
  },
  {
   "cell_type": "markdown",
   "id": "9515d351-1965-482d-9423-2389f889b12e",
   "metadata": {},
   "source": [
    "#### Answer - Checking the shape\n",
    "\n",
    "Click on the ellipses (...) below to see the answers."
   ]
  },
  {
   "cell_type": "code",
   "execution_count": null,
   "id": "505ccce6-3874-493f-aa61-cd2065275cce",
   "metadata": {
    "jupyter": {
     "source_hidden": true
    },
    "tags": []
   },
   "outputs": [],
   "source": [
    "# Answer 1\n",
    "pgh_neighborhood_data.shape"
   ]
  },
  {
   "cell_type": "code",
   "execution_count": null,
   "id": "0b2673cf-33f5-4959-b19a-2a9a814a3813",
   "metadata": {
    "jupyter": {
     "source_hidden": true
    },
    "tags": []
   },
   "outputs": [],
   "source": [
    "# Answer 2\n",
    "type(pgh_neighborhood_data.shape)"
   ]
  },
  {
   "cell_type": "code",
   "execution_count": null,
   "id": "8973fbf7-251e-49ac-9ac8-c4794cecba83",
   "metadata": {
    "jupyter": {
     "source_hidden": true
    },
    "tags": []
   },
   "outputs": [],
   "source": [
    "# Answer 3\n",
    "pgh_neighborhood_data.shape[1]"
   ]
  },
  {
   "cell_type": "markdown",
   "id": "14312bc2-ae6b-4193-a5ff-1d1778ee8efa",
   "metadata": {},
   "source": [
    "## Inspecting Data Types\n",
    "\n",
    "\n",
    "When you read data into a Dataframe, each column of data are assigned a specific datatype. Pandas will inspect the data to make an educated guess as to the data type of the values from the CSV file. You can use the `dtypes` property to inspect the type of data Pandas guessed.\n",
    "\n",
    "Here is the syntax for using the `dtypes` property:\n",
    "```python\n",
    "<dataframe_variable>.dtypes\n",
    "``` \n",
    "\n",
    "Note, `dtypes` is not a function, it is a *property*. This means you aren't executing something you are displaying its value. So no parentheses are required."
   ]
  },
  {
   "cell_type": "markdown",
   "id": "3ecfac11-2d77-460f-ac63-a6da5e9d0be4",
   "metadata": {},
   "source": [
    "#### Task - Inspecting Data Types\n",
    "\n",
    "1. Use the `dtypes` property to get a list of the data types for each column\n",
    "2. Look at the results. Do they make sense given the portions of the dataframe you inspected above?\n",
    "3. Is there a column data type that doesn't make sense?"
   ]
  },
  {
   "cell_type": "code",
   "execution_count": null,
   "id": "d57b5b3e-bb08-49ca-8735-2736f5fb8b48",
   "metadata": {},
   "outputs": [],
   "source": [
    "# your code here\n",
    "\n"
   ]
  },
  {
   "cell_type": "markdown",
   "id": "1f19621f-18ff-4728-a48e-b6575bd54c7d",
   "metadata": {},
   "source": [
    "#### Answer - Inspecting Data Types\n",
    "\n",
    "Click on the ellipses (...) below to see the answers."
   ]
  },
  {
   "cell_type": "code",
   "execution_count": null,
   "id": "12e558e9-f1e1-413b-b1e3-3c0f30165ccc",
   "metadata": {
    "jupyter": {
     "source_hidden": true
    },
    "tags": []
   },
   "outputs": [],
   "source": [
    "# answer\n",
    "pgh_neighborhood_data.dtypes"
   ]
  },
  {
   "cell_type": "markdown",
   "id": "d3ac2b6c-37b6-445f-90b0-448e76ebec18",
   "metadata": {},
   "source": [
    "## The `object` type\n",
    "\n",
    "Pandas is pretty good at identifying and properly assigning numeric data types. When working with textual or categorical data, pandas currently defaults to `object`, which means the data is being represented as a Python data type.\n",
    "\n",
    "\n",
    "#### Task - What's in an Object?\n",
    "\n",
    "1. Compare the data types from the output of `dtypes` with the display of the dataframe using `head`. Do the types assigned by pandas make sense given your understanding of the data? \n",
    "2. Look at the data type for `Neighborhood` what Python data type do you think Pandas is using?"
   ]
  },
  {
   "cell_type": "code",
   "execution_count": null,
   "id": "c3eac464-f763-47b2-8a89-6edbb0bdc6de",
   "metadata": {},
   "outputs": [],
   "source": [
    "# your code here\n"
   ]
  },
  {
   "cell_type": "markdown",
   "id": "6b3117fc-972d-47a9-9d35-5954c1d0e7ee",
   "metadata": {},
   "source": [
    "#### Answer - What's in an Object? \n",
    "\n",
    "Click on the ellipses (...) below to see the answers."
   ]
  },
  {
   "cell_type": "markdown",
   "id": "7b9688f2-c2f9-4506-ad73-ba05fea13ec5",
   "metadata": {
    "jupyter": {
     "source_hidden": true
    },
    "tags": []
   },
   "source": [
    "*answer*\n",
    "\n",
    "Pandas assigned Neighborhood column to the \"object\" data type. The data are strings, so Object must represent strings. There is a `String` datatype in Pandas, but it is not assigned by default. You can [read the user guide about text data types](https://pandas.pydata.org/docs/user_guide/text.html#text-data-types) for more information about representing textual data. Pandas also has a [categorical data type](https://pandas.pydata.org/docs/user_guide/categorical.html), but they are outside the scope of Data Basics."
   ]
  },
  {
   "cell_type": "markdown",
   "id": "c010bb74-c935-4daf-85c8-772505fc2448",
   "metadata": {},
   "source": [
    "### Getting more info \n",
    "\n",
    "Pandas dataframes have a function, `info()` that provides useful meta-information about the dataframe.\n",
    "- Column index position and names\n",
    "- Number of non-null values in the column\n",
    "- Data type of each column and how many of each type\n",
    "- The size and type of the row index\n",
    "- The amount of memory "
   ]
  },
  {
   "cell_type": "markdown",
   "id": "d7afcd97-a840-4a94-9c8b-0e22e63bbd74",
   "metadata": {},
   "source": [
    "#### Task - Checking Memory Usage\n",
    "\n",
    "1. Use the `info()` function to see how much *memory* is being *used* by `pgh_neighborhoods_data`. "
   ]
  },
  {
   "cell_type": "code",
   "execution_count": null,
   "id": "c83cc476-c458-4c80-bf17-84dbb9a568bc",
   "metadata": {},
   "outputs": [],
   "source": [
    "# Your code here\n"
   ]
  },
  {
   "cell_type": "markdown",
   "id": "0f45394b-4197-439e-89a3-6dc2f892bc67",
   "metadata": {},
   "source": [
    "#### Answer - Checking Memory Usage\n",
    "\n",
    "Click on the ellipses (...) below to see the answers."
   ]
  },
  {
   "cell_type": "code",
   "execution_count": null,
   "id": "ed992935-cefe-4990-a63e-3e98cacceabd",
   "metadata": {
    "jupyter": {
     "source_hidden": true
    },
    "tags": []
   },
   "outputs": [],
   "source": [
    "# answer\n",
    "pgh_neighborhood_data.info()"
   ]
  },
  {
   "cell_type": "markdown",
   "id": "d1fd32de-8023-401f-9efd-44d2c84f0177",
   "metadata": {
    "jupyter": {
     "source_hidden": true
    },
    "tags": []
   },
   "source": [
    "The `pgh_neighborhood_data` is using around 10 kilobytes of memory."
   ]
  },
  {
   "cell_type": "markdown",
   "id": "dd1ee6e4-deab-4341-a96e-5e07904358b2",
   "metadata": {},
   "source": [
    "## Writing Dataframes to disk\n",
    "\n",
    "Pandas provides a variety of mechanisms for saving your data as a data file. In the cell below, place your cursor next after the `to_` and hit tab to show  the autocomplete suggestions. "
   ]
  },
  {
   "cell_type": "code",
   "execution_count": null,
   "id": "850c53db-917c-40bf-a9b7-92d891dd91ca",
   "metadata": {},
   "outputs": [],
   "source": [
    "pgh_neighborhood_data.to_"
   ]
  },
  {
   "cell_type": "markdown",
   "id": "0668b363-9945-4fcf-9d39-de2a164cc7fa",
   "metadata": {},
   "source": [
    "Don't worry if you don't understand all of the available functions at this time. \n",
    "\n",
    "- To save to a CSV file, use `to_csv()`\n",
    "- To save to a JSON file, use `to_json()`\n",
    "- To save to an Excel file, use `to_excel()`\n",
    "\n",
    "The first argument when calling one of these functions will be the filename to write to disk. So if we wanted to create a second copy of our neighborhood dataset as a CSV file, we could write the following code.\n",
    "\n",
    "```python\n",
    "pgh_neighborhood_data.to_csv(\"pgh-neighborhood-data-2.csv\")\n",
    "```"
   ]
  },
  {
   "cell_type": "markdown",
   "id": "d4b3f67f-e9ad-49a5-adef-2c401f14dfa6",
   "metadata": {},
   "source": [
    "#### Task - Save data as an Excel file\n",
    "\n",
    "1. Use the `to_excel()` function to save the `pgh_neighborhoods_data` as an excel file called \"pgh-neighborhoods-data.xlsx\". Set the `index` keyword argument to `False` to prevent the number index to be saved. You can also set the `sheet_name` keyword argument to a string of your choice to name the Excel sheet. "
   ]
  },
  {
   "cell_type": "code",
   "execution_count": null,
   "id": "4bf412e2-d9d0-4a9b-8266-e06d4878ca8c",
   "metadata": {},
   "outputs": [],
   "source": [
    "# your code here\n"
   ]
  },
  {
   "cell_type": "markdown",
   "id": "9c7b1d80-6959-4cf8-84f3-51e65447a2d0",
   "metadata": {},
   "source": [
    "#### Answer - Saving data as an Excel File\n",
    "\n",
    "Click on the ellipses (...) below to see the answers."
   ]
  },
  {
   "cell_type": "code",
   "execution_count": null,
   "id": "c86185c8-feec-456a-a6c9-98c9bfe3b229",
   "metadata": {
    "jupyter": {
     "source_hidden": true
    },
    "tags": []
   },
   "outputs": [],
   "source": [
    "# Answer 1\n",
    "\n",
    "pgh_neighborhood_data.to_excel(\"pgh-neighborhoods-data.xlsx\", index=False)"
   ]
  },
  {
   "cell_type": "markdown",
   "id": "1f304f56-d68c-4d8d-8786-74253a906628",
   "metadata": {},
   "source": [
    "#### Task - Save the data as a tab separated values file\n",
    "\n",
    "Pandas doesn't appear to have a function for saving data as a tab separated values file. \n",
    "\n",
    "1. Review the [documentation for the `read_csv()` function](https://pandas.pydata.org/docs/reference/api/pandas.DataFrame.to_csv.html#pandas.DataFrame.to_csv). What parameter would you use to specify tab seprated instead of comma separated?\n",
    "2. Write the `pgh_neighborhood_data` to a tab seprated values file with a `.tsv` file extension. Remember, you can represent tab using the `\\t` escape character.\n"
   ]
  },
  {
   "cell_type": "code",
   "execution_count": null,
   "id": "b6930b78-3eca-432b-abfe-a611c8358176",
   "metadata": {},
   "outputs": [],
   "source": [
    "# your code here"
   ]
  },
  {
   "cell_type": "markdown",
   "id": "ce801474-6f8c-4c79-b40b-f1eaed5b8079",
   "metadata": {},
   "source": [
    "#### Answer - Save the data as a tab separated values file\n",
    "\n",
    "Click on the ellipses (...) below to see the answers."
   ]
  },
  {
   "cell_type": "code",
   "execution_count": null,
   "id": "5302c447-24a5-45ea-9196-0fe36cddba7b",
   "metadata": {
    "jupyter": {
     "source_hidden": true
    },
    "tags": []
   },
   "outputs": [],
   "source": [
    "# answer\n",
    "pgh_neighborhood_data.to_csv(\"pgh-neighborhoods.tsv\", sep=\"\\t\")"
   ]
  }
 ],
 "metadata": {
  "kernelspec": {
   "display_name": "Python 3 (ipykernel)",
   "language": "python",
   "name": "python3"
  },
  "language_info": {
   "codemirror_mode": {
    "name": "ipython",
    "version": 3
   },
   "file_extension": ".py",
   "mimetype": "text/x-python",
   "name": "python",
   "nbconvert_exporter": "python",
   "pygments_lexer": "ipython3",
   "version": "3.9.13"
  }
 },
 "nbformat": 4,
 "nbformat_minor": 5
}
