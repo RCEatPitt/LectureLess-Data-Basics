{
 "cells": [
  {
   "cell_type": "markdown",
   "id": "f609fd47-8801-4ae8-973e-9223aae06185",
   "metadata": {},
   "source": [
    "# Data Cleaning\n",
    "\n",
    "This lesson covers one of the most important topics when working with data, cleaning. \n",
    "\n",
    "## Learning Objectives\n",
    "\n",
    "After completing this less you will:\n",
    "\n",
    "- Understand how missing data is represented in Python and in Pandas with `None` and `NaN`\n",
    "- Know how to identify missing data values in your data\n",
    "- Perform calculations with missing values\n",
    "- Identify when data values are missing with `isna()` and `notna()`\n",
    "- TODO Drop rows with missing values from Dataframes using `dropna()`\n",
    "- TODO Fill in numeric values using `fillna()`\n",
    "- Use vectorized string operations to clean dirty data \n",
    "\n",
    "## Data Used in this Lesson\n",
    "\n",
    "- [City of Pittsburgh Trees](https://data.wprdc.org/dataset/city-trees) - This dataset contains information about trees cared for and managed by the City of Pittsburgh Department of Public Works Forestry Division. Each row represents a tree with with information about the type, location, size, and various measures about economic and environmental benefits. The dataset contains 45,709 entries.\n",
    "    - The dataset is stored as a CSV file with the name `pgh-trees.csv`\n",
    "- [Mayors of Pittsburgh](https://en.wikipedia.org/wiki/List_of_mayors_of_Pittsburgh) - This dataset contains information about the Mayors of the city of Pittsburgh going back to 1816 when Pittsburgh formally became a city. Each row represents a mayor with information about their name, term, political party, opposition, and notes about them. The dataset contains 61 entries.\n",
    "    - The dataset is stored as a TSV file wit the name `pgh-mayors.tsv`"
   ]
  },
  {
   "cell_type": "code",
   "execution_count": null,
   "id": "9e0383e7-09b0-416c-bedb-1ddb26a6a425",
   "metadata": {},
   "outputs": [],
   "source": [
    "# load the necessary libraries\n",
    "import pandas as pd\n",
    "import numpy as np\n"
   ]
  },
  {
   "cell_type": "markdown",
   "id": "77ba03b6-49d9-47da-8d45-c36ec8257a6a",
   "metadata": {
    "tags": []
   },
   "source": [
    "## Representing Missing Data Values\n",
    "\n",
    "* One of challenges you may face when working with messy data are *missing* or *null* values\n",
    "* There are multiple ways to representing missing values in Python\n",
    "* There is a Pythonic way using the `None` object\n",
    "* There is a Numpy/Pandas-y way using `NaN`"
   ]
  },
  {
   "cell_type": "markdown",
   "id": "79a75821-b1d2-403e-817c-0b34fc8fa5c7",
   "metadata": {},
   "source": [
    "### `None`, A *Pythonic* way to represent Missing Data\n",
    "\n",
    "* `None` is the standard way of representing nothing in plain Python, it is one of the basic data types.\n",
    "* It is useful, but it is not an memory efficient way to represent missing values because it is an Object.\n",
    "* It can be used in numeric and programmatic contexts, but it has a computational cost."
   ]
  },
  {
   "cell_type": "markdown",
   "id": "c786168b-61aa-48e8-be6b-9adfb628a513",
   "metadata": {},
   "source": [
    "#### Task - Adding None values to your arrays\n",
    "\n",
    "1. Run the code cell below to generate a numpy array of integer values\n",
    "2. Make a note of the data type, is it a numeric data type?\n",
    "1. Modify the code cell to include at least 3 `None` values in the Python list `my_list` and re-run the code cell.\n",
    "2. Make a note how the data type has changed, is it still numeric?"
   ]
  },
  {
   "cell_type": "code",
   "execution_count": null,
   "id": "bc2fa000-80fd-433a-afbf-c5b459af67f4",
   "metadata": {},
   "outputs": [],
   "source": [
    "# create a python list of integer values\n",
    "my_list = [1, 45, 2, 48, 2, 456, 672, 43, 121, 123, 56]\n",
    "\n",
    "# convert the Python list to a numpy array\n",
    "my_array = np.array(my_list)\n",
    "# print the data type of the array\n",
    "print(\"The data type is: \", my_array.dtype)\n",
    "# display the array values\n",
    "my_array"
   ]
  },
  {
   "cell_type": "markdown",
   "id": "bede5cb7-133c-4559-886b-7b0993c0b4ad",
   "metadata": {},
   "source": [
    "#### Answer - Adding None values to your arrays\n",
    "\n",
    "Click on the ellipses (...) below to see the answers."
   ]
  },
  {
   "cell_type": "code",
   "execution_count": null,
   "id": "3d0e82a9-7faa-4603-b4bd-58c96c2e9159",
   "metadata": {
    "jupyter": {
     "source_hidden": true
    },
    "tags": []
   },
   "outputs": [],
   "source": [
    "# answer\n",
    "# create a python list of integer values\n",
    "my_list = [1, None, 2, 48, 2, None, 672, 43, 121, None, 56]\n",
    "\n",
    "# convert the Python list to a numpy array\n",
    "my_array = np.array(my_list)\n",
    "# print the data type of the array\n",
    "print(\"The data type is: \", my_array.dtype)\n",
    "# display the array values\n",
    "my_array"
   ]
  },
  {
   "cell_type": "markdown",
   "id": "ecb2f003-b845-4e07-9959-62189e198248",
   "metadata": {},
   "source": [
    "#### Task - Performing Computations with Objects\n",
    "\n",
    "1. Run the code cell below to calculate the time it takes to sum an array of integer values vs. object values\n",
    "2. Compare the results (it will be the first number), which one was faster? Why?"
   ]
  },
  {
   "cell_type": "code",
   "execution_count": null,
   "id": "2d6b0340-d7ff-4bd3-821d-149c9c4b8120",
   "metadata": {},
   "outputs": [],
   "source": [
    "# create a list of objects and a list of integers\n",
    "# compute their sum and time how long it takes\n",
    "for dtype in ['object','int']:\n",
    "    print(\"Performing calculations on an array of data type = \", dtype)\n",
    "    %timeit np.arange(1E6, dtype=dtype).sum()\n",
    "    print()\n",
    "print(\"Finished!\")"
   ]
  },
  {
   "cell_type": "markdown",
   "id": "71a84f98-14f3-4534-a41c-ecb722355aa7",
   "metadata": {},
   "source": [
    "*your answer here*\n"
   ]
  },
  {
   "cell_type": "markdown",
   "id": "d1a4a8c4-4795-4204-ae64-934fe352d2a3",
   "metadata": {},
   "source": [
    "#### Answer - Performing Computations with Objects\n",
    "\n",
    "Click on the ellipses (...) below to see the answers."
   ]
  },
  {
   "cell_type": "markdown",
   "id": "c2d69f33-d5c7-4117-9b34-55375d42f889",
   "metadata": {
    "jupyter": {
     "source_hidden": true
    },
    "tags": []
   },
   "source": [
    "*Answer*\n",
    "\n",
    "Ints.\n",
    "\n",
    "Because Numpy arrays (and Pandas Series) require all values to be the same data type, it will default to the most expressive and most inefficient data type if you have mixed data types. This means any computational operations running over the array/series are going to run slower than they could if the data type was numeric.\n",
    "    \n",
    "There is also one final issue with using `None` to represent missing values..."
   ]
  },
  {
   "cell_type": "markdown",
   "id": "6f39b6ee-3130-4bb6-9791-a52a90f68486",
   "metadata": {
    "tags": []
   },
   "source": [
    "#### Task - Performing Calculations with `None`\n",
    "\n",
    "1. In the code cell below, compute the sum of the `my_array` variable by adding the `.sum()` at the end of the variable name.\n",
    "2. Make a note of the error, what is the error message saying?"
   ]
  },
  {
   "cell_type": "code",
   "execution_count": null,
   "id": "b5d28ba2-0924-4b61-8163-f2e89da26d2b",
   "metadata": {},
   "outputs": [],
   "source": [
    "# your code here\n"
   ]
  },
  {
   "cell_type": "markdown",
   "id": "95063441-f5e4-4fc6-a2d8-a02e2279e749",
   "metadata": {},
   "source": [
    "#### Answer - Performing Calculations with `None`\n",
    "\n",
    "Click on the ellipses (...) below to see the answers."
   ]
  },
  {
   "cell_type": "code",
   "execution_count": null,
   "id": "13e8de55-678c-44d8-9012-4f89fe010a20",
   "metadata": {
    "jupyter": {
     "source_hidden": true
    },
    "tags": []
   },
   "outputs": [],
   "source": [
    "# answer\n",
    "my_array.sum()"
   ]
  },
  {
   "cell_type": "markdown",
   "id": "a1833bc7-2d08-41fd-b058-a121b1cd3371",
   "metadata": {
    "jupyter": {
     "source_hidden": true
    },
    "tags": []
   },
   "source": [
    "*Answer*\n",
    "\n",
    "The error message is saying the addition operator doesn't work to add an Integer to a None."
   ]
  },
  {
   "cell_type": "markdown",
   "id": "2d628502-d3f2-4cd4-82cd-2e17db090bb3",
   "metadata": {},
   "source": [
    "#### Task - Convert `my_array` to a Series\n",
    "\n",
    "1. In the code cell below, use the Pandas Series function to create a series from the Python list, `my_list`, you created earlier that contains a `None` value. \n",
    "2. Display the Series\n",
    "3. What happened to the `None` type?\n",
    "4. What is the data type of the Series?"
   ]
  },
  {
   "cell_type": "code",
   "execution_count": null,
   "id": "6e006014-0674-438a-827a-2b2d34e1bde2",
   "metadata": {},
   "outputs": [],
   "source": [
    "# your code here\n"
   ]
  },
  {
   "cell_type": "markdown",
   "id": "58b87132-d9c3-4f88-bb8a-8aaab2a97a7d",
   "metadata": {},
   "source": [
    "#### Answer - Convert `my_array` to a Series\n",
    "\n",
    "Click on the ellipses (...) below to see the answers."
   ]
  },
  {
   "cell_type": "code",
   "execution_count": null,
   "id": "3984ad19-6f38-4d79-986d-285743b39b33",
   "metadata": {
    "jupyter": {
     "source_hidden": true
    },
    "tags": []
   },
   "outputs": [],
   "source": [
    "# answer\n",
    "my_series = pd.Series(my_list)\n",
    "my_series"
   ]
  },
  {
   "cell_type": "markdown",
   "id": "3864aa1d-85de-47eb-b3dc-fdce93808d06",
   "metadata": {
    "jupyter": {
     "source_hidden": true
    },
    "tags": []
   },
   "source": [
    "*Answer*\n",
    "\n",
    "The `None` type was converted to `NaN`s and the data type of all the values in the Series are floating point numbers."
   ]
  },
  {
   "cell_type": "markdown",
   "id": "57e8d0db-2e63-4b2a-96c6-a61d7fbb8d54",
   "metadata": {},
   "source": [
    "#### Task - Performing Calculations with `NaN`\n",
    "\n",
    "1. In the code cell below, compute the sum of the `my_series` variable by adding `.sum()` at the end of the variable name.\n",
    "2. Is there an error? What happens to the missing value?"
   ]
  },
  {
   "cell_type": "code",
   "execution_count": null,
   "id": "7437e9eb-ea9e-4c48-9fc8-c7cd3fe24583",
   "metadata": {},
   "outputs": [],
   "source": [
    "# your code here\n"
   ]
  },
  {
   "cell_type": "markdown",
   "id": "802e675f-9213-43fd-a591-34eceb425e0e",
   "metadata": {},
   "source": [
    "#### Answer - Performing Calculations with `NaN`\n",
    "\n",
    "Click on the ellipses (...) below to see the answers."
   ]
  },
  {
   "cell_type": "code",
   "execution_count": null,
   "id": "0c1ceba1-bac2-4d00-82a1-8a68c8d407aa",
   "metadata": {
    "jupyter": {
     "source_hidden": true
    },
    "tags": []
   },
   "outputs": [],
   "source": [
    "# answer \n",
    "my_series.sum()"
   ]
  },
  {
   "cell_type": "markdown",
   "id": "627bb0fb-2b95-4451-89b8-eeba9c7bd703",
   "metadata": {
    "jupyter": {
     "source_hidden": true
    },
    "tags": []
   },
   "source": [
    "*Answer* \n",
    "\n",
    "There is no error and it looks like the missing values were just ignored."
   ]
  },
  {
   "cell_type": "markdown",
   "id": "e4c4c144-2319-47e8-9371-e17c402afcf9",
   "metadata": {},
   "source": [
    "### NaN, The Missing Numeric Data Type for Missing Data\n",
    "\n",
    "* The Numpy third-party library has a mechanism for representing missing numeric values as `NaN`. You can explicitly create a `NaN` value using `np.nan`.\n",
    "* Pandas will automatically convert `None` values into to `NaN` values for convenience. Note, Numpy does not do this) \n",
    "* In terms of data types, NaNs are considered floating point numbers in accordance with the [IEEE 754 Standard](https://en.wikipedia.org/wiki/IEEE_754)\n",
    "* Note for R users: There is no `Null` only `NaN`\n",
    "* This means you can use them with other numeric arrays for fast computations"
   ]
  },
  {
   "cell_type": "markdown",
   "id": "165660aa-16a7-417b-9701-41644864c9a6",
   "metadata": {},
   "source": [
    "## Working with Missing Data Values\n",
    "\n",
    "Pandas has several mechanisms for working with missing data. Each of these methods has a version that works with Series and a version that works with DataFrames\n",
    "* `isna()` - Generate a boolean mask of the missing values \n",
    "* `notna()` - Do the opposite of `isna()` \n",
    "* `dropna()` - Create a filtered copy of the data with no null values\n",
    "* `fillna(value)` - Create a copy of the data and fill in missing values."
   ]
  },
  {
   "cell_type": "code",
   "execution_count": null,
   "id": "158557e5-5fa5-4fcd-9827-e4589d7e68bf",
   "metadata": {},
   "outputs": [],
   "source": [
    "my_series.fillna("
   ]
  },
  {
   "cell_type": "markdown",
   "id": "950eb272-1243-4c8c-b539-4b657b93e432",
   "metadata": {},
   "source": [
    "#### Task - Identify Missing Values\n",
    "\n",
    "1. Using the Series from the previous task, `my_series`, add `.isna()` to the end of the variable name.\n",
    "2. Look at the results, what do you think the `isna()` function is doing?"
   ]
  },
  {
   "cell_type": "code",
   "execution_count": null,
   "id": "20ba13f0-84ef-4b31-82b0-67476db8490f",
   "metadata": {},
   "outputs": [],
   "source": [
    "# your code here\n"
   ]
  },
  {
   "cell_type": "markdown",
   "id": "da0c2a94-8662-49de-b954-1c9ada203d69",
   "metadata": {},
   "source": [
    "#### Answer - Identify Missing Values\n",
    "\n",
    "Click on the ellipses (...) below to see the answers."
   ]
  },
  {
   "cell_type": "code",
   "execution_count": null,
   "id": "85363bab-c93a-48a5-8853-6e8348e2d394",
   "metadata": {
    "jupyter": {
     "source_hidden": true
    },
    "tags": []
   },
   "outputs": [],
   "source": [
    "# answer\n",
    "my_series.isna()"
   ]
  },
  {
   "cell_type": "markdown",
   "id": "2fd56f85-251e-41f1-8011-b4380154a815",
   "metadata": {},
   "source": [
    "#### Task - Identify NOT Missing Values\n",
    "\n",
    "1. Using the Series from the previous task, `my_series`, add `.notna()` to the end of the variable name.\n",
    "2. Look at the results, what do you think the `notna()` function is doing?"
   ]
  },
  {
   "cell_type": "code",
   "execution_count": null,
   "id": "3337a679-865c-4c2c-8333-ef2c3b25db3c",
   "metadata": {},
   "outputs": [],
   "source": [
    "# your code here\n"
   ]
  },
  {
   "cell_type": "markdown",
   "id": "36cf7d08-5271-4858-a6a8-3ed921b8c9ab",
   "metadata": {},
   "source": [
    "#### Answer - Identify NOT Missing Values\n",
    "\n",
    "Click on the ellipses (...) below to see the answers."
   ]
  },
  {
   "cell_type": "code",
   "execution_count": null,
   "id": "2b6cd616-3dff-475e-887a-b4c17e473925",
   "metadata": {
    "jupyter": {
     "source_hidden": true
    },
    "tags": []
   },
   "outputs": [],
   "source": [
    "# answer\n",
    "my_series.notna()"
   ]
  },
  {
   "cell_type": "markdown",
   "id": "b7337d09-b753-4155-87e4-d2f60865120b",
   "metadata": {},
   "source": [
    "#### Task - Counting Missing or Not Missing Values\n",
    "\n",
    "![under develpment gif](http://textfiles.com/underconstruction/Dimension4933picsA-Hconstruction.gif)"
   ]
  },
  {
   "cell_type": "code",
   "execution_count": null,
   "id": "b30c7cef-c39f-436e-b729-b71b79341769",
   "metadata": {},
   "outputs": [],
   "source": []
  },
  {
   "cell_type": "code",
   "execution_count": null,
   "id": "da28198d-03a1-4398-aacd-08ff5319cb88",
   "metadata": {},
   "outputs": [],
   "source": [
    "# How many missing values?\n",
    "my_series[my_series.isna()].size"
   ]
  },
  {
   "cell_type": "code",
   "execution_count": null,
   "id": "0c89355d-e792-4012-acfb-4f10f421fea5",
   "metadata": {},
   "outputs": [],
   "source": [
    "# How many not missing values?\n",
    "my_series[my_series.notna()].size"
   ]
  },
  {
   "cell_type": "markdown",
   "id": "9a5f65b4-d2e6-4a2a-992e-d079f7fbe2a5",
   "metadata": {},
   "source": [
    "### Missing Values in Dataframes\n",
    "\n",
    "This section is currently under development.\n",
    "\n",
    "![under construction gif](http://textfiles.com/underconstruction/MoMotorCity8021construct.gif)\n",
    "![under develpment gif](http://textfiles.com/underconstruction/Dimension4933picsA-Hconstruction.gif)\n",
    "![Under construction gif](http://textfiles.com/underconstruction/ReResearchTriangle7711imagesconstruction-a.gif)"
   ]
  },
  {
   "cell_type": "markdown",
   "id": "3fce488c-75c7-4ea6-aa5d-8b552acc7c65",
   "metadata": {},
   "source": [
    "### Filling in Missing values\n",
    "\n",
    "This section is currently under development.\n",
    "\n",
    "![under construction gif](http://textfiles.com/underconstruction/MoMotorCity8021construct.gif)\n",
    "![under develpment gif](http://textfiles.com/underconstruction/Dimension4933picsA-Hconstruction.gif)\n",
    "![Under construction gif](http://textfiles.com/underconstruction/ReResearchTriangle7711imagesconstruction-a.gif)"
   ]
  },
  {
   "cell_type": "markdown",
   "id": "367fa4d0-1216-4472-ac50-ecdc4f99b0c3",
   "metadata": {},
   "source": [
    "## Vectorized String Operations\n",
    "\n",
    "The Pandas Series data structure (which means columns of a DataFrame) have a set of methods for working with strings of textual data. These methods function similarly to their plain python equivalents, but they are *vectorized* meaning they operate on all values in a column. This makes it easier to select a column of textual data from a DataFrame, specify a string method, and operate on every entry in that column. \n",
    "\n",
    "String methods are not only computationally fast, they are also concise to write and handle dirty data. We can see this in practice in the code example below."
   ]
  },
  {
   "cell_type": "code",
   "execution_count": null,
   "id": "d9b143f3-6bf0-4d41-99f3-5706e82c7197",
   "metadata": {},
   "outputs": [],
   "source": [
    "# create a Python list of names\n",
    "names = ['peter', 'Paul', 'MARY', 'gUIDO']\n",
    "\n",
    "# loop over the list of names \n",
    "for name in names:\n",
    "    print(name.capitalize())"
   ]
  },
  {
   "cell_type": "markdown",
   "id": "94696257-c363-4deb-a34f-1709a460d95e",
   "metadata": {},
   "source": [
    "#### Task - Processing Missing Values in Python\n",
    "\n",
    "1. Copy the code cell from the example above.\n",
    "2. Add a `None` or `np.nan` value to the Python list and execute. What happens? \n",
    "3. What would need to happen to accommodate dirty data if you were processing with Python?"
   ]
  },
  {
   "cell_type": "code",
   "execution_count": null,
   "id": "4574c7e1-8829-4f64-a901-c80c49a34c49",
   "metadata": {},
   "outputs": [],
   "source": [
    "# your code here\n"
   ]
  },
  {
   "cell_type": "markdown",
   "id": "a6044d32-7243-4e69-a959-901114309e98",
   "metadata": {},
   "source": [
    "#### Answer\n",
    "\n",
    "Click on the ellipses (...) below to see the answers."
   ]
  },
  {
   "cell_type": "code",
   "execution_count": null,
   "id": "07fbf9fd-1859-4516-964d-1ae3432ca3ed",
   "metadata": {
    "jupyter": {
     "source_hidden": true
    },
    "tags": []
   },
   "outputs": [],
   "source": [
    "# create a list with null value \n",
    "names = ['peter', 'Paul', np.nan, 'MARY', 'gUIDO']\n",
    "\n",
    "# \n",
    "for name in names:\n",
    "    print(name.capitalize())"
   ]
  },
  {
   "cell_type": "markdown",
   "id": "a960a2be-e96c-4ce6-bb8b-ca02b0172d12",
   "metadata": {
    "jupyter": {
     "source_hidden": true
    },
    "tags": []
   },
   "source": [
    "*answer*\n",
    "\n",
    "Without additional exception handling for different, Python will try to run the `capitalize()` function on the `None` or `nan`, which don't have any string methods because they aren't strings. You would have to add some conditional statements or error handling to deal with those cases.\n",
    "\n",
    "It would mean you have to write a lot more code."
   ]
  },
  {
   "cell_type": "markdown",
   "id": "9191ec1d-8dbc-4e95-9bbf-a709685948ea",
   "metadata": {},
   "source": [
    "#### Task - Vectorized Capitalize\n",
    "\n",
    "1. Run the code cell below to convert the Python list into a Series and use the *vectorized* string \n",
    "2. What happened to the missing data values?\n",
    "3. Do you think this was future lines of code than working with vanilla Python? "
   ]
  },
  {
   "cell_type": "code",
   "execution_count": null,
   "id": "d9f4c1ed-4383-4208-822f-55c369bb9336",
   "metadata": {},
   "outputs": [],
   "source": [
    "# convert our list into a Series\n",
    "names = pd.Series(names)\n",
    "# Use the string vector function to capitalize everything\n",
    "names.str.capitalize()"
   ]
  },
  {
   "cell_type": "markdown",
   "id": "cb503575-532e-4793-b3a8-f36f947e89cc",
   "metadata": {},
   "source": [
    "#### Answer\n",
    "\n",
    "Click on the ellipses (...) below to see the answers."
   ]
  },
  {
   "cell_type": "markdown",
   "id": "058a3b84-2402-4dd4-978b-f5e1869548c9",
   "metadata": {
    "jupyter": {
     "source_hidden": true
    },
    "tags": []
   },
   "source": [
    "*answer*\n",
    "\n",
    "2. The missing value was automatically ignored and passed over.\n",
    "3. Yes ;)"
   ]
  },
  {
   "cell_type": "markdown",
   "id": "cfdf84da-3b20-44b9-b37f-bb327c51b57c",
   "metadata": {},
   "source": [
    "### Pandas String Methods\n",
    "\n",
    "Pandas includes a a bunch of string methods for doing things to strings. Visit the [Pandas documentation on string methods](https://pandas.pydata.org/docs/user_guide/text.html#method-summary) to read about what they do.\n",
    "\n",
    "|  Functions  |. |.  |. |\n",
    "|-------------|------------------|------------------|------------------|\n",
    "|``len()``    | ``lower()``      | ``translate()``  | ``islower()``    | \n",
    "|``ljust()``  | ``upper()``      | ``startswith()`` | ``isupper()``    | \n",
    "|``rjust()``  | ``find()``       | ``endswith()``   | ``isnumeric()``  | \n",
    "|``center()`` | ``rfind()``      | ``isalnum()``    | ``isdecimal()``  | \n",
    "|``zfill()``  | ``index()``      | ``isalpha()``    | ``split()``      | \n",
    "|``strip()``  | ``rindex()``     | ``isdigit()``    | ``rsplit()``     | \n",
    "|``rstrip()`` | ``capitalize()`` | ``isspace()``    | ``partition()``  | \n",
    "|``lstrip()`` |  ``swapcase()``  |  ``istitle()``   | ``rpartition()`` |\n"
   ]
  },
  {
   "cell_type": "markdown",
   "id": "0cc91180-bc1c-49de-b3d5-2f8d491ca57b",
   "metadata": {},
   "source": [
    "#### Task - Playing with String Methods\n",
    "\n",
    "1. In the cells below, try three of the string operations listed above on the Pandas Series `monte`\n",
    "\n",
    "Remember, if you place your cursor after the `str.` you can hit tab to auto-complete and shift-tab to see suggestions."
   ]
  },
  {
   "cell_type": "code",
   "execution_count": null,
   "id": "d6b88295-cc91-4153-8d2e-a6aa1e120408",
   "metadata": {},
   "outputs": [],
   "source": [
    "monte = pd.Series(['Graham Chapman', 'John Cleese', 'Terry Gilliam',\n",
    "                   'Eric Idle', 'Terry Jones', 'Michael Palin'])\n",
    "monte"
   ]
  },
  {
   "cell_type": "code",
   "execution_count": null,
   "id": "4207f742-1279-4bec-ba13-5ca95547d63e",
   "metadata": {},
   "outputs": [],
   "source": [
    "# First\n",
    "monte.str.\n"
   ]
  },
  {
   "cell_type": "code",
   "execution_count": null,
   "id": "aa911707-889b-49ae-af9b-b4e2e9f3bcaf",
   "metadata": {},
   "outputs": [],
   "source": [
    "# Second\n",
    "monte.str.\n",
    "\n",
    "\n"
   ]
  },
  {
   "cell_type": "code",
   "execution_count": null,
   "id": "1d0a6c9a-0b77-4789-8287-36e409967669",
   "metadata": {},
   "outputs": [],
   "source": [
    "# Third\n",
    "monte.str.\n",
    "\n",
    "\n"
   ]
  },
  {
   "cell_type": "code",
   "execution_count": null,
   "id": "080dafd3-fc26-43a6-a6ff-da322714a8f5",
   "metadata": {},
   "outputs": [],
   "source": []
  },
  {
   "cell_type": "code",
   "execution_count": null,
   "id": "9bcc2934-8982-4624-9008-15578a2a838f",
   "metadata": {},
   "outputs": [],
   "source": []
  },
  {
   "cell_type": "markdown",
   "id": "73959671-6139-4baf-8328-397157e0f7ae",
   "metadata": {},
   "source": [
    "## Dealing With Dirty Data\n",
    "\n",
    "The following section will walk you through the process of working with real-world dirty data. In this case we will be loading the [City of Pittsburgh Trees](https://data.wprdc.org/dataset/city-trees) and doing a bit of cleaning using string operations."
   ]
  },
  {
   "cell_type": "markdown",
   "id": "d073a295-7a5e-4caa-97ef-e052de9f63f5",
   "metadata": {},
   "source": [
    "#### Task - Load Pittsburgh Tree Dataset\n",
    "\n",
    "1. Use the `read_csv()` function to load the `pgh-trees.csv` file in the `datasets` directory into a dataframe called `trees`.\n",
    "2. Display the Dataframe"
   ]
  },
  {
   "cell_type": "code",
   "execution_count": null,
   "id": "18ef6b19-058b-4181-a5bf-82c188de2f9e",
   "metadata": {},
   "outputs": [],
   "source": [
    "# your code here\n"
   ]
  },
  {
   "cell_type": "markdown",
   "id": "88f1d163-c6d4-449d-a48d-a3731a425ba4",
   "metadata": {},
   "source": [
    "#### Answer\n",
    "\n",
    "Click on the ellipses (...) below to see the answers."
   ]
  },
  {
   "cell_type": "code",
   "execution_count": null,
   "id": "2f71d012-21a8-4559-8d1d-ab6ff801bb84",
   "metadata": {
    "jupyter": {
     "source_hidden": true
    },
    "tags": []
   },
   "outputs": [],
   "source": [
    "# answer\n",
    "trees = pd.read_csv(\"datasets/pgh-trees.csv\")\n",
    "trees"
   ]
  },
  {
   "cell_type": "markdown",
   "id": "e50a1c1a-af0a-4439-bb57-43f0b345d38f",
   "metadata": {},
   "source": [
    "#### Task - Why the Warning?\n",
    "\n",
    "Loading this dataset raises an error because one of the columns has mixed data types.\n",
    "\n",
    "1. Which column do you think is \"Column (1)\" from the warning above?\n",
    "2. Look at the display which shows the first and last 5 rows of the dataframe. What is the row index of the row with the problematic value?"
   ]
  },
  {
   "cell_type": "raw",
   "id": "0dd95d84-4e80-4a37-93af-0e9b55852ede",
   "metadata": {},
   "source": [
    "# your answer here\n"
   ]
  },
  {
   "cell_type": "markdown",
   "id": "55307079-421c-48dd-9a17-ce08b4295c86",
   "metadata": {},
   "source": [
    "#### Answer - Why the Warning?\n",
    "\n",
    "Click on the ellipses (...) below to see the answers."
   ]
  },
  {
   "cell_type": "markdown",
   "id": "9c5800a4-d4af-4f82-aedc-b71301d1c16d",
   "metadata": {
    "jupyter": {
     "source_hidden": true
    },
    "tags": []
   },
   "source": [
    "*answer*\n",
    "\n",
    "The `address_number` column contains dirty data values. It should be, and mostly is, numbers representing the street number. However, there is at least at least one row, with the index 45704, that has the full street address."
   ]
  },
  {
   "cell_type": "markdown",
   "id": "1d4a73c7-4e28-4e3f-bcf5-a69f20b212fa",
   "metadata": {},
   "source": [
    "#### Task - Select the dirty data value\n",
    "\n",
    "1. Use the row and column indexing property, `iloc`, to select just the dirty data value identified in the previous task.\n",
    "2. What is the data type of the result, how does that compare with other values in that column?\n",
    "3. Why is this a problem?"
   ]
  },
  {
   "cell_type": "code",
   "execution_count": null,
   "id": "48b9b1ec-16f6-4fbe-8411-70be7c8052dc",
   "metadata": {},
   "outputs": [],
   "source": [
    "# your answer here"
   ]
  },
  {
   "cell_type": "markdown",
   "id": "bcf753db-f25e-43c0-9eb9-f7c9aad59060",
   "metadata": {},
   "source": [
    "#### Answer - Select the Dirty data value\n",
    "\n",
    "Click on the ellipses (...) below to see the answers."
   ]
  },
  {
   "cell_type": "code",
   "execution_count": null,
   "id": "8eb88e55-091e-4e02-b14c-c5d6a849f6da",
   "metadata": {
    "jupyter": {
     "source_hidden": true
    },
    "tags": []
   },
   "outputs": [],
   "source": [
    "# answer\n",
    "trees.iloc[45704, 1]"
   ]
  },
  {
   "cell_type": "markdown",
   "id": "ac1ef0bb-f4cb-4e84-9e71-e0269a290b02",
   "metadata": {
    "jupyter": {
     "source_hidden": true
    },
    "tags": []
   },
   "source": [
    "*answer*\n",
    "\n",
    "The result is a string but most of the other values in that column are integers. However, because both types of data are present in the CSV file the data type of the entire column must be `object`."
   ]
  },
  {
   "cell_type": "markdown",
   "id": "cdd3f289-a349-4afe-90f0-04d4b9486677",
   "metadata": {},
   "source": [
    "## Finding Dirty Rows with Pandas\n",
    "\n",
    "The first step in working with dirty data values is to determine how many dirty data values you have.\n",
    "\n",
    "The following tasks will use several Pandas concepts and functions in order to generate the table below.\n",
    "- Select the column containing dirty data values from the dataframe\n",
    "- Create a *boolean mask* of True/False values for each value in the column determining if the value is clean or dirty\n",
    "- Filtering the whole dataframe with the mask to show only the rows with dirty data\n",
    "\n",
    " The following table shows just the rows of the `trees` dataset that contain dirty data values in the `address_number` column. \n",
    "\n",
    "|       |         id | address_number   | street     | common_name       | scientific_name      |   height |   width |...|\n",
    "|------:|-----------:|:-----------------|:-----------|:------------------|:---------------------|---------:|--------:|---|\n",
    "| 45294 |  293638645 | 1200 Diana       | nan        | Locust: Black     | Robinia pseudoacacia |       65 |     nan |...|\n",
    "| 45308 |   33483504 | 1402 w north ave | nan        | nan               | nan                  |      nan |     nan |...|\n",
    "| 45322 |   49984623 | 18 sprain st     | nan        | Mulberry: Red     | Morus rubra          |       40 |      30 |...|\n",
    "| 45323 | 1817752170 | 18 sprain st     | nan        | Maple: Sugar      | Acer saccharum       |       30 |     nan |...|\n",
    "| 45324 | 1918808238 | 502 Foreland     | nan        | Pear: Callery     | Pyrus calleryana     |       15 |     nan |...|\n",
    "| 45325 |  472070793 | 502 Foreland st  | nan        | Pear: Callery     | Pyrus calleryana     |      nan |     nan |...|\n",
    "| 45333 |  785059502 | 345 dalton ave   | nan        | Oak: Northern Red | Quercus rubra        |       70 |     nan |...|\n",
    "| 45704 |   39047675 | 499 N LANG AVE   | N LANG AVE | Maple: Norway     | Acer platanoides     |       15 |      15 |...|\n"
   ]
  },
  {
   "cell_type": "markdown",
   "id": "61379c93-ff82-410a-9e9e-44b4f3d2e029",
   "metadata": {},
   "source": [
    "#### Task - Select the column with dirty data\n",
    "\n",
    "1. Use column indexing to select only the `address_number` column from the `trees` DataFrame\n",
    "2. What is the pandas data structure you get back?"
   ]
  },
  {
   "cell_type": "code",
   "execution_count": null,
   "id": "ebf57e5e-1a6f-4903-8384-66c195396a32",
   "metadata": {},
   "outputs": [],
   "source": [
    "# your code here\n"
   ]
  },
  {
   "cell_type": "markdown",
   "id": "ee5f5776-492f-45e8-b268-66ff4b214af7",
   "metadata": {},
   "source": [
    "#### Answer - Selecting the column with dirty data \n",
    "\n",
    "Click on the ellipses (...) below to see the answers."
   ]
  },
  {
   "cell_type": "code",
   "execution_count": null,
   "id": "32d74e75-6ada-4b34-b3fe-5f081b8b02e4",
   "metadata": {
    "jupyter": {
     "source_hidden": true
    },
    "tags": []
   },
   "outputs": [],
   "source": [
    "# answer \n",
    "trees['address_number']\n",
    "# series"
   ]
  },
  {
   "cell_type": "markdown",
   "id": "0067341b-0dd3-4aea-934d-71c7b8a5e953",
   "metadata": {},
   "source": [
    "### How many dirty values?\n",
    "\n",
    "The next step in our data cleaning is to identify which values in the `address_number` column contain values that are not numbers. There are several string methods that *might* be helpful for identifying values that are only number or have alphabetic characters such as `isalpha()`, `isdigit()`, `isnumeric()` and `isdecimal()`. However, you will notice there are also many missing values as well. \n",
    "\n",
    "The column contains three possible values:\n",
    "- An integer representing the street address number\n",
    "- A string representing the street number and name\n",
    "- A `nan` representing a missing street number\n"
   ]
  },
  {
   "cell_type": "markdown",
   "id": "5bbfbd69-7765-4b45-812f-5690f9d7b1a2",
   "metadata": {},
   "source": [
    "#### Task - Identify values with alphabetic characters\n",
    "\n",
    "1. Execute the code cell below that adds the code `.str.contains(\"[A-Za-z]\",case=False, na=False)` to the results of the previous task.\n",
    "2. Review the results and the look at the [documentation](https://pandas.pydata.org/pandas-docs/stable/reference/api/pandas.Series.str.contains.html)  for the `contains()` function. Consider the following questions:\n",
    "    1. What do you think a result of `True` means?' What do you think a result of `False` means?\n",
    "    2. What does the `str.contains()` function do?\n",
    "    3. The parameter `\"A-Za-z]\"` is a [regular expression](https://en.wikipedia.org/wiki/Regular_expression), what do you think it matches?\n",
    "    4. Why do you need to add `na=False` parameters? What happens to the results if you remove them?\n"
   ]
  },
  {
   "cell_type": "code",
   "execution_count": null,
   "id": "cfb7d2d1-7111-4e38-925b-bf9fe4b66589",
   "metadata": {},
   "outputs": [],
   "source": [
    "# Check for alphabetic characters\n",
    "trees['address_number'].str.contains(\"[A-Za-z]\", na=False)"
   ]
  },
  {
   "cell_type": "raw",
   "id": "8cccdd1d-282d-4a90-8a16-4413dbd6ed46",
   "metadata": {},
   "source": [
    "# Your answers here\n"
   ]
  },
  {
   "cell_type": "markdown",
   "id": "1d414b65-275e-4b44-b79f-6a728f901917",
   "metadata": {},
   "source": [
    "#### Answer -  Check for alphabetic characters\n",
    "\n",
    "Click on the ellipses (...) below to see the answers."
   ]
  },
  {
   "cell_type": "markdown",
   "id": "6eb9318a-8bd9-476d-9c96-ed4c81f7e5eb",
   "metadata": {
    "jupyter": {
     "source_hidden": true
    },
    "tags": []
   },
   "source": [
    "*answer*\n",
    "\n",
    "1. True means there are alphabetic characters. False means there are not.\n",
    "2. The contains function returns true or false if the value matches the pattern\n",
    "3. A regular expression that matches any alphabetic characters\n",
    "4. To ignore the case sensitivity of the pattern and to consider missing values a False"
   ]
  },
  {
   "cell_type": "markdown",
   "id": "c4126fcd-9456-41ea-8716-7a31bf75e800",
   "metadata": {},
   "source": [
    "#### Task - Filter with a Boolean Mask\n",
    "\n",
    "1. Save the results of the previous task into a variable called `mask` \n",
    "2. Use the `mask` variable as an index for the `trees` dataframe. The results should match the data table with 8 rows at the beginning of the section.\n",
    "3. How many rows contain dirty data? "
   ]
  },
  {
   "cell_type": "code",
   "execution_count": null,
   "id": "a3c334fa-0233-4096-ac1b-9bf3637801b7",
   "metadata": {},
   "outputs": [],
   "source": [
    "# your code here\n"
   ]
  },
  {
   "cell_type": "markdown",
   "id": "b2210f83-fcd3-42df-b424-d80a7942f46a",
   "metadata": {},
   "source": [
    "#### Answer - Filter with a Boolean Mask\n",
    "\n",
    "Click on the ellipses (...) below to see the answers."
   ]
  },
  {
   "cell_type": "code",
   "execution_count": null,
   "id": "cbefe9bf-f2eb-4362-903d-82bd302c2c77",
   "metadata": {
    "jupyter": {
     "source_hidden": true
    },
    "tags": []
   },
   "outputs": [],
   "source": [
    "# answer\n",
    "mask = trees['address_number'].str.contains(\"[A-Za-z]\", na=False)\n",
    "trees[mask]"
   ]
  },
  {
   "cell_type": "markdown",
   "id": "e2fc6947-b6ff-487f-b0b8-cdab05f7a48b",
   "metadata": {
    "jupyter": {
     "source_hidden": true
    },
    "tags": []
   },
   "source": [
    "*answer* \n",
    "\n",
    "There are 8 rows with dirty data values in the address number column."
   ]
  },
  {
   "cell_type": "markdown",
   "id": "f2bec4f5-b410-4077-adcc-fb7e121d72b9",
   "metadata": {},
   "source": [
    "## Much Ado about Dirty Data\n",
    "\n",
    "The data table from the previous task shows the rows in the Pittsburgh Trees dataset that have dirty data values.\n",
    "\n",
    "The question is what do we do about it?\n",
    "\n",
    "There"
   ]
  },
  {
   "cell_type": "markdown",
   "id": "5ff32caf-ad80-432a-b695-32f9868eefc2",
   "metadata": {},
   "source": [
    "#### Task - How Big are the data in Memory?\n",
    "\n",
    "Because we are about to start cleaning the dataset it is not a bad idea to create a copy of the data (in case we screw up while cleaning). However, it is important to check and make sure the DataFrame isn't so large that creating a copy will use up too much memory.\n",
    "\n",
    "1. Use the `info()` method to see how big \n",
    "2. At what size do you think making a copy of the data is not a good idea?"
   ]
  },
  {
   "cell_type": "code",
   "execution_count": null,
   "id": "0a2324f7-b921-4153-8ca6-9bedd88d3c67",
   "metadata": {},
   "outputs": [],
   "source": [
    "# your code here\n"
   ]
  },
  {
   "cell_type": "markdown",
   "id": "6b3cbb84-b0b8-4c6e-85b8-0557c6c6114d",
   "metadata": {},
   "source": [
    "#### Answer\n",
    "\n",
    "Click on the ellipses (...) below to see the answers."
   ]
  },
  {
   "cell_type": "code",
   "execution_count": null,
   "id": "706f12e1-a344-41e3-8622-dea2b70d5328",
   "metadata": {
    "jupyter": {
     "source_hidden": true
    },
    "tags": []
   },
   "outputs": [],
   "source": [
    "# answer\n",
    "trees.info()"
   ]
  },
  {
   "cell_type": "markdown",
   "id": "43ad0ba5-f17e-4380-8c40-261e8a882948",
   "metadata": {
    "jupyter": {
     "source_hidden": true
    },
    "tags": []
   },
   "source": [
    "*answer*\n",
    "\n",
    "The trees dataset takes about 20 megabytes of data. This is a small enough dataset that a copy would only take up around 40 megabytes. \n",
    "\n",
    "Because Pandas loads everything into memory (RAM), you need to be mindful if your dataset is larger than half of the available memory on your computer."
   ]
  },
  {
   "cell_type": "markdown",
   "id": "aa6418b2-a4eb-439f-9652-0d8597fa0054",
   "metadata": {},
   "source": [
    "#### Task - Create a Copy\n",
    "\n",
    "1. Run the code cell below if you think the dataset is small enough to create a duplicate copy in memory.\n",
    "\n",
    "FYI: The JupyterHub server has 62 Gigabytes of memory."
   ]
  },
  {
   "cell_type": "code",
   "execution_count": null,
   "id": "1e751d59-541b-4d17-b7a8-68847428234a",
   "metadata": {},
   "outputs": [],
   "source": [
    "# create a copy of the tree data\n",
    "clean_trees = trees.copy()"
   ]
  },
  {
   "cell_type": "markdown",
   "id": "b0cd7dd5-3847-480e-b931-fab090d4a9f7",
   "metadata": {},
   "source": [
    "#### Task - Missing Comments when cleaning the `clean_trees` DataFrame\n",
    "\n",
    "1. The following Python code cell will loop over the index values of the rows with dirty data. For each of the rows it will extract the street number and name and assign them to the correct column. However, the code is missing comments and it is hard to understand what each line is doing. Add descriptive comments above each line after the `#` mark in the code below.\n",
    "\n",
    "Once you run the code once, the `clean_trees` DataFrame will actually be clean. If you need to re-execute the code below and see the proper output, re-create the copy of the `clean_trees` dataset by re-running the code from the previous task.\n",
    "\n",
    "Hint: The `address, *rest = dirty_value.split` is some fancy Pythonic code. A less fancy way perform the same operations would be:\n",
    "\n",
    "```python\n",
    "values = dirty_value.split()\n",
    "address = values[0]\n",
    "rest = values[1:]\n",
    "```"
   ]
  },
  {
   "cell_type": "code",
   "execution_count": null,
   "id": "573e85ab-e564-4a1d-a82e-0fe2dc1c37ab",
   "metadata": {},
   "outputs": [],
   "source": [
    "# \n",
    "for index in clean_trees[mask].index:\n",
    "    # \n",
    "    dirty_value = clean_trees.iloc[index,1]\n",
    "    # \n",
    "    print(dirty_value)\n",
    "    # \n",
    "    address, *rest = dirty_value.split()\n",
    "    # \n",
    "    street = \" \".join(rest).upper()\n",
    "    # \n",
    "    print(address, \"---\", street)\n",
    "    print()\n",
    "    #\n",
    "    clean_trees.iloc[index,1] = address\n",
    "    # \n",
    "    clean_trees.iloc[index,2] = street"
   ]
  },
  {
   "cell_type": "markdown",
   "id": "7435bd5b-7248-4781-b74f-e7a434ada8ab",
   "metadata": {},
   "source": [
    "#### Answer\n",
    "\n",
    "Click on the ellipses (...) below to see the answers."
   ]
  },
  {
   "cell_type": "code",
   "execution_count": null,
   "id": "a377db16-be55-4ee7-ae4c-136e99f2475c",
   "metadata": {
    "jupyter": {
     "source_hidden": true
    },
    "tags": []
   },
   "outputs": [],
   "source": [
    "# loop over the index values of the dirty rows\n",
    "for index in clean_trees[mask].index:\n",
    "    # extract dirty data value from the address_number column\n",
    "    dirty_value = clean_trees.iloc[index,1]\n",
    "    # print out the value\n",
    "    print(dirty_value)\n",
    "    # split on spaces. put the first value in the variable address and\n",
    "    # the remaining values in a list variable called rest\n",
    "    address, *rest = dirty_value.split()\n",
    "    # join all the values in the rest list on spaces and \n",
    "    # call the uppercase string method\n",
    "    street = \" \".join(rest).upper()\n",
    "    # Print the address and street separated by dashes then a blank line\n",
    "    print(address, \"---\", street)\n",
    "    print()\n",
    "    # update the address_number column value in the dataframe \n",
    "    clean_trees.iloc[index,1] = address\n",
    "    # update the street name column value in the dataframe\n",
    "    clean_trees.iloc[index,2] = street"
   ]
  },
  {
   "cell_type": "markdown",
   "id": "11d8e2b9-1913-47e6-a04f-6284915bbea7",
   "metadata": {},
   "source": [
    "#### Task - Compare the clean and dirty trees \n",
    "\n",
    "1. Review the [dataframes documentation for the `compare()` method](https://pandas.pydata.org/docs/reference/api/pandas.DataFrame.compare.html?highlight=compare#pandas.DataFrame.compare) and write code to compare `clean_trees` with the original dirty `trees` dataframe.\n",
    "2. What do the `self` and `other` column labels mean?\n",
    "2. Does the result match your expectations?"
   ]
  },
  {
   "cell_type": "code",
   "execution_count": null,
   "id": "e99d787f-f45b-4309-8bb1-cfc6552c2bdb",
   "metadata": {},
   "outputs": [],
   "source": [
    "# your code here\n"
   ]
  },
  {
   "cell_type": "markdown",
   "id": "633c602a-d049-4e91-a6f6-d41f7f9dc117",
   "metadata": {},
   "source": [
    "#### Answer\n",
    "\n",
    "Click on the ellipses (...) below to see the answers."
   ]
  },
  {
   "cell_type": "code",
   "execution_count": null,
   "id": "b4db05a0-02d2-486a-bdf2-2e7996fe5aaa",
   "metadata": {
    "jupyter": {
     "source_hidden": true
    },
    "tags": []
   },
   "outputs": [],
   "source": [
    "# answer\n",
    "\n",
    "# use the compare method to compare clean and dirty tree data\n",
    "clean_trees.compare(trees)"
   ]
  },
  {
   "cell_type": "markdown",
   "id": "7e1b0f3b-5d32-4fea-9f7f-c3d31220913b",
   "metadata": {
    "jupyter": {
     "source_hidden": true
    },
    "tags": []
   },
   "source": [
    "*answer* \n",
    "\n",
    "2. Self refers to `clean_trees` dataframe because it was the dataframe whose `compare()` method was called. Other refers to the `trees` data because it was the dataframe passed as a parameter. \n",
    "3. Yes, self shows the `address_number` column split whereas other shows the data combined in the `address_number` column."
   ]
  },
  {
   "cell_type": "markdown",
   "id": "e266f5aa-6d40-4f3a-b5c5-1e6f1b4959a4",
   "metadata": {},
   "source": [
    "#### Task - Save clean to disk\n",
    "\n",
    "1. Write your `clean_trees` DataFrame to disk as a CSV file called `pgh-trees-clean.csv` (you don't need to save it in a separate directory). \n",
    "2. Don't save the row index values when saving the CSV files. Review the [to_csv documentation](https://pandas.pydata.org/docs/reference/api/pandas.DataFrame.to_csv.html?highlight=to_csv#pandas.DataFrame.to_csv) to identify the appropriate parameter for disabling this behavior.\n",
    "3. Open the newly saved CSV file in Jupyter via the File Browser in the Left Menu Bar."
   ]
  },
  {
   "cell_type": "code",
   "execution_count": null,
   "id": "89de3d95-3941-4fb9-8fc9-7a2286c7f126",
   "metadata": {},
   "outputs": [],
   "source": [
    "# your code here\n"
   ]
  },
  {
   "cell_type": "markdown",
   "id": "37cc5d6b-9d42-4400-9dc1-9d29df6c741d",
   "metadata": {},
   "source": [
    "#### Answer\n",
    "\n",
    "Click on the ellipses (...) below to see the answers."
   ]
  },
  {
   "cell_type": "code",
   "execution_count": null,
   "id": "6405e914-affc-4223-887d-795bac889a8a",
   "metadata": {
    "jupyter": {
     "source_hidden": true
    },
    "tags": []
   },
   "outputs": [],
   "source": [
    "# answer\n",
    "clean_trees.to_csv(\"pgh-trees-clean.csv\", index=False)"
   ]
  },
  {
   "cell_type": "markdown",
   "id": "3570f50f-65f0-4ba7-992e-56a834c5b6ba",
   "metadata": {},
   "source": [
    "#### Task - Reload the Trees dataset\n",
    "\n",
    "1. Reload the trees dataset from the CSV file on disk. Do you see a warning?\n",
    "2. Use `info()` to inspect the column data types, what datatype is the `address_number`. Why is it that data type?"
   ]
  },
  {
   "cell_type": "code",
   "execution_count": null,
   "id": "38ac75cb-e719-499d-b554-075e0439ab40",
   "metadata": {},
   "outputs": [],
   "source": [
    "# your code here\n"
   ]
  },
  {
   "cell_type": "markdown",
   "id": "213db02d-39f4-4249-8a3a-7eacc84c4fe0",
   "metadata": {},
   "source": [
    "#### Answer\n",
    "\n",
    "Click on the ellipses (...) below to see the answers."
   ]
  },
  {
   "cell_type": "code",
   "execution_count": null,
   "id": "92482bfd-d39c-46a3-ae89-434865930f7b",
   "metadata": {
    "jupyter": {
     "source_hidden": true
    },
    "tags": []
   },
   "outputs": [],
   "source": [
    "# answer\n",
    "clean_trees = pd.read_csv(\"pgh-trees-clean.csv\")\n",
    "clean_trees.info()"
   ]
  },
  {
   "cell_type": "markdown",
   "id": "5f346a62-2f8e-43ce-9daf-1d1875e4b520",
   "metadata": {
    "jupyter": {
     "source_hidden": true
    },
    "tags": []
   },
   "source": [
    "*answer*\n",
    "\n",
    "1. No warning!\n",
    "2. The data type of the `address_column` is a floating point value. It is good that it's a numeric data type. It isn't an integer because there are missing values."
   ]
  },
  {
   "cell_type": "markdown",
   "id": "1df0f919-c85b-4806-877e-09f64e76b4a7",
   "metadata": {},
   "source": [
    "## Working with Textual Data\n",
    "\n",
    "String methods are useful not only for cleaning dirty data, but for processing textual data and creating new, more useful, data values for performing computations. The following series of tasks will use additional string methods to perform some complicated textual data manipulation on a dataset about the Mayors of Pittsburgh."
   ]
  },
  {
   "cell_type": "markdown",
   "id": "056b4f56-b2b8-42af-9015-c12792cfb7b2",
   "metadata": {},
   "source": [
    "#### Task - Load the Pittsburgh Mayors dataset\n",
    "\n",
    "1. Load the `pgh-mayors.tsv` file from the `datasets` directory into a DataFrame called `mayors`. Make a note of the file extension, `tsv` or tabbed-separated values, and specify your separator accordingly.\n",
    "2. Display the Dataframe"
   ]
  },
  {
   "cell_type": "code",
   "execution_count": null,
   "id": "c930da1a-c77e-421e-aa97-7ca3145e977a",
   "metadata": {},
   "outputs": [],
   "source": [
    "# your code here\n"
   ]
  },
  {
   "cell_type": "markdown",
   "id": "7a10ba53-0b08-4841-9902-6d62855d3a58",
   "metadata": {},
   "source": [
    "#### Answer - Load the Pittsburgh Mayors dataset\n",
    "\n",
    "Click on the ellipses (...) below to see the answers."
   ]
  },
  {
   "cell_type": "code",
   "execution_count": null,
   "id": "288ccff9-7af8-4124-925b-15e78d0c9631",
   "metadata": {
    "jupyter": {
     "source_hidden": true
    },
    "tags": []
   },
   "outputs": [],
   "source": [
    "# answer\n",
    "mayors = pd.read_csv(\"datasets/pgh-mayors.tsv\", sep=\"\\t\")\n",
    "mayors"
   ]
  },
  {
   "cell_type": "markdown",
   "id": "5ca63b3d-7ba5-47aa-93f2-dd46804b9889",
   "metadata": {},
   "source": [
    "#### Task - Split Mayor Names\n",
    "\n",
    "The `Mayor` column contains the full name of each Mayor, but it would be nice if we had separate columns for their first and last names. To do this we need to use several string methods to process the data values so they can be assigned to new columns.\n",
    "\n",
    "1. Review the list of [String Methods](https://pandas.pydata.org/docs/user_guide/text.html#method-summary) from the Pandas user guide.\n",
    "2. Add a string method to the end of the code below to separate each Mayor's first and last name\n",
    "3. What type of Pandas data structure gets returned? What data type are the individual values?"
   ]
  },
  {
   "cell_type": "code",
   "execution_count": null,
   "id": "9ea23474-d374-4d0f-9a74-c934cc2bf8dd",
   "metadata": {
    "tags": []
   },
   "outputs": [],
   "source": [
    "# finish this code\n",
    "mayors[\"Mayor\"].str."
   ]
  },
  {
   "cell_type": "markdown",
   "id": "6b12f068-6cca-4121-88bf-98a0f69ff24c",
   "metadata": {},
   "source": [
    "#### Answer - Split Mayor Names\n",
    "\n",
    "Click on the ellipses (...) below to see the answers."
   ]
  },
  {
   "cell_type": "code",
   "execution_count": null,
   "id": "cf8499a5-6cd3-48b3-8a10-74c8bbd85082",
   "metadata": {
    "jupyter": {
     "source_hidden": true
    },
    "tags": []
   },
   "outputs": [],
   "source": [
    "# answer\n",
    "mayors[\"Mayor\"].str.split()"
   ]
  },
  {
   "cell_type": "markdown",
   "id": "a86f0c93-81ec-4094-8204-120a302a2347",
   "metadata": {},
   "source": [
    "#### Task - Extract Values from Complex Data Types\n",
    "\n",
    "The results of the previous task have separated the Mayoral names, but the results are stored a Python lists *inside* a Pandas Series. Pandas provides a mechanism for extracting specific values from complex data structures that are stored as values inside of a Series. Review the [documentation for `str.get()` method](https://pandas.pydata.org/docs/reference/api/pandas.Series.str.get.html) to see how to extract values at particular index positions.\n",
    "\n",
    "1. Use `str.get()` method with method chaining to extract a Series of just the first names "
   ]
  },
  {
   "cell_type": "code",
   "execution_count": null,
   "id": "92b20cfa-111a-424d-973b-805e3d6580c0",
   "metadata": {},
   "outputs": [],
   "source": [
    "# your code here\n"
   ]
  },
  {
   "cell_type": "markdown",
   "id": "1f971db8-fe37-42e3-b76b-a1b42e66e092",
   "metadata": {},
   "source": [
    "#### Answer - Extract Values from Complex Data Types\n",
    "\n",
    "Click on the ellipses (...) below to see the answers."
   ]
  },
  {
   "cell_type": "code",
   "execution_count": null,
   "id": "61dcc3e3-0402-45fe-9b9e-18451f2b6256",
   "metadata": {
    "jupyter": {
     "source_hidden": true
    },
    "tags": []
   },
   "outputs": [],
   "source": [
    "# answer\n",
    "mayors[\"Mayor\"].str.split().str.get(0)"
   ]
  },
  {
   "cell_type": "markdown",
   "id": "e0d94278-6348-42d7-bf46-804f61f2bc35",
   "metadata": {},
   "source": [
    "#### Task - Extract Other Values from Complex Data Types\n",
    "\n",
    "1. 1. Use `str.get()` method with method chaining to extract a Series of just the last names "
   ]
  },
  {
   "cell_type": "code",
   "execution_count": null,
   "id": "8b8a55b3-c553-4093-b1c5-b3bebe3b8ddc",
   "metadata": {},
   "outputs": [],
   "source": [
    "# your code here\n"
   ]
  },
  {
   "cell_type": "markdown",
   "id": "c4542a03-1781-4e56-ad59-423a9c54dc8a",
   "metadata": {},
   "source": [
    "#### Answer\n",
    "\n",
    "Click on the ellipses (...) below to see the answers."
   ]
  },
  {
   "cell_type": "code",
   "execution_count": null,
   "id": "4fc215dd-456a-4f39-a75b-3d4e04c73e76",
   "metadata": {
    "jupyter": {
     "source_hidden": true
    },
    "tags": []
   },
   "outputs": [],
   "source": [
    "# answer\n",
    "mayors[\"Mayor\"].str.split().str.get(1)"
   ]
  },
  {
   "cell_type": "markdown",
   "id": "01946b14-3d71-4325-828b-73fa0272ba75",
   "metadata": {},
   "source": [
    "#### Task - Create Columns using Assignment\n",
    "\n",
    "Now that we can extract sequences of values representing the first and last names of Pittsburgh's mayors, the next step is to modify the DataFrame and add columns with the extracted values. The example code below shows how to use Python's assignment operator in combination with the column named index to define new column names with the first and last names.\n",
    "\n",
    "```python\n",
    "mayors[\"First\"] = mayors[\"Mayor\"].str.split().str.get(0)\n",
    "mayors[\"Last\"] = mayors[\"Mayor\"].str.split().str.get(1)\n",
    "```\n",
    "However, there is a quicker (in terms of writing code) way to add both columns. The code cell below provides an alternative way to insert columns. Consider the following questions when executing the code cell below.\n",
    "\n",
    "1. Why is the `expand` parameter necessary when assigning the results to multiple columns?\n",
    "2. Where does this code place the new columns using this approach?"
   ]
  },
  {
   "cell_type": "code",
   "execution_count": null,
   "id": "f71e5e69-dba2-42d4-9f6a-5f6745d3db88",
   "metadata": {},
   "outputs": [],
   "source": [
    "# alternative way to create columns\n",
    "mayors[[\"First\",\"Last\"]] = mayors[\"Mayor\"].str.split(expand=True)\n",
    "mayors"
   ]
  },
  {
   "cell_type": "markdown",
   "id": "9f87ddf8-18c5-4022-943e-863f6644051a",
   "metadata": {},
   "source": [
    "#### Answer \n",
    "\n",
    "Click on the ellipses (...) below to see the answers."
   ]
  },
  {
   "cell_type": "markdown",
   "id": "69faa1bb-b62f-41c3-955a-ba2e171b3119",
   "metadata": {
    "jupyter": {
     "source_hidden": true
    },
    "tags": []
   },
   "source": [
    "*answer*\n",
    "\n",
    "1. The `expand` parameter is neccessary because it will return the results as a dataframe with two columns, which fits the multiple column assignment. Without the expand parameter the results is a Series made of Python lists. The multiple assignment can't infer what values should go where in that case.\n",
    "2. When creating columns using an assignment operator it will create the columns at the end of the dataframe."
   ]
  },
  {
   "cell_type": "markdown",
   "id": "2cecb52c-0850-4ce5-8af7-5dc5ca9c87db",
   "metadata": {},
   "source": [
    "#### Task - Insert New Columns at a Specific Position\n",
    "\n",
    "There more than one way to add columns of data to your DataFrame. One of the more precise is the `insert` method of a DataFrame. Review the documentation for a DataFrame's Insert Method](https://pandas.pydata.org/pandas-docs/stable/reference/api/pandas.DataFrame.insert.html) and consider the code example below.\n",
    "\n",
    "```python\n",
    "mayors.insert(<column position>, <column name>, <values>)\n",
    "```\n",
    "1. What value would insert a new column immediately to the left of the `Mayor` column?\n",
    "2. What happens if you use the same name as we used before? What about a new name?\n",
    "3. Use the results from the previous task to specify the appropriate sequence of values to insert\n",
    "4. Write your code twice to create columns both the first and last names\n"
   ]
  },
  {
   "cell_type": "code",
   "execution_count": null,
   "id": "7692ad55-b680-43d7-ada8-a00cc05c7afb",
   "metadata": {},
   "outputs": [],
   "source": [
    "# your code here\n"
   ]
  },
  {
   "cell_type": "markdown",
   "id": "aa5c7a0a-b9bd-4ede-9365-dabb5b4865f8",
   "metadata": {},
   "source": [
    "#### Answer - Insert New Columns at a Specific Position\n",
    "\n",
    "Click on the ellipses (...) below to see the answers."
   ]
  },
  {
   "cell_type": "code",
   "execution_count": null,
   "id": "fe6caaf3-2d87-4fe8-8e6d-493ee932cef5",
   "metadata": {
    "jupyter": {
     "source_hidden": true
    },
    "tags": []
   },
   "outputs": [],
   "source": [
    "# answer\n",
    "mayors.insert(1, \"First Name\", mayors[\"Mayor\"].str.split().str.get(0))\n",
    "mayors.insert(2, \"Last Name\", mayors[\"Mayor\"].str.split().str.get(1))\n",
    "mayors"
   ]
  },
  {
   "cell_type": "markdown",
   "id": "a3ab77d9-664e-427f-baa2-049ba798e32c",
   "metadata": {},
   "source": [
    "#### Task - Rearrange Columns with the `reindex` method\n",
    "\n",
    "Now we have a DataFrame with a bunch of duplicated columns and in a wonky order. You can change the order of columns using the [`reindex()` dataframe method](https://pandas.pydata.org/docs/reference/api/pandas.DataFrame.reindex.html?highlight=reindex#pandas.DataFrame.reindex). \n",
    "\n",
    "1. Replace the `???` with a Python list of strings representing the columns names you want in a sensible order.\n",
    "2. What happens if you forget to include a column name? \n",
    "3. What if you have a typo in a column name?"
   ]
  },
  {
   "cell_type": "code",
   "execution_count": null,
   "id": "c0214047-6497-4a9f-b38c-5940e42349e8",
   "metadata": {},
   "outputs": [],
   "source": [
    "# Your code here\n",
    "header_list = ???\n",
    "mayors.reindex(columns=header_list)"
   ]
  },
  {
   "cell_type": "markdown",
   "id": "b7092c3f-0821-4cf5-87c9-2291579c4538",
   "metadata": {},
   "source": [
    "#### Answer - Rearrange Columns with the `reindex` method\n",
    "\n",
    "Click on the ellipses (...) below to see the answers."
   ]
  },
  {
   "cell_type": "code",
   "execution_count": null,
   "id": "1ddfd800-6ae5-40e5-8b46-b3d39822f188",
   "metadata": {
    "jupyter": {
     "source_hidden": true
    },
    "tags": []
   },
   "outputs": [],
   "source": [
    "# answer\n",
    "header_list = [\"Number\", \"First Name\", \"Last Name\", \"Mayor\", \"Term\", \"Party\", \"Notes\"]\n",
    "mayors.reindex(columns=header_list)"
   ]
  },
  {
   "cell_type": "markdown",
   "id": "afa682df-9425-4059-86bf-8d133f71e50e",
   "metadata": {
    "jupyter": {
     "source_hidden": true
    },
    "tags": []
   },
   "source": [
    "*answer*\n",
    "\n",
    "2. If you don't include a column name it will drop that column\n",
    "3. If you have a typo it will create a new column of missing values."
   ]
  }
 ],
 "metadata": {
  "kernelspec": {
   "display_name": "Python 3 (ipykernel)",
   "language": "python",
   "name": "python3"
  },
  "language_info": {
   "codemirror_mode": {
    "name": "ipython",
    "version": 3
   },
   "file_extension": ".py",
   "mimetype": "text/x-python",
   "name": "python",
   "nbconvert_exporter": "python",
   "pygments_lexer": "ipython3",
   "version": "3.9.13"
  }
 },
 "nbformat": 4,
 "nbformat_minor": 5
}
