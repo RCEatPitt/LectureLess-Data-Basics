{
 "cells": [
  {
   "cell_type": "markdown",
   "id": "2ce10e86-bcc5-47a9-b7a0-b47339b75061",
   "metadata": {},
   "source": [
    "# A gentle introduction to Python data visualization for R folks\n",
    "\n",
    "In this lesson you will learn how to create data visualizations to explore trends in a data set. You'll learn the basic types of graphs and which data types they are appropriate for and how to build a graph.In this lesson you will learn how to create data visualizations to explore trends in a data set. You'll learn the basic types of graphs and which data types they are appropriate for and how to build a graph.\n",
    "\n",
    "We will start with learning the \"grammar of graphics.\" Just like grammar in learning a language allows you to construct your own sentences, the grammar of graphics gives you a framework for building and customizing graphs, enabling you to generate your own graphs. \n",
    "\n",
    "The grammar of graphics is supported in python by the `plotnine` package. It is worth noting that there are many other ways to do data visualization in python. This lesson will focus on developing chats based on the unifying framework that is present with the grammar of graphics in `plotnine`.We will start with learning the \"grammar of graphics.\" Just like grammar in learning a language allows you to construct your own sentences, the grammar of graphics gives you a framework for building and customizing graphs, enabling you to generate your own graphs. \n",
    "\n",
    "The grammar of graphics is supported in python by the `plotnine` package. It is worth noting that there are many other ways to do data visualization in python. This lesson will focus on developing chats based on the unifying framework that is present with the grammar of graphics in `plotnine`.\n",
    "\n",
    "This lesson was originally authored in R and RMarkdown by Jenna C. Carlson, PhD. It has been adapted to Python and Jupyter by Matt Burton.\n",
    "\n",
    "## Learning Objectives\n",
    "\n",
    "-   Create various graphical summaries of data  \n",
    "-   Describe the “grammar” of ggplot2-style functions with [plotnine](https://plotnine.readthedocs.io/en/latest/index.html#)\n",
    "-   Build custom visualizations with plotnine\n",
    "\n",
    "\n"
   ]
  },
  {
   "cell_type": "markdown",
   "id": "b1c9cb6d-d670-4eb0-8c36-ec167e21e58f",
   "metadata": {},
   "source": [
    "## Loading Libraries\n",
    "\n",
    "This lesson uses the [plotnine](https://plotnine.readthedocs.io/en/latest/index.html) Python library to provide a \"ggplot2-like\" experience allowing R users to easily transition to Python data visualization. Plotnine is an interface to the [matplotlib](https://matplotlib.org/) data visualization library, so expect to look up the matplotlib documentation for various settings."
   ]
  },
  {
   "cell_type": "code",
   "execution_count": null,
   "id": "2d1f5852-38d6-4be3-9755-a5a324079652",
   "metadata": {},
   "outputs": [],
   "source": [
    "# load pandas for the data\n",
    "import pandas as pd\n",
    "\n",
    "# load plotnine for ggploty plotting\n",
    "from plotnine import *\n",
    "# import necessary to \n",
    "import matplotlib.font_manager"
   ]
  },
  {
   "cell_type": "markdown",
   "id": "06de9b8d-1bdc-4ce2-b40e-1b3a86138416",
   "metadata": {},
   "source": [
    "## Datasets used in this lesson\n",
    "\n",
    "- [City of Pittsburgh Trees](https://data.wprdc.org/dataset/city-trees) - This dataset contains information about trees cared for and managed by the City of Pittsburgh Department of Public Works Forestry Division. Each row represents a tree with with information about the type, location, size, and various measures about economic and environmental benefits. The dataset contains 45,709 entries.\n",
    "    - The dataset is stored as a CSV file with the name `pgh-trees.csv`- [City of Pittsburgh Trees](https://data.wprdc.org/dataset/city-trees) - This dataset contains information about trees cared for and managed by the City of Pittsburgh Department of Public Works Forestry Division. Each row represents a tree with with information about the type, location, size, and various measures about economic and environmental benefits. The dataset contains 45,709 entries.\n",
    "    - The dataset is stored as a CSV file in the `datasets` directory with the name `pgh-trees.csv`"
   ]
  },
  {
   "cell_type": "code",
   "execution_count": null,
   "id": "dcf5b66f-9948-4960-92c1-aec0151b4a0f",
   "metadata": {},
   "outputs": [],
   "source": [
    "# load the cleaner version of the trees dataset\n",
    "trees = pd.read_csv(\"datasets/pgh_trees_cleaner.csv\")"
   ]
  },
  {
   "cell_type": "markdown",
   "id": "bcb94b01-984f-4584-80ac-872d09335a1e",
   "metadata": {},
   "source": [
    "## Creating a plot\n",
    "\n",
    "All visualizations made with `plotnine` have the same inherent structure. There is the `ggplot()` function which defines, at a minimum, which data set will be used to make the plot. Then you add a geom function on to that base plot definition.\n",
    "\n",
    "```python\n",
    "(ggplot(data = <DATA>) +\n",
    "    <GEOM_FUNCTION>(mapping = aes(<MAPPINGS>)))\n",
    "```\n",
    "\n",
    "The `ggplot` function by itself doesn't produce a plot. It creates a shell plot based on the information you give it."
   ]
  },
  {
   "cell_type": "code",
   "execution_count": null,
   "id": "376084c6-8462-4408-9f3e-b068d4b3f1ff",
   "metadata": {},
   "outputs": [],
   "source": [
    "# run the ggplot function with the tree dataset\n",
    "ggplot(data = trees)"
   ]
  },
  {
   "cell_type": "markdown",
   "id": "4b01439e-e755-48ef-bbed-019c0035bb19",
   "metadata": {},
   "source": [
    "This creates a completely empty plot because we haven't added any *geoms* to our plot. We could set up this \"shell\" plot a little bit more by telling it which variables we will use in the aesthetics mapping (more on that below). For example, if we want to make a plot using the variable height and width, the `ggplot` function would look like this:"
   ]
  },
  {
   "cell_type": "code",
   "execution_count": null,
   "id": "51501b43-43bc-4507-8a55-32bce8127578",
   "metadata": {},
   "outputs": [],
   "source": [
    "# bind data to the plot\n",
    "ggplot(data = trees, mapping = aes(x='width', y='height'))"
   ]
  },
  {
   "cell_type": "markdown",
   "id": "a0b64bbc-67fc-44ef-843e-beaee956b552",
   "metadata": {},
   "source": [
    "Notice how there still isn't actually any data plotted, but the X and Y axes are set up with the variable names and their ranges. We can check this by examining the variables themselves."
   ]
  },
  {
   "cell_type": "code",
   "execution_count": null,
   "id": "57b966de-de9c-4a2d-8c0d-f65c4932d0d3",
   "metadata": {},
   "outputs": [],
   "source": [
    "# compute summary statistics for the width and height columns\n",
    "trees[[\"width\",\"height\"]].describe()"
   ]
  },
  {
   "cell_type": "markdown",
   "id": "0a8f487b-72c4-468d-9147-9f0476908e27",
   "metadata": {},
   "source": [
    "The min and max values of each variable are what the ggplot function used to define the range of the X and Y axis.\n",
    "\n",
    "Next, you can add a geom to plot the data. Let's start with a simple scatter plot, which is created by `geom_point`. Literally, we will plot the data as points added on top of this shell plot."
   ]
  },
  {
   "cell_type": "code",
   "execution_count": null,
   "id": "fac581ad-f60c-4c3e-b5e1-1a9600ea1844",
   "metadata": {},
   "outputs": [],
   "source": [
    "# add point geometry to our plot\n",
    "(ggplot(data = trees, mapping = aes(x=\"width\", y=\"height\")) + \n",
    "  geom_point())\n"
   ]
  },
  {
   "cell_type": "markdown",
   "id": "d0a09876-2cfe-488d-b6c6-2d43785bb5d6",
   "metadata": {},
   "source": [
    "### Plotnine in Python vs. ggplot 2 in R\n",
    "\n",
    "A quick note about coding style here. Python statements need to be all on one line. But often with ggplot we will add lots of different function together to create one plot. It is recommend you put each additional function on its own line for readability. In Python, if we want to add together each function call on a separate line we need to wrap the entire statement in parentheses `()` and then put a `+` when we add a plotnine function to our base plot object (created by the `ggplot()` call at the beginning. By wrapping the expression in parentheses Python will ignore the newlines and act as if everything was written in one line, that is, ignore the newlines and white space. \n",
    "\n",
    "For example, this single line of code works the exact way as the one above, but it is clearer to read above. (And you can imagine if we add 10 more functions, having them on each line will be much clearer to read.) While it looks weird, it allows the code to follow the code style of ggplot2 code written in R."
   ]
  },
  {
   "cell_type": "code",
   "execution_count": null,
   "id": "c8efceb1-b23e-4e39-988e-ff2de7c42869",
   "metadata": {},
   "outputs": [],
   "source": [
    "# ggplot function calls on one line\n",
    "ggplot(data = trees, mapping = aes(x=\"width\", y=\"height\")) + geom_point()"
   ]
  },
  {
   "cell_type": "markdown",
   "id": "2ea7f5d5-2db4-4299-ac7f-07a88929f569",
   "metadata": {},
   "source": [
    "Just don't forget the `+` goes at the end of the line to string together the functions. Here are some common mistakes people make when learning to build ggplots."
   ]
  },
  {
   "cell_type": "code",
   "execution_count": null,
   "id": "27238a77-e202-4067-811f-d46f5cb96ea9",
   "metadata": {},
   "outputs": [],
   "source": [
    "# run me to get a syntax error\n",
    "ggplot(data = trees, mapping = aes(x=width, y=height)) geom_point()"
   ]
  },
  {
   "cell_type": "markdown",
   "id": "28dd4fb7-984a-4c3e-bc9b-aebeea7d6403",
   "metadata": {},
   "source": [
    "#### Task - Stem summary statistics\n",
    "\n",
    "1. Find the min/max of the variable stem and height in the `trees` dataset.  "
   ]
  },
  {
   "cell_type": "code",
   "execution_count": null,
   "id": "c3eefb20-4cd5-42ae-a5b7-cfc76f648792",
   "metadata": {},
   "outputs": [],
   "source": [
    "# your code here\n"
   ]
  },
  {
   "cell_type": "markdown",
   "id": "cac31e76-ac7d-4551-8a15-39bd673d99de",
   "metadata": {},
   "source": [
    "#### Answer - \n",
    "\n",
    "Click on the ellipses (...) below to see the answers."
   ]
  },
  {
   "cell_type": "code",
   "execution_count": null,
   "id": "663d6c69-4083-4b2e-ab2c-b1c3eba9ff2c",
   "metadata": {
    "jupyter": {
     "source_hidden": true
    },
    "tags": []
   },
   "outputs": [],
   "source": [
    "# solution\n",
    "\n",
    "# select stems and height cols and use the describe() for summary statistics\n",
    "trees[[\"stems\", \"height\"]].describe() \n",
    "\n",
    "# expect the x-axis to go from 0-158 and y-axis from 0-211"
   ]
  },
  {
   "cell_type": "markdown",
   "id": "106048ca-881d-4743-a53a-95529ac93a5e",
   "metadata": {},
   "source": [
    "#### Task - Stem shell\n",
    "\n",
    "1. Use the ggplot function to create a \"shell\" plot for a graph that will have `height` on the X-axis and `stems` on the Y-axis. Looking at range of the axes, does it match your expectations from above?"
   ]
  },
  {
   "cell_type": "code",
   "execution_count": null,
   "id": "c8b832c9-afdf-4c2b-b06e-612d28b7c740",
   "metadata": {},
   "outputs": [],
   "source": [
    "# write your code here\n"
   ]
  },
  {
   "cell_type": "markdown",
   "id": "f57b3388-6430-48a8-b45a-3044d122485d",
   "metadata": {},
   "source": [
    "#### Answer - \n",
    "\n",
    "Click on the ellipses (...) below to see the answers."
   ]
  },
  {
   "cell_type": "code",
   "execution_count": null,
   "id": "62b353d9-b012-4dbd-9d11-644be56a38cf",
   "metadata": {
    "jupyter": {
     "source_hidden": true
    },
    "tags": []
   },
   "outputs": [],
   "source": [
    "# solutions\n",
    "ggplot(data = trees, mapping = aes(x=\"height\", y=\"stems\"))"
   ]
  },
  {
   "cell_type": "markdown",
   "id": "400ed8d0-fa01-4110-b964-ffe604f5d05c",
   "metadata": {},
   "source": [
    "#### Task - Get to the points\n",
    "\n",
    "1.  Adapt the code you wrote above to add the geom `geom_point()` function to make a scatter plot of height and stems."
   ]
  },
  {
   "cell_type": "code",
   "execution_count": null,
   "id": "2ab44ddf-bd79-4c70-8c80-84a563408b2b",
   "metadata": {},
   "outputs": [],
   "source": [
    "# write your code here\n"
   ]
  },
  {
   "cell_type": "markdown",
   "id": "25c93883-521e-4c1c-8cb8-d78386bfa20f",
   "metadata": {},
   "source": [
    "#### Answer - \n",
    "\n",
    "Click on the ellipses (...) below to see the answers."
   ]
  },
  {
   "cell_type": "code",
   "execution_count": null,
   "id": "e8bcfcc2-e861-4f76-b086-5a049cb681c7",
   "metadata": {
    "jupyter": {
     "source_hidden": true
    },
    "tags": []
   },
   "outputs": [],
   "source": [
    "# answer\n",
    "\n",
    "# add points to the plot. don't forget to wrap in parens and use + to add functions\n",
    "(ggplot(data = trees, mapping = aes(x=\"height\", y=\"stems\")) +\n",
    "    geom_point())"
   ]
  },
  {
   "cell_type": "markdown",
   "id": "f3f91f90-db80-4d26-acd0-bcab18b9300c",
   "metadata": {},
   "source": [
    "## Adding features with functions\n",
    "\n",
    "The code cell below generates a stylized plot from the `trees` dataset. \n"
   ]
  },
  {
   "cell_type": "code",
   "execution_count": null,
   "id": "63ea55eb-6d7d-47d8-8f23-4933bdd6475e",
   "metadata": {},
   "outputs": [],
   "source": [
    "# ggplot with several added functions\n",
    "(ggplot(data = trees, mapping = aes(x=\"height\", y=\"overall_benefits_dollar_value\")) +\n",
    "  geom_point(color=\"lightblue\") + \n",
    "  theme_classic() + \n",
    "  xlab(\"Height of tree\") + \n",
    "  ylab(\"Overall Benefits ($)\"))"
   ]
  },
  {
   "cell_type": "markdown",
   "id": "79f7603e-0a8f-4e93-9b44-94189c29decb",
   "metadata": {},
   "source": [
    "#### Task - Features of the figure\n",
    "\n",
    "1.  Identify the lines of code code that:\n",
    "    1.  Add blue points\n",
    "    2.  Bind or specify the dataset and specific columns to plot\n",
    "    3.  Changes the axis labels \n",
    "2. Describe in your own words what is being plotted and any trends or insights the plot reveals.\n",
    "\n",
    "Write your answer in the markdown cell below"
   ]
  },
  {
   "cell_type": "markdown",
   "id": "999e9436-aac4-40c4-bdf4-b285ff0a766d",
   "metadata": {},
   "source": [
    "*Your answer here*\n",
    "\n",
    "\n"
   ]
  },
  {
   "cell_type": "markdown",
   "id": "965f092f-05d3-471b-be5f-c78aad96f150",
   "metadata": {},
   "source": [
    "#### Answer - \n",
    "\n",
    "Click on the ellipses (...) below to see the answers."
   ]
  },
  {
   "cell_type": "markdown",
   "id": "e4748d00-a674-4225-9eee-510e336688d9",
   "metadata": {
    "jupyter": {
     "source_hidden": true
    },
    "tags": []
   },
   "source": [
    "*answer*\n",
    "\n",
    "1. Features of the plot\n",
    "    1. Line 3 `geom_point(color=\"lightblue\")` adds the point geometry function with a keyword argument `color` with the string \"light blue\" to specify the color of the points. \n",
    "    2. Line 2 `ggplot(data = trees, mapping = aes(x=\"height\", y=\"overall_benefits_dollar_value\"))` calls the ggplot function with the data and mapping arguments that pass the tree data and uses the `aes` function to specify what columns are on the x and y axes.\n",
    "    3. Lines 5 and 6 use the `xlab` and `ylab` functions with the text labels as their arguments\n",
    "2. This function creates a scatter plot of overall dollar value benefit by the height of the trees in Pittsburgh.This plots a scatter plot of overall dollar value benefit by the height of the trees in Pittsburgh. Generally taller trees have higher benefit values. There are also a lot of trees of height zero."
   ]
  },
  {
   "cell_type": "markdown",
   "id": "b96f0198-c47b-47b1-870c-18ba77c1ca19",
   "metadata": {},
   "source": [
    "#### Task - From height to width\n",
    "\n",
    "1.  Modify the code below to plot the width of the tree instead of the height of the tree. \n",
    "2. Do you observe a different relationship between the two variables?"
   ]
  },
  {
   "cell_type": "code",
   "execution_count": null,
   "id": "fe31f05b-e7c8-4cd5-9db6-9f232559ce12",
   "metadata": {},
   "outputs": [],
   "source": [
    "# modify this code\n",
    "(ggplot(data = trees, mapping = aes(x=\"height\", y=\"overall_benefits_dollar_value\")) +\n",
    "  geom_point(color=\"lightblue\") + \n",
    "  theme_classic() + \n",
    "  xlab(\"Height of tree\") + \n",
    "  ylab(\"Overall Benefits ($)\"))"
   ]
  },
  {
   "cell_type": "markdown",
   "id": "37e0aadf-e040-4dff-8bbb-46f099220934",
   "metadata": {},
   "source": [
    "#### Answer - \n",
    "\n",
    "Click on the ellipses (...) below to see the answers."
   ]
  },
  {
   "cell_type": "code",
   "execution_count": null,
   "id": "61f85569-c9db-4047-a64e-e42f37c8102b",
   "metadata": {
    "jupyter": {
     "source_hidden": true
    },
    "tags": []
   },
   "outputs": [],
   "source": [
    "# solution\n",
    "(ggplot(data = trees, mapping = aes(x=\"width\", y=\"overall_benefits_dollar_value\")) +\n",
    "  geom_point(color=\"lightblue\") + \n",
    "  theme_classic() + \n",
    "  xlab(\"Width of tree\") + \n",
    "  ylab(\"Overall Benefits ($)\"))"
   ]
  },
  {
   "cell_type": "markdown",
   "id": "6933bc21-5fd1-4b75-97ca-7b0dc7ca4913",
   "metadata": {
    "jupyter": {
     "source_hidden": true
    },
    "tags": []
   },
   "source": [
    "*answer*\n",
    "\n",
    "2. The correlation between the width and value doesn't appear as strong as with the height, but there are still a lot of trees with zero values."
   ]
  },
  {
   "cell_type": "markdown",
   "id": "28337e4e-80eb-4efd-ba0c-06e3a87bc6d3",
   "metadata": {},
   "source": [
    "#### Trees - Green trees are green\n",
    "\n",
    "1. Trees are green not blue! Modify the code below to change the color of the points to dark green. See the [matplotlib documentation](https://matplotlib.org/stable/gallery/color/named_colors.html#css-colors) for a list of color names."
   ]
  },
  {
   "cell_type": "code",
   "execution_count": null,
   "id": "74f74ebe-26cc-47a1-9559-3e12ab99de55",
   "metadata": {},
   "outputs": [],
   "source": [
    "# modify this code\n",
    "(ggplot(data = trees, mapping = aes(x=\"height\", y=\"overall_benefits_dollar_value\")) +\n",
    "  geom_point(color=\"lightblue\") + \n",
    "  theme_classic() + \n",
    "  xlab(\"Height of tree\") + \n",
    "  ylab(\"Overall Benefits ($)\"))"
   ]
  },
  {
   "cell_type": "markdown",
   "id": "b26c261b-9fa7-4d9b-928f-4640f88700c7",
   "metadata": {},
   "source": [
    "#### Answer - \n",
    "\n",
    "Click on the ellipses (...) below to see the answers."
   ]
  },
  {
   "cell_type": "code",
   "execution_count": null,
   "id": "68161205-b4ef-43a2-8ec1-9cbcd092f98e",
   "metadata": {
    "jupyter": {
     "source_hidden": true
    },
    "tags": []
   },
   "outputs": [],
   "source": [
    "# solution\n",
    "(ggplot(data = trees, mapping = aes(x=\"width\", y=\"overall_benefits_dollar_value\")) +\n",
    "  geom_point(color=\"darkgreen\") + \n",
    "  theme_classic() + \n",
    "  xlab(\"Width of tree\") + \n",
    "  ylab(\"Overall Benefits ($)\"))"
   ]
  },
  {
   "cell_type": "markdown",
   "id": "8e0169da-993a-449f-b236-7709d9b6a294",
   "metadata": {},
   "source": [
    "#### Task - No more theme\n",
    "\n",
    "1. Modify the code below to make the points dark green and remove classic theme.\n",
    "2. What has changed in the aesthetics of the plot?"
   ]
  },
  {
   "cell_type": "code",
   "execution_count": null,
   "id": "24ff1b97-6ebf-423c-ad11-f136bb7c8f81",
   "metadata": {},
   "outputs": [],
   "source": [
    "# modify this code\n",
    "(ggplot(data = trees, mapping = aes(x=\"height\", y=\"overall_benefits_dollar_value\")) +\n",
    "  geom_point(color=\"lightblue\") + \n",
    "  theme_classic() + \n",
    "  xlab(\"Height of tree\") + \n",
    "  ylab(\"Overall Benefits ($)\"))"
   ]
  },
  {
   "cell_type": "markdown",
   "id": "3aae733d-915b-4380-b362-cd6f256990bd",
   "metadata": {},
   "source": [
    "#### Answer - \n",
    "\n",
    "Click on the ellipses (...) below to see the answers."
   ]
  },
  {
   "cell_type": "code",
   "execution_count": null,
   "id": "7d983c3b-fdaf-4394-82b9-0917ca3f60c9",
   "metadata": {
    "jupyter": {
     "source_hidden": true
    },
    "tags": []
   },
   "outputs": [],
   "source": [
    "# answer 1\n",
    "(ggplot(data = trees, mapping = aes(x=\"width\", y=\"overall_benefits_dollar_value\")) +\n",
    "  geom_point(color=\"darkgreen\") + \n",
    "  xlab(\"Width of tree\") + \n",
    "  ylab(\"Overall Benefits ($)\"))"
   ]
  },
  {
   "cell_type": "markdown",
   "id": "1bd6f446-4258-4f98-bf1a-f3df3c263ab7",
   "metadata": {
    "jupyter": {
     "source_hidden": true
    },
    "tags": []
   },
   "source": [
    "*answer* \n",
    "\n",
    " 2. The style of the plot has changed. It now has a gray background with grid lines."
   ]
  },
  {
   "cell_type": "markdown",
   "id": "43d8ef0b-77c6-45a7-8a17-3797a326969a",
   "metadata": {},
   "source": [
    "## Aesthetic Mappings - Dimensions with Data\n",
    "\n",
    "When you changed the color of the points in the plot above, you changed the *aesthetic* of the plot. (This is what ggplot calls things like color, etc.)\n",
    "\n",
    "There are two primary ways to change the aesthetics of a ggplot - a constant way (like you did above, where the aesthetics of all the data are changed to the same thing) or a variable way (i.e., depending on values of a variable in the data set).\n",
    "\n",
    "To create a variable, data-driven aesthetic mapping you need to enclose the aesthetic mapping in the `aes()` function. Look at the code cell below and answer the following tasks."
   ]
  },
  {
   "cell_type": "code",
   "execution_count": null,
   "id": "f48dde37-298b-4e90-9b9e-f5e50e148d18",
   "metadata": {},
   "outputs": [],
   "source": [
    "# plot with a data to color mapping\n",
    "(ggplot(data = trees, mapping = aes(x=\"height\", y=\"overall_benefits_dollar_value\")) +\n",
    "  geom_point(aes(color=\"stems\")) + \n",
    "  theme_classic() + \n",
    "  xlab(\"Height of tree\") + \n",
    "  ylab(\"Overall Benefits ($)\"))"
   ]
  },
  {
   "cell_type": "markdown",
   "id": "1d3cfdfc-e0a8-4228-adb3-cfaee6d1c27e",
   "metadata": {},
   "source": [
    "#### Task - Features of the figure\n",
    "\n",
    "Look at the code above and answer the following questions:\n",
    "1. What variable in the trees data is controlling the color of the points?  \n",
    "2. What is the range of this variable.\n",
    "3. Modify the code below to color the points based on the variable `condition`. What is different about the coloring in this plot? How is this related to the values of the data in that column?"
   ]
  },
  {
   "cell_type": "markdown",
   "id": "97925e9c-e1e7-4a7a-8239-9de508ed1e74",
   "metadata": {},
   "source": [
    "*your answers here*\n",
    "\n"
   ]
  },
  {
   "cell_type": "code",
   "execution_count": null,
   "id": "7c467d8c-3dc8-4eac-9479-ef2b1bf01438",
   "metadata": {},
   "outputs": [],
   "source": [
    "# modify this code\n",
    "(ggplot(data = trees, mapping = aes(x=\"height\", y=\"overall_benefits_dollar_value\")) +\n",
    "  geom_point(aes(color=\"stems\")) + \n",
    "  theme_classic() + \n",
    "  xlab(\"Height of tree\") + \n",
    "  ylab(\"Overall Benefits ($)\"))"
   ]
  },
  {
   "cell_type": "markdown",
   "id": "be3aa0bb-009c-4bdc-9043-7aa7ac57840f",
   "metadata": {},
   "source": [
    "#### Answer - \n",
    "\n",
    "Click on the ellipses (...) below to see the answers."
   ]
  },
  {
   "cell_type": "markdown",
   "id": "a712278a-396d-4f76-bc6d-38e188a6d951",
   "metadata": {
    "jupyter": {
     "source_hidden": true
    },
    "tags": []
   },
   "source": [
    "*answer* \n",
    "\n",
    "1. The `stems` column is mapped to color for the geom_points\n",
    "2. This variable has a range of 0 to 200\n",
    "3. The coloring is not gradient anymore because we are coloring by a categorical variable."
   ]
  },
  {
   "cell_type": "code",
   "execution_count": null,
   "id": "bc149e79-48ae-49cc-8512-54fd3a56c41b",
   "metadata": {
    "jupyter": {
     "source_hidden": true
    },
    "tags": []
   },
   "outputs": [],
   "source": [
    "# answer 3\n",
    "(ggplot(data = trees, mapping = aes(x=\"height\", y=\"overall_benefits_dollar_value\")) +\n",
    "  geom_point(aes(color=\"condition\")) + \n",
    "  theme_classic() + \n",
    "  xlab(\"Height of tree\") + \n",
    "  ylab(\"Overall Benefits ($)\"))"
   ]
  },
  {
   "cell_type": "markdown",
   "id": "161d5701-d8f4-4d74-8ed0-030dda9fa1ef",
   "metadata": {},
   "source": [
    "### Transparency\n",
    "\n",
    "When lots of data are being plotted, it can sometimes be challenging to see everything. One common option is to change the transparency of the points to make it easier to see. This is done through the option `alpha=`."
   ]
  },
  {
   "cell_type": "code",
   "execution_count": null,
   "id": "ab9c3e5f-ff35-4c6c-8b22-c9d27ebfab51",
   "metadata": {},
   "outputs": [],
   "source": [
    "# plot with transparency\n",
    "(ggplot(data = trees, mapping = aes(x=\"height\", y=\"overall_benefits_dollar_value\")) +\n",
    "  geom_point(aes(color=\"stems\"), alpha = 0.1) + \n",
    "  theme_classic() + \n",
    "  xlab(\"Height of tree\") + \n",
    "  ylab(\"Overall Benefits ($)\"))"
   ]
  },
  {
   "cell_type": "markdown",
   "id": "78d8e42d-c834-4b9d-9322-4092df6ffec9",
   "metadata": {},
   "source": [
    "#### Task - Features of a figure's transparency\n",
    "\n",
    "1.  In the plot above is the alpha option being used as a variable aesthetic mapping or constant? How do you know?\n",
    "2.  How might you change the behavior of the alpha option to be dynamic based on the value of the `stems` column? Modify the code to make the points transparent based on the stems."
   ]
  },
  {
   "cell_type": "code",
   "execution_count": null,
   "id": "534d2e6f-0078-498c-a0fb-8cc59acff66f",
   "metadata": {},
   "outputs": [],
   "source": [
    "*your answer here*\n",
    "\n"
   ]
  },
  {
   "cell_type": "code",
   "execution_count": null,
   "id": "0f5b2539-c471-4f8d-b305-c62c7fed7338",
   "metadata": {},
   "outputs": [],
   "source": [
    "# you code here\n"
   ]
  },
  {
   "cell_type": "markdown",
   "id": "86605daf-d853-46bc-b205-af9f0c567e15",
   "metadata": {},
   "source": [
    "#### Answer - \n",
    "\n",
    "Click on the ellipses (...) below to see the answers."
   ]
  },
  {
   "cell_type": "markdown",
   "id": "85c7e73a-5212-4752-9a56-318b404e2ad4",
   "metadata": {
    "jupyter": {
     "source_hidden": true
    },
    "tags": []
   },
   "source": [
    "*answers*\n",
    "1. The alpha is set to a constant value in the code of 0.1. If it were a variable aesthetic mapping it would appear in the legend.\n",
    "2.  Put the `alpha=` keyword argument inside the `aes()` function with `stems` as the value."
   ]
  },
  {
   "cell_type": "code",
   "execution_count": null,
   "id": "a3855a3c-d60e-4a43-b2da-e0c3c3e15488",
   "metadata": {
    "jupyter": {
     "source_hidden": true
    },
    "tags": []
   },
   "outputs": [],
   "source": [
    "# answer\n",
    "\n",
    "# plot with variable transparency based on stems\n",
    "(ggplot(data = trees, mapping = aes(x=\"height\", y=\"overall_benefits_dollar_value\")) +\n",
    "  geom_point(aes(color=\"stems\", alpha=\"stems\")) + \n",
    "  theme_classic() + \n",
    "  xlab(\"Height of tree\") + \n",
    "  ylab(\"Overall Benefits ($)\"))"
   ]
  },
  {
   "cell_type": "markdown",
   "id": "f4d5e8f6-5f44-44a7-99b1-805d107884f7",
   "metadata": {},
   "source": [
    "### Size\n",
    "\n",
    "The size of data points can be used in charts to represent additional dimensions of data values. The code below adds a size aesthetic mapping."
   ]
  },
  {
   "cell_type": "code",
   "execution_count": null,
   "id": "af815a13-8316-476b-bff4-d05fae0f8c22",
   "metadata": {},
   "outputs": [],
   "source": [
    "# data to size mapping\n",
    "(ggplot(data = trees, mapping = aes(x=\"height\", y=\"overall_benefits_dollar_value\")) +\n",
    "  geom_point(aes(color=\"stems\", size=\"stems\")) + \n",
    "  theme_classic() + \n",
    "  xlab(\"Height of tree\") + \n",
    "  ylab(\"Overall Benefits ($)\"))"
   ]
  },
  {
   "cell_type": "markdown",
   "id": "5c4b326e-9e73-45d3-8b56-dd811359d4e0",
   "metadata": {},
   "source": [
    "#### Task - Features of a figure's size\n",
    "\n",
    "1. In the example plot above is the size option being used as a variable aesthetic or constant? How do you know?\n",
    "2. Execute the code for the two plots below and compare the results. What kind of value is `size` being assigned? How is that value affecting the plot? Given your understanding of aesthetic mappings, how is ggplot treating the values for the `size` argument?"
   ]
  },
  {
   "cell_type": "code",
   "execution_count": null,
   "id": "f94b8318-9659-48de-b753-2b1b8f3d404a",
   "metadata": {},
   "outputs": [],
   "source": [
    "# plot 1\n",
    "(ggplot(data = trees, mapping = aes(x=\"height\", y=\"overall_benefits_dollar_value\")) +\n",
    "  geom_point(aes(color=\"stems\", size=1)) + \n",
    "  theme_classic() + \n",
    "  xlab(\"Height of tree\") + \n",
    "  ylab(\"Overall Benefits ($)\") + \n",
    "  ggtitle(\"Plot A\"))"
   ]
  },
  {
   "cell_type": "code",
   "execution_count": null,
   "id": "a1e8d9be-2bcc-4b95-935a-55db3acd3d7c",
   "metadata": {},
   "outputs": [],
   "source": [
    "# plot 2\n",
    "(ggplot(data = trees, mapping = aes(x=\"height\", y=\"overall_benefits_dollar_value\")) +\n",
    "  geom_point(aes(color=\"stems\", size=5)) + \n",
    "  theme_classic() + \n",
    "  xlab(\"Height of tree\") + \n",
    "  ylab(\"Overall Benefits ($)\") + \n",
    "  ggtitle(\"Plot B\"))"
   ]
  },
  {
   "cell_type": "markdown",
   "id": "53dc681a-99e5-4f80-adc1-f9561dc9fc41",
   "metadata": {},
   "source": [
    "#### Answer - \n",
    "\n",
    "Click on the ellipses (...) below to see the answers."
   ]
  },
  {
   "cell_type": "markdown",
   "id": "aeea93fe-c45a-45f1-b418-461097d22669",
   "metadata": {
    "jupyter": {
     "source_hidden": true
    },
    "tags": []
   },
   "source": [
    "*answer*\n",
    "\n",
    "1. The size option is variable because it is inside the `aes` mapping function and appears in the legend.\n",
    "2. Size is set to a constant value, however size is showing up in the legend and for both plots the points are the same size even though we asked for different sizes. R thinks I have given it a variable aes map."
   ]
  },
  {
   "cell_type": "markdown",
   "id": "0bd56156-1557-4dfb-81bb-fdc5f20205a4",
   "metadata": {},
   "source": [
    "#### Task - Adjust the size\n",
    "\n",
    "1.  Modify the code below to make all the points have a size of 2. "
   ]
  },
  {
   "cell_type": "code",
   "execution_count": null,
   "id": "70a8863a-e155-4a69-aa2d-99b2366916d1",
   "metadata": {},
   "outputs": [],
   "source": [
    "# modify this code\n",
    "(ggplot(data = trees, mapping = aes(x=\"height\", y=\"overall_benefits_dollar_value\")) +\n",
    "  geom_point(aes(color=\"stems\", size=4)) + \n",
    "  theme_classic() + \n",
    "  xlab(\"Height of tree\") + \n",
    "  ylab(\"Overall Benefits ($)\"))"
   ]
  },
  {
   "cell_type": "markdown",
   "id": "df6be775-25db-4ee4-94d3-e9af7d2a5703",
   "metadata": {},
   "source": [
    "#### Answer - \n",
    "\n",
    "Click on the ellipses (...) below to see the answers."
   ]
  },
  {
   "cell_type": "code",
   "execution_count": null,
   "id": "c54a9978-274a-406d-bcdc-de6f0738bf9b",
   "metadata": {
    "jupyter": {
     "source_hidden": true
    },
    "tags": []
   },
   "outputs": [],
   "source": [
    "# answer\n",
    "(ggplot(data = trees, mapping = aes(x=\"height\", y=\"overall_benefits_dollar_value\")) +\n",
    "  geom_point(aes(color=\"stems\"), size=2) + \n",
    "  theme_classic() + \n",
    "  xlab(\"Height of tree\") + \n",
    "  ylab(\"Overall Benefits ($)\"))"
   ]
  },
  {
   "cell_type": "markdown",
   "id": "be17dcd0-d500-4af5-936c-5b234daa0333",
   "metadata": {},
   "source": [
    "### Shape\n",
    "\n",
    "You can also add additional dimensions of data by adjusting the shape of the points based on the data values."
   ]
  },
  {
   "cell_type": "code",
   "execution_count": null,
   "id": "add81191-5454-4172-bccc-c8757c2c42f1",
   "metadata": {},
   "outputs": [],
   "source": [
    "# example plot with shape\n",
    "(ggplot(data = trees, mapping = aes(x=\"height\", y=\"overall_benefits_dollar_value\")) +\n",
    "  geom_point(aes(color=\"overhead_utilities\", shape=\"overhead_utilities\")) + \n",
    "  theme_classic() + \n",
    "  xlab(\"Height of tree\") + \n",
    "  ylab(\"Overall Benefits ($)\"))"
   ]
  },
  {
   "cell_type": "markdown",
   "id": "f065a37e-8ef5-41f2-b037-36005f9163b5",
   "metadata": {},
   "source": [
    "#### Task - Change the shape\n",
    "\n",
    "1. Review the [matplotlib marker documentation](https://matplotlib.org/stable/api/markers_api.htmlhttps://matplotlib.org/stable/api/markers_api.html) to see all the different shapes available. \n",
    "2.  Modify the code below to make all the points a constant of triangles pointing up."
   ]
  },
  {
   "cell_type": "code",
   "execution_count": null,
   "id": "9500de44-f908-4274-9d35-e5d68f14ca49",
   "metadata": {},
   "outputs": [],
   "source": [
    "# modify this code\n",
    "(ggplot(data = trees, mapping = aes(x=\"height\", y=\"overall_benefits_dollar_value\")) +\n",
    "  geom_point(aes(color=\"overhead_utilities\", shape=\"overhead_utilities\")) + \n",
    "  theme_classic() + \n",
    "  xlab(\"Height of tree\") + \n",
    "  ylab(\"Overall Benefits ($)\"))"
   ]
  },
  {
   "cell_type": "markdown",
   "id": "04819512-4b21-4adf-a8f4-655b0f136c3e",
   "metadata": {},
   "source": [
    "#### Answer - \n",
    "\n",
    "Click on the ellipses (...) below to see the answers."
   ]
  },
  {
   "cell_type": "code",
   "execution_count": null,
   "id": "cc3616ab-1557-4994-91c6-7c9299b4d84c",
   "metadata": {
    "jupyter": {
     "source_hidden": true
    },
    "tags": []
   },
   "outputs": [],
   "source": [
    "# answer\n",
    "(ggplot(data = trees, mapping = aes(x=\"height\", y=\"overall_benefits_dollar_value\")) +\n",
    "  geom_point(aes(color=\"overhead_utilities\"), shape = \"^\") + \n",
    "  theme_classic() + \n",
    "  xlab(\"Height of tree\") + \n",
    "  ylab(\"Overall Benefits ($)\"))"
   ]
  },
  {
   "cell_type": "markdown",
   "id": "a43d0b02-72d6-42ee-aa7e-4a97753085ee",
   "metadata": {},
   "source": [
    "#### Task - Shape based on a different column\n",
    "\n",
    "1.  Modify the original code to make the color and shape depend on the `condition` column."
   ]
  },
  {
   "cell_type": "code",
   "execution_count": null,
   "id": "9b973c38-4418-427f-922e-73b99338ab3f",
   "metadata": {},
   "outputs": [],
   "source": [
    "# modify this code\n",
    "(ggplot(data = trees, mapping = aes(x=\"height\", y=\"overall_benefits_dollar_value\")) +\n",
    "  geom_point(aes(color=\"overhead_utilities\", shape=\"overhead_utilities\")) + \n",
    "  theme_classic() + \n",
    "  xlab(\"Height of tree\") + \n",
    "  ylab(\"Overall Benefits ($)\"))"
   ]
  },
  {
   "cell_type": "markdown",
   "id": "21114f46-b58e-4219-8f16-3238db37dab8",
   "metadata": {},
   "source": [
    "#### Answer - \n",
    "\n",
    "Click on the ellipses (...) below to see the answers."
   ]
  },
  {
   "cell_type": "code",
   "execution_count": null,
   "id": "f59e3a6b-facb-4fc9-8e89-83a3df6c9301",
   "metadata": {
    "jupyter": {
     "source_hidden": true
    },
    "tags": []
   },
   "outputs": [],
   "source": [
    "# solutions\n",
    "(ggplot(data = trees, mapping = aes(x=\"height\", y=\"overall_benefits_dollar_value\")) +\n",
    "  geom_point(aes(color=\"condition\", shape = \"condition\")) + \n",
    "  theme_classic() + \n",
    "  xlab(\"Height of tree\") + \n",
    "  ylab(\"Overall Benefits ($)\"))"
   ]
  },
  {
   "cell_type": "markdown",
   "id": "2a6ea817-174f-4d73-ad11-bfb3df965956",
   "metadata": {},
   "source": [
    "## Fancy Formatting Plots\n",
    "\n",
    "The plot below uses some advanced formatting techniques as well as additional geometry functions to produce an information packed plot."
   ]
  },
  {
   "cell_type": "code",
   "execution_count": null,
   "id": "4ac12935-675c-432e-92f9-2b10d9574dac",
   "metadata": {},
   "outputs": [],
   "source": [
    "# make a fancy plot with some math\n",
    "(ggplot(data = trees[trees[\"neighborhood\"].str.contains(\"Oakland\", na=False)], \n",
    "       mapping = aes(x=\"width\", y=\"energy_benefits_electricity_dollar_value\", color=(\"stems>1\"))) +\n",
    "  geom_point() + \n",
    "  geom_smooth(method=\"lm\") + \n",
    "  xlim(0.01,40) + \n",
    "  theme_bw() + \n",
    "  scale_color_manual(name = \"Stems\", labels = [\"0-1\", \"2+\"], values = [\"darkblue\", \"red\"]) + \n",
    "  xlab(\"Width of tree\") + \n",
    "  ylab(\"Electricity Energy Benefit ($)\"))"
   ]
  },
  {
   "cell_type": "markdown",
   "id": "acb19d8d-ab4c-4481-8d2b-b52a527052be",
   "metadata": {},
   "source": [
    "#### Task - Features of the figure\n",
    "\n",
    "Look at the code that generated the plot above and identify\n",
    "\n",
    "1. The code that creates a subset of the data. What does that code do?\n",
    "2. The code that makes the color of the points different based upon the number of stems.\n",
    "3. The code that specifies the range of the x-axis."
   ]
  },
  {
   "cell_type": "markdown",
   "id": "31879832-c0c7-45c5-97f2-79760a7f871b",
   "metadata": {},
   "source": [
    "*your answer here*\n",
    "\n"
   ]
  },
  {
   "cell_type": "markdown",
   "id": "42b1dd2c-54e1-4ca6-875d-8971c523bc36",
   "metadata": {},
   "source": [
    "#### Answer - \n",
    "\n",
    "Click on the ellipses (...) below to see the answers."
   ]
  },
  {
   "cell_type": "markdown",
   "id": "1dd4a463-96e2-475e-84ef-fa2afa3cb9e4",
   "metadata": {
    "jupyter": {
     "source_hidden": true
    },
    "tags": []
   },
   "source": [
    "*answer*\n",
    "\n",
    "1. The DataFrame being passed to the `ggplot` function selects rows where the neighborhood name contains the string \"Oakland\". Furthermore, the missings values are consider false (and thus dropped by the mask)\n",
    "    `trees[trees[\"neighborhood\"].str.contains(\"Oakland\", na=False)]`\n",
    "2. The default aesthetic mapping for the plot, which is specificed in the `mapping` parameter for the `ggplot` function, has the argument `color=(\"stems>1\")`. This separates the color of all plot elements based upon if the number of stems is greater than 1.\n",
    "3. The function `xlim(0.01,40)` added in line 6 specifies the range of the x-axis."
   ]
  },
  {
   "cell_type": "markdown",
   "id": "9e9de20a-4474-4c13-a7e2-c114ec29ed58",
   "metadata": {},
   "source": [
    "#### Task - Change the color scale\n",
    "\n",
    "1. Comment out the line that begins with `scale_color_manual` and execute the code. What do you notice is different?"
   ]
  },
  {
   "cell_type": "code",
   "execution_count": null,
   "id": "9dcc083a-3059-4ba3-a10a-b700045f1278",
   "metadata": {},
   "outputs": [],
   "source": [
    "# modify this code\n",
    "(ggplot(data = trees[trees[\"neighborhood\"].str.contains(\"Oakland\", na=False)], \n",
    "       mapping = aes(x=\"width\", y=\"energy_benefits_electricity_dollar_value\", color=(\"stems>1\"))) +\n",
    "  geom_point() + \n",
    "  geom_smooth(method=\"lm\") + \n",
    "  xlim(0.01,40) + \n",
    "  theme_bw() + \n",
    "  scale_color_manual(name = \"Stems\", labels = [\"0-1\", \"2+\"], values = [\"darkblue\", \"darkred\"]) + \n",
    "  xlab(\"Width of tree\") + \n",
    "  ylab(\"Electricity Energy Benefit ($)\"))"
   ]
  },
  {
   "cell_type": "markdown",
   "id": "b7139fd3-f4ee-44ed-8080-460eff8e67e3",
   "metadata": {},
   "source": [
    "#### Answer - \n",
    "\n",
    "Click on the ellipses (...) below to see the answers."
   ]
  },
  {
   "cell_type": "code",
   "execution_count": null,
   "id": "ae28a930-8b5b-43e2-900d-a58fa4dbf75a",
   "metadata": {
    "jupyter": {
     "source_hidden": true
    },
    "tags": []
   },
   "outputs": [],
   "source": [
    "# answer\n",
    "(ggplot(data = trees[trees[\"neighborhood\"].str.contains(\"Oakland\", na=False)], \n",
    "       mapping = aes(x=\"width\", y=\"energy_benefits_electricity_dollar_value\", color=(\"stems>1\"))) +\n",
    "  geom_point() + \n",
    "  geom_smooth(method=\"lm\") + \n",
    "  xlim(0.01,40) + \n",
    "  theme_bw() + \n",
    "  #scale_color_manual(name = \"Stems\", labels = [\"0-1\", \"2+\"], values = [\"darkblue\", \"darkred\"]) + \n",
    "  xlab(\"Width of tree\") + \n",
    "  ylab(\"Electricity Energy Benefit ($)\"))"
   ]
  },
  {
   "cell_type": "markdown",
   "id": "89751cbe-d071-42f7-a7fd-16cd454021e4",
   "metadata": {
    "jupyter": {
     "source_hidden": true
    },
    "tags": []
   },
   "source": [
    "*answer*\n",
    "\n",
    "The colors of the points/lines are different and the labeling on the legend is different."
   ]
  },
  {
   "cell_type": "markdown",
   "id": "6dda0fd0-eea4-469b-97a6-fb300fd99da5",
   "metadata": {},
   "source": [
    "#### Task - What has been added\n",
    "\n",
    "1. Compare this plot to the plot at the beginning of the previous section. What aspects are the same and what has been added?"
   ]
  },
  {
   "cell_type": "markdown",
   "id": "5dfeb716-b456-4272-aabc-f8085aa7d192",
   "metadata": {},
   "source": [
    "*your answer here* \n",
    "\n"
   ]
  },
  {
   "cell_type": "markdown",
   "id": "b985029c-bf25-4290-a1cb-5de918ae364f",
   "metadata": {},
   "source": [
    "#### Answer - \n",
    "\n",
    "Click on the ellipses (...) below to see the answers."
   ]
  },
  {
   "cell_type": "markdown",
   "id": "a0904fc2-b20e-4e39-9b2b-65c2f2db3334",
   "metadata": {
    "jupyter": {
     "source_hidden": true
    },
    "tags": []
   },
   "source": [
    "*answer*\n",
    "\n",
    "It is still a scatter plot with two continuous variables, but now there are two trend lines and the points are colored by 2 categories of the number of stems."
   ]
  },
  {
   "cell_type": "markdown",
   "id": "61d78647-10b2-4daa-9480-7e289b449911",
   "metadata": {},
   "source": [
    "#### Task - Changing labels\n",
    "\n",
    "1.  Modify the code below to change the labels of stems in the legend to “few” instead of “0-1” and “many” instead of “2+”."
   ]
  },
  {
   "cell_type": "code",
   "execution_count": null,
   "id": "cac30cde-f22f-4891-b670-84ce5c5990d1",
   "metadata": {},
   "outputs": [],
   "source": [
    "# modify this code\n",
    "(ggplot(data = trees[trees[\"neighborhood\"].str.contains(\"Oakland\", na=False)], \n",
    "       mapping = aes(x=\"width\", y=\"energy_benefits_electricity_dollar_value\", color=(\"stems>1\"))) +\n",
    "  geom_point() + \n",
    "  geom_smooth(method=\"lm\") + \n",
    "  xlim(0.01,40) + \n",
    "  theme_bw() + \n",
    "  scale_color_manual(name = \"Stems\", labels = [\"0-1\", \"2+\"], values = [\"darkblue\", \"darkred\"]) + \n",
    "  xlab(\"Width of tree\") + \n",
    "  ylab(\"Electricity Energy Benefit ($)\"))"
   ]
  },
  {
   "cell_type": "markdown",
   "id": "4f9d41f9-82a8-49e7-b688-d6a0c018a426",
   "metadata": {},
   "source": [
    "#### Answer - \n",
    "\n",
    "Click on the ellipses (...) below to see the answers."
   ]
  },
  {
   "cell_type": "code",
   "execution_count": null,
   "id": "1c8678f7-9301-407e-95df-20066c44458a",
   "metadata": {
    "jupyter": {
     "source_hidden": true
    },
    "tags": []
   },
   "outputs": [],
   "source": [
    "# solution\n",
    "(ggplot(data = trees[trees[\"neighborhood\"].str.contains(\"Oakland\", na=False)], \n",
    "       mapping = aes(x=\"width\", y=\"energy_benefits_electricity_dollar_value\", color=(\"stems>1\"))) +\n",
    "  geom_point() + \n",
    "  geom_smooth(method=\"lm\") + \n",
    "  xlim(0.01,40) + \n",
    "  theme_bw() + \n",
    "  scale_color_manual(name = \"Stems\", labels = [\"few\", \"many\"], values = [\"darkblue\", \"darkred\"]) + \n",
    "  xlab(\"Width of tree\") + \n",
    "  ylab(\"Electricity Energy Benefit ($)\"))"
   ]
  },
  {
   "cell_type": "markdown",
   "id": "5ef0b07f-e319-4418-bfed-bea718a5611d",
   "metadata": {},
   "source": [
    "#### Task - Changing the x-axis range\n",
    "\n",
    "1.  Modify the code below to change the x-axis range to 0-40. What is\n",
    "    different?"
   ]
  },
  {
   "cell_type": "code",
   "execution_count": null,
   "id": "a1e22709-aa30-4d91-85e4-2002028a9e83",
   "metadata": {},
   "outputs": [],
   "source": [
    "# modify this code\n",
    "(ggplot(data = trees[trees[\"neighborhood\"].str.contains(\"Oakland\", na=False)], \n",
    "       mapping = aes(x=\"width\", y=\"energy_benefits_electricity_dollar_value\", color=(\"stems>1\"))) +\n",
    "  geom_point() + \n",
    "  geom_smooth(method=\"lm\") + \n",
    "  xlim(0.01,40) + \n",
    "  theme_bw() + \n",
    "  scale_color_manual(name = \"Stems\", labels = [\"0-1\", \"2+\"], values = [\"darkblue\", \"darkred\"]) + \n",
    "  xlab(\"Width of tree\") + \n",
    "  ylab(\"Electricity Energy Benefit ($)\"))"
   ]
  },
  {
   "cell_type": "markdown",
   "id": "322167fc-28eb-4a04-b8ce-61e9921e6915",
   "metadata": {},
   "source": [
    "#### Answer - \n",
    "\n",
    "Click on the ellipses (...) below to see the answers."
   ]
  },
  {
   "cell_type": "code",
   "execution_count": null,
   "id": "c1d21878-4e5e-4880-a322-13a262c58826",
   "metadata": {
    "jupyter": {
     "source_hidden": true
    },
    "tags": []
   },
   "outputs": [],
   "source": [
    "# solution\n",
    "(ggplot(data = trees[trees[\"neighborhood\"].str.contains(\"Oakland\", na=False)], \n",
    "       mapping = aes(x=\"width\", y=\"energy_benefits_electricity_dollar_value\", color=(\"stems>1\"))) +\n",
    "  geom_point() + \n",
    "  geom_smooth(method=\"lm\") + \n",
    "  xlim(0,40) + \n",
    "  theme_bw() + \n",
    "  scale_color_manual(name = \"Stems\", labels = [\"0-1\", \"2+\"], values = [\"darkblue\", \"darkred\"]) + \n",
    "  xlab(\"Width of tree\") + \n",
    "  ylab(\"Electricity Energy Benefit ($)\"))"
   ]
  },
  {
   "cell_type": "markdown",
   "id": "8dd55c4f-bc68-4ee3-b303-e4d84d906a9e",
   "metadata": {
    "jupyter": {
     "source_hidden": true
    },
    "tags": []
   },
   "source": [
    "*answer*\n",
    "\n",
    "There are a bunch of points with width = 0 added to the plot, and the trend lines have changed slope."
   ]
  },
  {
   "cell_type": "markdown",
   "id": "ed4bb81e-b223-4bb9-bccd-35ecab5bcf9c",
   "metadata": {},
   "source": [
    "## Conditional Formatting\n",
    "\n",
    "What we did in the last section by coloring the points and trend lines based on whether the variable `stems` was 2 or more is an example of **conditional formatting**. You may be familiar with this concept in Excel where you can color cells based on their values; it is a similar thing in ggplot2. Conditional formatting can be applied to many different aesthetics: color, shape, fill, alpha, etc. It is a useful tool to make informative visualization \"on the fly\" without creating new variables in your data set.\n",
    "\n",
    "As you noticed in the questions above, the legend that appears by default along with the conditional formatting is not the prettiest. When using conditional formatting, it is common to change the appearance using the `scale_*_manual` set of functions (replacing `*` for the name of the aesthetic you used conditional formatting on, e.g. color)."
   ]
  },
  {
   "cell_type": "markdown",
   "id": "dc2e5590-f66f-4b6d-bfe4-8542f01a3931",
   "metadata": {},
   "source": [
    "#### Task - Format using conditions\n",
    "\n",
    "1. Modify the code below to perform conditional formatting, instead changing the shape of the points based on whether the tree has 2+ stems. Make the points for trees with 0-1 stems be circles and the points for trees with 2+ stems triangles. See the [marker documentation](https://matplotlib.org/stable/api/markers_api.html) for reference."
   ]
  },
  {
   "cell_type": "code",
   "execution_count": null,
   "id": "867ad898-a657-4ece-b921-0dc3521f1211",
   "metadata": {},
   "outputs": [],
   "source": [
    "# modify this code\n",
    "(ggplot(data = trees[trees[\"neighborhood\"].str.contains(\"Oakland\", na=False)], \n",
    "       mapping = aes(x=\"width\", y=\"energy_benefits_electricity_dollar_value\", color=(\"stems>1\"))) +\n",
    "  geom_point() + \n",
    "  xlim(0.01,40) + \n",
    "  theme_bw() + \n",
    "  scale_color_manual(name = \"Stems\", labels = [\"0-1\", \"2+\"], values = [\"darkblue\", \"darkred\"]) + \n",
    "  xlab(\"Width of tree\") + \n",
    "  ylab(\"Electricity Energy Benefit ($)\"))"
   ]
  },
  {
   "cell_type": "markdown",
   "id": "0a6e7689-5aa5-4114-b593-7758bfa3b565",
   "metadata": {},
   "source": [
    "#### Answer - \n",
    "\n",
    "Click on the ellipses (...) below to see the answers."
   ]
  },
  {
   "cell_type": "code",
   "execution_count": null,
   "id": "a5ace9a9-1707-4515-bdfd-59ba0ab3eeed",
   "metadata": {
    "jupyter": {
     "source_hidden": true
    },
    "tags": []
   },
   "outputs": [],
   "source": [
    "# Solution\n",
    "(ggplot(data = trees[trees[\"neighborhood\"].str.contains(\"Oakland\", na=False)], \n",
    "       mapping = aes(x=\"width\", y=\"energy_benefits_electricity_dollar_value\", shape=(\"stems>1\"))) +\n",
    "  geom_point() + \n",
    "  xlim(0.01,40) + \n",
    "  theme_bw() + \n",
    "  scale_shape_manual(name = \"Stems\", labels = [\"0-1\", \"2+\"], values = [\".\",\"^\"]) + \n",
    "  xlab(\"Width of tree\") + \n",
    "  ylab(\"Electricity Energy Benefit ($)\"))"
   ]
  },
  {
   "cell_type": "markdown",
   "id": "fde2e772-dcb6-45bc-a57a-03c304a13bb6",
   "metadata": {},
   "source": [
    "## Order matters\n",
    "\n",
    "The code below creates a \"violin plot\", which shows the density of values through a kernel value probability distribution."
   ]
  },
  {
   "cell_type": "code",
   "execution_count": null,
   "id": "364999d6-eb9e-4641-9f82-01e21a241834",
   "metadata": {},
   "outputs": [],
   "source": [
    "(ggplot(data = trees.query('land_use == \"Park\" and condition.notna()'),\n",
    "        mapping = aes(x=\"condition\",\n",
    "                     y=\"overall_benefits_dollar_value\")) +\n",
    "  geom_violin(aes(fill=\"condition\")) + \n",
    "  geom_point(position = position_jitter(width = 0.1, random_state=1), alpha = 0.25) +\n",
    "  theme_classic() +\n",
    "  theme(legend_position = \"none\") + \n",
    "  ggtitle(\"Trees in Parks\"))"
   ]
  },
  {
   "cell_type": "markdown",
   "id": "da469fd1-4f19-4379-b514-b4015210bebf",
   "metadata": {},
   "source": [
    "#### Task - Features of the figure\n",
    "\n",
    "Identify in the source code which lines:\n",
    "1.  That specify the color of the densities \n",
    "2.  That add points on top of the densities  \n",
    "3.  That prevents the printing of the legend"
   ]
  },
  {
   "cell_type": "markdown",
   "id": "1eb41345-d325-4e90-b085-66f7677acdbd",
   "metadata": {},
   "source": [
    "*your answer here*\n"
   ]
  },
  {
   "cell_type": "markdown",
   "id": "1a1f3977-0f82-42b2-a7a2-e15a918949bc",
   "metadata": {},
   "source": [
    "#### Answer - \n",
    "\n",
    "Click on the ellipses (...) below to see the answers."
   ]
  },
  {
   "cell_type": "markdown",
   "id": "054af7cc-9b95-4b30-8169-905b7854ef82",
   "metadata": {
    "jupyter": {
     "source_hidden": true
    },
    "tags": []
   },
   "source": [
    "*answer*\n",
    "\n",
    "1.  control the color of the densities `fill=condition`  \n",
    "2.  adds the points on top of the densities `geom_point(...)`  \n",
    "3.  supresses the printing of the legend\n",
    "        `theme(legend.position = \"none\")`"
   ]
  },
  {
   "cell_type": "markdown",
   "id": "35cedd02-5216-46a0-b188-b44214b52d19",
   "metadata": {},
   "source": [
    "#### Task - What are we looking at?\n",
    "\n",
    "1.  Describe what is being plotted in the figure above."
   ]
  },
  {
   "cell_type": "markdown",
   "id": "3685fabb-9250-42b1-8981-1f29d4ffdbcd",
   "metadata": {},
   "source": [
    "*your answer here*\n"
   ]
  },
  {
   "cell_type": "markdown",
   "id": "67cb2ad9-2f3d-47f3-9ecb-2c328b8d31eb",
   "metadata": {},
   "source": [
    "#### Answer - \n",
    "\n",
    "Click on the ellipses (...) below to see the answers."
   ]
  },
  {
   "cell_type": "markdown",
   "id": "e3b25554-8bac-4dcf-8b0c-f22c03870979",
   "metadata": {
    "jupyter": {
     "source_hidden": true
    },
    "tags": []
   },
   "source": [
    "*answer*\n",
    "\n",
    "The overall benefits of the tree are plotted by the tree's condition for trees in parks."
   ]
  },
  {
   "cell_type": "markdown",
   "id": "7bd395e9-4b1d-42b2-93d3-a10e1161ed66",
   "metadata": {},
   "source": [
    "#### Task - Changing violin aesthetics\n",
    "\n",
    "1.  Modify the code to change the aesthetic mapping in `geom_violin` to\n",
    "    color. What happens?"
   ]
  },
  {
   "cell_type": "code",
   "execution_count": null,
   "id": "1ae8936d-2c63-42dd-8465-212d47b1ec53",
   "metadata": {},
   "outputs": [],
   "source": [
    "# modify this code\n",
    "(ggplot(data = trees.query('land_use == \"Park\" and condition.notna()'),\n",
    "       mapping = aes(x=\"condition\",\n",
    "                    y=\"overall_benefits_dollar_value\")) +\n",
    "  geom_violin(aes(fill=\"condition\")) + \n",
    "  geom_point(position = position_jitter(random_state = 1, width = 0.1), alpha = 0.25) +\n",
    "  theme_classic() +\n",
    "  theme(legend_position = \"none\") + \n",
    "  ggtitle(\"Trees in Parks\"))"
   ]
  },
  {
   "cell_type": "markdown",
   "id": "cec19dd3-8e0b-4d28-9734-cb85b49184e2",
   "metadata": {},
   "source": [
    "#### Answer - \n",
    "\n",
    "Click on the ellipses (...) below to see the answers."
   ]
  },
  {
   "cell_type": "code",
   "execution_count": null,
   "id": "c394af03-d65e-42ec-b42e-186abfae77a0",
   "metadata": {
    "jupyter": {
     "source_hidden": true
    },
    "tags": []
   },
   "outputs": [],
   "source": [
    "# answer\n",
    "(ggplot(data = trees.query('land_use == \"Park\" and condition.notna()'),\n",
    "       mapping = aes(x=\"condition\",\n",
    "                    y=\"overall_benefits_dollar_value\")) +\n",
    "  geom_violin(aes(color=\"condition\")) + \n",
    "  geom_point(position = position_jitter(random_state = 1, width = 0.1), alpha = 0.25) +\n",
    "  theme_classic() +\n",
    "  theme(legend_position = \"none\") + \n",
    "  ggtitle(\"Trees in Parks\"))"
   ]
  },
  {
   "cell_type": "markdown",
   "id": "1b4ac32f-cab1-43ab-892c-0ba2549fc363",
   "metadata": {
    "jupyter": {
     "source_hidden": true
    },
    "tags": []
   },
   "source": [
    "*answer*\n",
    "\n",
    "Only the outline is changed. (Color controls outline, fill controls\n",
    "shading)"
   ]
  },
  {
   "cell_type": "markdown",
   "id": "3adc9e90-3774-4a11-b2b8-15839b9884e3",
   "metadata": {},
   "source": [
    "#### Task - Change the order of the geoms\n",
    "\n",
    "1.  Modify the code to swap the order of the geoms. What happens?"
   ]
  },
  {
   "cell_type": "code",
   "execution_count": null,
   "id": "5e5543c7-f845-4027-8b3d-dd8ed37be54e",
   "metadata": {},
   "outputs": [],
   "source": [
    "# modify this code\n",
    "(ggplot(data = trees.query('land_use == \"Park\" and condition.notna()'),\n",
    "       mapping = aes(x=\"condition\",\n",
    "                    y=\"overall_benefits_dollar_value\")) +\n",
    "  geom_violin(aes(fill=\"condition\")) + \n",
    "  geom_point(position = position_jitter(random_state = 1, width = 0.1), alpha = 0.25) +\n",
    "  theme_classic() +\n",
    "  theme(legend_position = \"none\") + \n",
    "  ggtitle(\"Trees in Parks\"))"
   ]
  },
  {
   "cell_type": "markdown",
   "id": "d87a8971-3875-4b45-8eba-7a2d1bf1d560",
   "metadata": {},
   "source": [
    "#### Answer - \n",
    "\n",
    "Click on the ellipses (...) below to see the answers."
   ]
  },
  {
   "cell_type": "code",
   "execution_count": null,
   "id": "44338f9e-fd21-4de8-b423-46977a881dbd",
   "metadata": {
    "jupyter": {
     "source_hidden": true
    },
    "tags": []
   },
   "outputs": [],
   "source": [
    "# solution\n",
    "(ggplot(data = trees.query('land_use == \"Park\" and condition.notna()'),\n",
    "       mapping = aes(x=\"condition\",\n",
    "                    y=\"overall_benefits_dollar_value\")) +\n",
    "  geom_point(position = position_jitter(random_state = 1, width = 0.1), alpha = 0.25) +\n",
    "  geom_violin(aes(fill=\"condition\")) + \n",
    "  theme_classic() +\n",
    "  theme(legend_position = \"none\") + \n",
    "  ggtitle(\"Trees in Parks\"))"
   ]
  },
  {
   "cell_type": "markdown",
   "id": "f4a921b0-527a-4c7e-b553-b9111dca9040",
   "metadata": {
    "jupyter": {
     "source_hidden": true
    },
    "tags": []
   },
   "source": [
    "*answer*\n",
    "\n",
    "You can't see the points anymore because the density is plotted on top of them. The order in which the geom functions are added matters.\n"
   ]
  },
  {
   "cell_type": "markdown",
   "id": "c81b6704-ab35-4b3a-b808-f09608339394",
   "metadata": {},
   "source": [
    "## Geometric Objects \n",
    "\n",
    "You can stack geometic objects, or geoms, by adding them one top of one another (as we did in the previous sections with `geom_point() + geom_smooth()` and with `geom_violin()` and `geom_point()`.\n",
    "\n",
    "Here are some examples of commonly used geoms for adding multiple dimensions of data to your plots."
   ]
  },
  {
   "cell_type": "markdown",
   "id": "8eba3c09-2781-4dc7-baf7-ce6fb229532c",
   "metadata": {},
   "source": [
    "### One variable\n",
    "\n",
    "The plot below uses the `geom_bar` to create a bar chart of the `condition` data values."
   ]
  },
  {
   "cell_type": "code",
   "execution_count": null,
   "id": "70d20976-ef7a-4e60-869a-7da75cade0e4",
   "metadata": {},
   "outputs": [],
   "source": [
    "# create a bar chart of the counts of values in the condition column\n",
    "(ggplot(data = trees, mapping = aes(x=\"condition\")) +\n",
    "  geom_bar())"
   ]
  },
  {
   "cell_type": "code",
   "execution_count": null,
   "id": "32575cc0-197b-45a7-a357-e21a91477661",
   "metadata": {},
   "outputs": [],
   "source": [
    "# create a historgram with 30 bins of the overall_benefits_dollar_value column\n",
    "(ggplot(data = trees, mapping = aes(x=\"overall_benefits_dollar_value\")) +\n",
    "  geom_histogram(bins=30))"
   ]
  },
  {
   "cell_type": "markdown",
   "id": "21b943a3-1856-437c-b70f-70ca2b625d12",
   "metadata": {},
   "source": [
    "### Two variables\n",
    "\n",
    "Some geoms, like `geom_bin3d`, need two dimensions of data to generate a plot."
   ]
  },
  {
   "cell_type": "code",
   "execution_count": null,
   "id": "7aa3127e-966b-44fe-a1f8-4a57b30e08ad",
   "metadata": {},
   "outputs": [],
   "source": [
    "# create a 2-demensional histogram\n",
    "(ggplot(data = trees, mapping = aes(x=\"overall_benefits_dollar_value\", \n",
    "                                    y=\"property_value_benefits_dollarvalue\")) +\n",
    " geom_bin2d())"
   ]
  },
  {
   "cell_type": "code",
   "execution_count": null,
   "id": "b707f911-117c-4544-afa9-5d8e9f03667e",
   "metadata": {},
   "outputs": [],
   "source": [
    "# create a box plots of property value benefits for each of the land_use values in the North Oakland neighborhood\n",
    "(ggplot(data = trees.query('neighborhood == \"North Oakland\"'), \n",
    "       mapping = aes(x=\"land_use\", y=\"property_value_benefits_dollarvalue\")) +\n",
    "  geom_boxplot() + \n",
    "  theme(axis_text_x = element_text(angle = 45, hjust = 1)))"
   ]
  },
  {
   "cell_type": "code",
   "execution_count": null,
   "id": "93df2a83-12f8-4ac4-bb6c-a819b7f0eeff",
   "metadata": {},
   "outputs": [],
   "source": [
    "# plot the count of tree condition by council distrct\n",
    "(ggplot(data = trees, mapping = aes(x=\"council_district\", y=\"condition\")) +\n",
    " geom_count())"
   ]
  },
  {
   "cell_type": "markdown",
   "id": "df92c7cd-ef77-415e-a934-9e7a2dabc3f0",
   "metadata": {},
   "source": [
    "#### Task - Experimenting with plots\n",
    "\n",
    "Open the data visualization with [ggplot2 cheat sheet](https://raw.githubusercontent.com/rstudio/cheatsheets/main/data-visualization.pdfhttps://raw.githubusercontent.com/rstudio/cheatsheets/main/data-visualization.pdf)\n",
    "\n",
    "1.  Find the geoms used above on the cheat sheet. Copy and modify the code for each plot by experimenting and playing with the options available based on the cheat sheet."
   ]
  },
  {
   "cell_type": "code",
   "execution_count": null,
   "id": "7df002bf-f143-4c7d-9475-e6f1f6a13c75",
   "metadata": {},
   "outputs": [],
   "source": [
    "# your code here\n"
   ]
  },
  {
   "cell_type": "markdown",
   "id": "14627b7d-b6af-48d0-9e6c-e6ccb9d9742e",
   "metadata": {},
   "source": [
    "## Histograms and Density Plots\n",
    "\n",
    "The code below creates a plot with two layers, a histogram and a density line."
   ]
  },
  {
   "cell_type": "code",
   "execution_count": null,
   "id": "b32a36ce-76d7-47f2-a53c-96f0defbf064",
   "metadata": {},
   "outputs": [],
   "source": [
    "(ggplot(data = trees, mapping = aes(x = \"stormwater_benefits_dollar_value\")) + \n",
    "  geom_histogram(aes(y = \"stat(density)\"), binwidth = 1) + \n",
    "  geom_density(color = \"red\") + \n",
    "  ggtitle(\"Distribution of stormwater benefits ($)\"))"
   ]
  },
  {
   "cell_type": "markdown",
   "id": "1d6823d5-7c9e-47f6-971e-e05668f71731",
   "metadata": {},
   "source": [
    "#### Task - Features of the Figure\n",
    "\n",
    "1.  Identify in the source code which lines…\n",
    "    1.  Create the density plot line \n",
    "    2.  Adds the title to the figure\n",
    "    3.  Defines the data set and variable to plot\n",
    "    4.  Create the histogram\n",
    "        \n",
    "2.  Describe in your own words what is being plotted."
   ]
  },
  {
   "cell_type": "markdown",
   "id": "e568977f-a3ca-4004-ac4a-ffaebae9e952",
   "metadata": {},
   "source": [
    "*your answer here*\n"
   ]
  },
  {
   "cell_type": "markdown",
   "id": "47de0658-ef91-44c3-a948-3fbd534cc6b2",
   "metadata": {},
   "source": [
    "#### Answer - \n",
    "\n",
    "Click on the ellipses (...) below to see the answers."
   ]
  },
  {
   "cell_type": "markdown",
   "id": "635738f4-0c5d-4672-9d7a-b371f184f64b",
   "metadata": {
    "jupyter": {
     "source_hidden": true
    },
    "tags": []
   },
   "source": [
    "*answer*\n",
    "\n",
    "1. Parts of the figure\n",
    "    1. The function `geom_density(color = \"red\")` adds the density line  \n",
    "    2. The function `ggtitle(\"Distribution of stormwater benefits ($)\")` adds the title\n",
    "    3. The function `ggplot(data = trees, mapping = aes(x = stormwater_benefits_dollar_value))` binds the tree data and specifies the column\n",
    "    4. The function `geom_histogram(aes(y = stat(density)), binwidth = 1)` creates the histogram and specifies a density calculation instead of counts\n",
    "2. This plots a histogram with a density overlay of the storm water benefit (in dollars) for trees in Pittsburgh. The y-axis is density instead of count.\n"
   ]
  },
  {
   "cell_type": "markdown",
   "id": "8a6445b5-57ed-40a1-9313-da025986529d",
   "metadata": {},
   "source": [
    "#### Task - From water to carbon dioxide\n",
    "\n",
    "1.  Modify the code below to plot the CO2 benefits in dollars instead of\n",
    "    the storm water benefits. Write and execute the code below. What do\n",
    "    you notice about the plot?"
   ]
  },
  {
   "cell_type": "code",
   "execution_count": null,
   "id": "f5ebb8ef-6858-40f8-bae6-748810dd2e65",
   "metadata": {},
   "outputs": [],
   "source": [
    "# modify this code\n",
    "(ggplot(data = trees, mapping = aes(x = \"stormwater_benefits_dollar_value\")) + \n",
    "  geom_histogram(aes(y = \"stat(density)\"), binwidth = 1) + \n",
    "  geom_density(color = \"red\") + \n",
    "  ggtitle(\"Distribution of stormwater benefits ($)\"))"
   ]
  },
  {
   "cell_type": "markdown",
   "id": "39724c1a-d4b3-4fcc-919a-846c04c80502",
   "metadata": {},
   "source": [
    "#### Answer - \n",
    "\n",
    "Click on the ellipses (...) below to see the answers."
   ]
  },
  {
   "cell_type": "code",
   "execution_count": null,
   "id": "5f7e2173-8fe7-4968-8f3d-5bcbbdf3909c",
   "metadata": {
    "jupyter": {
     "source_hidden": true
    },
    "tags": []
   },
   "outputs": [],
   "source": [
    "# answer\n",
    "(ggplot(data = trees, mapping = aes(x = \"co2_benefits_dollar_value\")) + \n",
    "  geom_histogram(aes(y = \"stat(density)\"), binwidth = 1) + \n",
    "  geom_density(color = \"red\") + \n",
    "  ggtitle(\"Distribution of carbon dioxide benefits ($)\"))"
   ]
  },
  {
   "cell_type": "markdown",
   "id": "8502d0c4-9ed7-4edc-9a7e-59363c96c523",
   "metadata": {},
   "source": [
    "*answer*\n",
    "\n",
    "The granularity of the bins is too course."
   ]
  },
  {
   "cell_type": "markdown",
   "id": "012192e5-4871-49e9-8003-d5cdf4195397",
   "metadata": {},
   "source": [
    "#### Task - Better bin width\n",
    "\n",
    "1.  Modify the code below to change the bin width to 0.25. "
   ]
  },
  {
   "cell_type": "code",
   "execution_count": null,
   "id": "1fa8dbe0-821c-4335-ab73-ecc6d8eab0b5",
   "metadata": {},
   "outputs": [],
   "source": [
    "# modify this code\n",
    "(ggplot(data = trees, mapping = aes(x = \"stormwater_benefits_dollar_value\")) + \n",
    "  geom_histogram(aes(y = \"stat(density)\"), binwidth = 1) + \n",
    "  geom_density(color = \"red\") + \n",
    "  ggtitle(\"Distribution of stormwater benefits ($)\"))"
   ]
  },
  {
   "cell_type": "markdown",
   "id": "dbadcab9-128c-438b-abc4-062242faaf4a",
   "metadata": {},
   "source": [
    "#### Answer - \n",
    "\n",
    "Click on the ellipses (...) below to see the answers."
   ]
  },
  {
   "cell_type": "code",
   "execution_count": null,
   "id": "20063929-555c-4f02-8021-f335b0309e46",
   "metadata": {
    "jupyter": {
     "source_hidden": true
    },
    "tags": []
   },
   "outputs": [],
   "source": [
    "# solutions\n",
    "(ggplot(data = trees, mapping = aes(x = \"co2_benefits_dollar_value\")) + \n",
    "  geom_histogram(aes(y = \"stat(density)\"), binwidth = 0.25) + \n",
    "  geom_density(color = \"red\") + \n",
    "  ggtitle(\"Distribution of carbon dioxide benefits ($)\"))"
   ]
  },
  {
   "cell_type": "markdown",
   "id": "9714f429-48ab-46f8-8e0d-2409f5082203",
   "metadata": {},
   "source": [
    "#### Task - No bins\n",
    "\n",
    "1.  Modify the code below to remove the bin width option entirely. What\n",
    "    is the result?"
   ]
  },
  {
   "cell_type": "code",
   "execution_count": null,
   "id": "c162d865-0560-4835-85b4-c893997b4b4a",
   "metadata": {},
   "outputs": [],
   "source": [
    "# modify this code\n",
    "(ggplot(data = trees, mapping = aes(x = \"stormwater_benefits_dollar_value\")) + \n",
    "  geom_histogram(aes(y = \"stat(density)\"), binwidth = 1) + \n",
    "  geom_density(color = \"red\") + \n",
    "  ggtitle(\"Distribution of stormwater benefits ($)\"))"
   ]
  },
  {
   "cell_type": "markdown",
   "id": "b36174c1-e392-4183-9c3d-de900646fe7b",
   "metadata": {},
   "source": [
    "#### Answer - \n",
    "\n",
    "Click on the ellipses (...) below to see the answers."
   ]
  },
  {
   "cell_type": "code",
   "execution_count": null,
   "id": "1907beee-2ac0-46fe-9bd4-95ec76be5787",
   "metadata": {
    "jupyter": {
     "source_hidden": true
    },
    "tags": []
   },
   "outputs": [],
   "source": [
    "# solutions\n",
    "(ggplot(data = trees, mapping = aes(x = \"co2_benefits_dollar_value\")) + \n",
    "  geom_histogram(aes(y = \"stat(density)\")) + \n",
    "  geom_density(color = \"red\") + \n",
    "  ggtitle(\"Distribution of carbon dioxide benefits ($)\"))"
   ]
  },
  {
   "cell_type": "markdown",
   "id": "23709df5-63ab-44a1-823d-ab9866c7e0a2",
   "metadata": {
    "jupyter": {
     "source_hidden": true
    },
    "tags": []
   },
   "source": [
    "*answer*\n",
    "\n",
    "The bin width was auto calculated (to create 112 total bins - see the log)."
   ]
  },
  {
   "cell_type": "markdown",
   "id": "b0b24775-8d92-4fe6-bdfe-83b73914d873",
   "metadata": {},
   "source": [
    "#### Task - Removing density\n",
    "\n",
    "1.  Modify the code below to remove the `aes(y = stat(density))` argument\n",
    "    inside `geom_histogram` function. What is the result? What do you think this\n",
    "    code did?"
   ]
  },
  {
   "cell_type": "code",
   "execution_count": null,
   "id": "e025a567-0213-4b46-8426-dd76f435028c",
   "metadata": {},
   "outputs": [],
   "source": [
    "# modify this code\n",
    "(ggplot(data = trees, mapping = aes(x = \"stormwater_benefits_dollar_value\")) + \n",
    "  geom_histogram(aes(y = \"stat(density)\"), binwidth = 1) + \n",
    "  geom_density(color = \"red\") + \n",
    "  ggtitle(\"Distribution of stormwater benefits ($)\"))"
   ]
  },
  {
   "cell_type": "markdown",
   "id": "8c7a70ef-8860-48ed-b0da-9da4d3e00338",
   "metadata": {},
   "source": [
    "#### Answer - \n",
    "\n",
    "Click on the ellipses (...) below to see the answers."
   ]
  },
  {
   "cell_type": "code",
   "execution_count": null,
   "id": "38c148c7-aeda-435b-a833-55dca1ed3844",
   "metadata": {},
   "outputs": [],
   "source": [
    "# solutions\n",
    "(ggplot(data = trees, mapping = aes(x = \"co2_benefits_dollar_value\")) + \n",
    "  geom_histogram() + \n",
    "  geom_density(color = \"red\") + \n",
    "  ggtitle(\"Distribution of carbon dioxide benefits ($)\"))"
   ]
  },
  {
   "cell_type": "markdown",
   "id": "acc3696c-dcde-46e1-bd90-68b6065885b5",
   "metadata": {
    "jupyter": {
     "source_hidden": true
    },
    "tags": []
   },
   "source": [
    "*answer*\n",
    "\n",
    "The histogram shape looks the same, but the scale of the y-axis went\n",
    "away. It is now a count. Because of this, you can't see the density\n",
    "overlay. (It looks like it is flat on the x-axis.)"
   ]
  },
  {
   "cell_type": "markdown",
   "id": "108c8116-29a4-4d55-adb3-4b04c534272c",
   "metadata": {},
   "source": [
    "#### Task - Adding some color\n",
    "\n",
    "1.  Modify the code below to remove the density overlay entirely and add the arguments\n",
    "    `color=\"#000000\", fill=\"#FFFFFF\"` to the `geom_histogram()`. What is\n",
    "    the result? What do you think the options `color` and `fill` control\n",
    "    in `geom_histogram`?"
   ]
  },
  {
   "cell_type": "code",
   "execution_count": null,
   "id": "3c0264c2-94d7-450d-b92c-71dc5ade65ff",
   "metadata": {},
   "outputs": [],
   "source": [
    "# modify this code\n",
    "(ggplot(data = trees, mapping = aes(x = \"stormwater_benefits_dollar_value\")) + \n",
    "  geom_histogram(aes(y = \"stat(density)\"), binwidth = 1) + \n",
    "  geom_density(color = \"red\") + \n",
    "  ggtitle(\"Distribution of stormwater benefits ($)\"))"
   ]
  },
  {
   "cell_type": "markdown",
   "id": "be0ed083-1f83-41e6-89a9-0d81a222510f",
   "metadata": {},
   "source": [
    "#### Answer - \n",
    "\n",
    "Click on the ellipses (...) below to see the answers."
   ]
  },
  {
   "cell_type": "code",
   "execution_count": null,
   "id": "58845f82-2072-458e-99e2-eb88865b572c",
   "metadata": {},
   "outputs": [],
   "source": [
    "# solutions\n",
    "(ggplot(data = trees, mapping = aes(x = \"co2_benefits_dollar_value\")) + \n",
    "  geom_histogram(color=\"#000000\", fill=\"#FFFFFF\") + \n",
    "  ggtitle(\"Distribution of carbon dioxide benefits ($)\"))"
   ]
  },
  {
   "cell_type": "markdown",
   "id": "176fd85f-5ecb-47a0-8dc6-80d11118496d",
   "metadata": {
    "jupyter": {
     "source_hidden": true
    },
    "tags": []
   },
   "source": [
    "*answer*\n",
    "\n",
    "In a histogram, color controls the outline of the bars plotted and fill\n",
    "controls the shading of the bars."
   ]
  },
  {
   "cell_type": "markdown",
   "id": "fff64bcc-eebc-4f7f-a02e-e2a63b384a67",
   "metadata": {},
   "source": [
    "## Faceting\n",
    "\n",
    "The code below creates a series of charts with several columns of the tree data."
   ]
  },
  {
   "cell_type": "code",
   "execution_count": null,
   "id": "264a17e1-d0e4-40a6-8dd0-a90fe129bb68",
   "metadata": {},
   "outputs": [],
   "source": [
    "(ggplot(data = trees, mapping = aes(x = \"stormwater_benefits_dollar_value\")) + \n",
    "  geom_histogram(aes(y = \"stat(density)\"), binwidth = 1) + \n",
    "  geom_density(color = \"red\") + \n",
    "  ggtitle(\"Distribution of stormwater benefits ($)\") + \n",
    "  facet_wrap(\"council_district\"))"
   ]
  },
  {
   "cell_type": "markdown",
   "id": "5e43277b-9f1e-4ab1-b585-288574ed4a06",
   "metadata": {},
   "source": [
    "#### Task - What is being plotted?\n",
    "\n",
    "1.  What is the difference in the plot above and the plot from the previous section?"
   ]
  },
  {
   "cell_type": "markdown",
   "id": "42201a49-9532-43cd-9282-1963ffe9b806",
   "metadata": {},
   "source": [
    "*your answer here*\n"
   ]
  },
  {
   "cell_type": "markdown",
   "id": "f3426d98-c35c-464e-8647-d7ef212b8fa3",
   "metadata": {},
   "source": [
    "#### Answer - \n",
    "\n",
    "Click on the ellipses (...) below to see the answers."
   ]
  },
  {
   "cell_type": "markdown",
   "id": "8eefcd09-81ee-48a6-af1f-c969677c9994",
   "metadata": {
    "jupyter": {
     "source_hidden": true
    },
    "tags": []
   },
   "source": [
    "*answer*\n",
    "\n",
    "1. There are are a series of plots identical to the previous plot, but a plot of the density histogram for each council district."
   ]
  },
  {
   "cell_type": "markdown",
   "id": "452a522d-c287-47a0-9bf2-60cd4b02416e",
   "metadata": {},
   "source": [
    "#### Task - Just one neighborhood\n",
    "\n",
    "1.  Modify the code below to filter the data set to only use the “North Oakland”\n",
    "    neighborhood and change the facet variable to be `condition`."
   ]
  },
  {
   "cell_type": "code",
   "execution_count": null,
   "id": "fd40d17f-a93d-4cc3-807c-a1153bd26186",
   "metadata": {},
   "outputs": [],
   "source": [
    "# modify this code \n",
    "(ggplot(data = trees, mapping = aes(x = \"stormwater_benefits_dollar_value\")) + \n",
    "  geom_histogram(aes(y = \"stat(density)\"), binwidth = 1) + \n",
    "  geom_density(color = \"red\") + \n",
    "  ggtitle(\"Distribution of stormwater benefits ($)\") + \n",
    "  facet_wrap(\"council_district\"))"
   ]
  },
  {
   "cell_type": "markdown",
   "id": "85fab047-e3a6-43dd-a80d-3b9449ff5dc2",
   "metadata": {},
   "source": [
    "#### Answer - \n",
    "\n",
    "Click on the ellipses (...) below to see the answers."
   ]
  },
  {
   "cell_type": "code",
   "execution_count": null,
   "id": "126ffa50-7d41-457e-8020-1d4372705488",
   "metadata": {
    "jupyter": {
     "source_hidden": true
    },
    "tags": []
   },
   "outputs": [],
   "source": [
    "# solution\n",
    "(ggplot(data = trees.query('neighborhood == \"North Oakland\"'),\n",
    "        mapping = aes(x = \"stormwater_benefits_dollar_value\")) + \n",
    "  geom_histogram(aes(y = \"stat(density)\"), binwidth = 1) + \n",
    "  geom_density(color = \"red\") + \n",
    "  ggtitle(\"Distribution of stormwater benefits ($)\") + \n",
    "  facet_wrap(\"condition\"))"
   ]
  },
  {
   "cell_type": "markdown",
   "id": "50b67277-cfdc-4e70-a482-75c59d95a6bd",
   "metadata": {},
   "source": [
    "## Bar Charts\n",
    "\n",
    "The code below shows how to make an information dense bar chart of several columns of the trees dataset."
   ]
  },
  {
   "cell_type": "code",
   "execution_count": null,
   "id": "48425b50-83e7-41f1-ad76-d0312d4b5e1b",
   "metadata": {},
   "outputs": [],
   "source": [
    "(ggplot(data = trees) + \n",
    "  geom_bar(mapping = aes(x = \"land_use\", fill = \"factor(council_district)\")) + \n",
    "  theme(axis_text_x = element_text(angle = 45, hjust = 1)) + \n",
    "  scale_fill_discrete(name=\"Council District\"))"
   ]
  },
  {
   "cell_type": "markdown",
   "id": "4b667bb5-0a19-4dcc-a58f-a3d4b9f74429",
   "metadata": {},
   "source": [
    "#### Task - Features of the Figures\n",
    "\n",
    "1.  Identify in the source code which components\n",
    "    1.  rotate the axis labels\n",
    "    2.  create the bars\n",
    "    3.  change the way the bars are colored\n",
    "2.  Describe in your own words what is being plotted.\n",
    "\n"
   ]
  },
  {
   "cell_type": "markdown",
   "id": "88c30f1f-9c0b-4205-878a-4915d3c870d2",
   "metadata": {},
   "source": [
    "*your answer here*\n"
   ]
  },
  {
   "cell_type": "markdown",
   "id": "51bb4724-c404-496e-b5a1-127e4daafb0b",
   "metadata": {},
   "source": [
    "#### Answer - \n",
    "\n",
    "Click on the ellipses (...) below to see the answers."
   ]
  },
  {
   "cell_type": "markdown",
   "id": "979cccf9-2b82-4734-96c9-ae1c6acbf5e2",
   "metadata": {
    "jupyter": {
     "source_hidden": true
    },
    "tags": []
   },
   "source": [
    "*answer*\n",
    "\n",
    "1. Parts of the figure\n",
    "    1. `theme(axis.text.x = element_text(angle = 45, hjust = 1))` \n",
    "    2. `geom_bar(mapping = aes(x = land_use, fill = factor(council_district)))`\n",
    "    3. `fill = factor(council_district)`\n",
    "2. This plots a bar plot of the number of trees in each council district within each land use type."
   ]
  },
  {
   "cell_type": "markdown",
   "id": "167e22d6-d505-475a-a14d-4298436b054b",
   "metadata": {},
   "source": [
    "#### Task - Rotating text\n",
    "\n",
    "1.  Modify the code below to change the x-axis text rotation to 90\n",
    "    degrees."
   ]
  },
  {
   "cell_type": "code",
   "execution_count": null,
   "id": "aae64968-7ced-438b-95ca-bcaec4264dd9",
   "metadata": {},
   "outputs": [],
   "source": [
    "# modify this code\n",
    "(ggplot(data = trees) + \n",
    "  geom_bar(mapping = aes(x = \"land_use\", fill = \"factor(council_district)\")) + \n",
    "  theme(axis_text_x = element_text(angle = 45, hjust = 1)) + \n",
    "  scale_fill_discrete(name=\"Council District\"))"
   ]
  },
  {
   "cell_type": "markdown",
   "id": "48d97156-1a61-4a78-8e6b-362d4105638d",
   "metadata": {},
   "source": [
    "#### Answer - \n",
    "\n",
    "Click on the ellipses (...) below to see the answers."
   ]
  },
  {
   "cell_type": "code",
   "execution_count": null,
   "id": "52b44901-0e78-4e42-9bd6-8b6cc93a1a0d",
   "metadata": {
    "jupyter": {
     "source_hidden": true
    },
    "tags": []
   },
   "outputs": [],
   "source": [
    "# solutions\n",
    "(ggplot(data = trees) + \n",
    "  geom_bar(mapping = aes(x = \"land_use\", fill = \"factor(council_district)\")) + \n",
    "  theme(axis_text_x = element_text(angle = 90, hjust = 1)) + \n",
    "  scale_fill_discrete(name=\"Council District\"))"
   ]
  },
  {
   "cell_type": "markdown",
   "id": "f908a6c4-1955-473e-97a6-ef37107de057",
   "metadata": {},
   "source": [
    "#### Task - X Label Alignment\n",
    "\n",
    "1.  Modify the code below to remove the hjust option. What do you think\n",
    "    this option does?"
   ]
  },
  {
   "cell_type": "code",
   "execution_count": null,
   "id": "0a699312-7229-42ae-aaa0-fb616e73095f",
   "metadata": {},
   "outputs": [],
   "source": [
    "# modify this code\n",
    "(ggplot(data = trees) + \n",
    "  geom_bar(mapping = aes(x = \"land_use\", fill = \"factor(council_district)\")) + \n",
    "  theme(axis_text_x = element_text(angle = 45, hjust = 1)) + \n",
    "  scale_fill_discrete(name=\"Council District\"))"
   ]
  },
  {
   "cell_type": "markdown",
   "id": "a6500fc3-56b9-450b-a763-6bb632ef7886",
   "metadata": {},
   "source": [
    "#### Answer - \n",
    "\n",
    "Click on the ellipses (...) below to see the answers."
   ]
  },
  {
   "cell_type": "code",
   "execution_count": null,
   "id": "c75fe62c-fd32-4dba-9be7-ef2f70886218",
   "metadata": {
    "jupyter": {
     "source_hidden": true
    },
    "tags": []
   },
   "outputs": [],
   "source": [
    "# solutions \n",
    "(ggplot(data = trees) + \n",
    "  geom_bar(mapping = aes(x = \"land_use\", fill = \"factor(council_district)\")) + \n",
    "  theme(axis_text_x = element_text(angle = 45)) + \n",
    "  scale_fill_discrete(name=\"Council District\"))"
   ]
  },
  {
   "cell_type": "markdown",
   "id": "cfe02083-05de-462b-a25f-c8ff872ea69d",
   "metadata": {
    "jupyter": {
     "source_hidden": true
    },
    "tags": []
   },
   "source": [
    "*answer*\n",
    "\n",
    "It aligns the center of the text labels of the land use categories to be right next to be centered with the associated data. However, because the text are of different lengths the text tends to overlap."
   ]
  },
  {
   "cell_type": "markdown",
   "id": "b690aa94-ac4b-4c80-bc76-7c11e51006ab",
   "metadata": {},
   "source": [
    "#### Task - No fill\n",
    "\n",
    "1.  Modify the code below to remove the line\n",
    "    `scale_fill_discrete(name=\"Council District\")` from the original\n",
    "    plot code (remember to also remove the `+` from the prior line). What\n",
    "    is the result?"
   ]
  },
  {
   "cell_type": "code",
   "execution_count": null,
   "id": "934b9fd0-37ec-4968-ad50-45fa0180eec5",
   "metadata": {},
   "outputs": [],
   "source": [
    "# modify this code\n",
    "(ggplot(data = trees) + \n",
    "  geom_bar(mapping = aes(x = \"land_use\", fill = \"factor(council_district)\")) + \n",
    "  theme(axis_text_x = element_text(angle = 45, hjust = 1)) + \n",
    "  scale_fill_discrete(name=\"Council District\"))"
   ]
  },
  {
   "cell_type": "markdown",
   "id": "0c04366d-e2a0-4d91-8ce6-42c9071d7e22",
   "metadata": {},
   "source": [
    "#### Answer - \n",
    "\n",
    "Click on the ellipses (...) below to see the answers."
   ]
  },
  {
   "cell_type": "code",
   "execution_count": null,
   "id": "7958b1ea-d57d-483e-aa50-38e8a4fee9ba",
   "metadata": {
    "jupyter": {
     "source_hidden": true
    },
    "tags": []
   },
   "outputs": [],
   "source": [
    "# solutions\n",
    "(ggplot(data = trees) + \n",
    "  geom_bar(mapping = aes(x = \"land_use\", fill = \"factor(council_district)\")) + \n",
    "  theme(axis_text_x = element_text(angle = 45, hjust = 1)))"
   ]
  },
  {
   "cell_type": "markdown",
   "id": "fbfe4489-85eb-4d2e-ba6d-0379ac007b20",
   "metadata": {
    "jupyter": {
     "source_hidden": true
    },
    "tags": []
   },
   "source": [
    "*answer*\n",
    "\n",
    "The legend now says \"factor(council_district)\". The `name =` option in\n",
    "`scale_fill_discrete()` controls how the variable is named in the\n",
    "legend."
   ]
  },
  {
   "cell_type": "markdown",
   "id": "57768a9b-ca70-466f-b755-5846c72eddd1",
   "metadata": {},
   "source": [
    "## Exporting a figure\n",
    "\n",
    "Once you've created a figure, you can export it outside of the Jupyter Notebook. You can do this in your code using the `save` method of your figure objects. You can add a `.save()` to the outermost parentheses in your ggplot function call, but you can also save the plot to a variable.\n",
    "\n",
    "For example, let's start with one of the previous plots we made."
   ]
  },
  {
   "cell_type": "code",
   "execution_count": null,
   "id": "6b2ca338-76f8-46bc-b9e9-d99c54550f4b",
   "metadata": {},
   "outputs": [],
   "source": [
    "# save the plot to the variable p\n",
    "p =( ggplot(data = trees, mapping = aes(x = \"stormwater_benefits_dollar_value\")) + \n",
    "  geom_histogram(aes(y = \"stat(density)\"), binwidth = 1) + \n",
    "  geom_density(color = \"red\") + \n",
    "  ggtitle(\"Distribution of stormwater benefits ($)\"))"
   ]
  },
  {
   "cell_type": "markdown",
   "id": "1908daa8-a094-46ed-aba1-77901a78d6f1",
   "metadata": {},
   "source": [
    "This stores it as an object in the environment but doesn’t print it.\n",
    "Just like DataFrames, we can print them to our screen by typing their\n",
    "names."
   ]
  },
  {
   "cell_type": "code",
   "execution_count": null,
   "id": "c728f417-e2f0-4af0-b742-eb7e5a9b3175",
   "metadata": {},
   "outputs": [],
   "source": [
    "# display the plot\n",
    "p"
   ]
  },
  {
   "cell_type": "markdown",
   "id": "2d89ba09-20e7-4153-940a-5e2775980709",
   "metadata": {},
   "source": [
    "Now we can save this plot as an image.\n",
    "\n",
    "#### Task - Saving the Plot\n",
    "\n",
    "1.  Look at the help [documentation](https://plotnine.readthedocs.io/en/latest/generated/plotnine.ggplot.html#plotnine.ggplot.save) for `save()`. What file types can it\n",
    "    save a file to?  \n",
    "    *“eps”, “ps”, “tex” (pictex), “pdf”, “jpeg”, “tiff”, “png”, “bmp”,\n",
    "    “svg” or “wmf” *\n",
    "\n",
    "2.  Export the plot `p` to a png file called “myplot.png”. Open the file\n",
    "    you created in your computers default image viewer."
   ]
  },
  {
   "cell_type": "code",
   "execution_count": null,
   "id": "39b3ddff-fe1e-4ec4-96ee-05901b18b2a7",
   "metadata": {},
   "outputs": [],
   "source": [
    "# write your code here\n"
   ]
  },
  {
   "cell_type": "markdown",
   "id": "1c10ec20-b18a-48b1-a81c-4a2f412d5dc7",
   "metadata": {},
   "source": [
    "#### Answer - \n",
    "\n",
    "Click on the ellipses (...) below to see the answers."
   ]
  },
  {
   "cell_type": "code",
   "execution_count": null,
   "id": "ee0cfaa9-bc12-40a5-a9ec-6254f4336d30",
   "metadata": {},
   "outputs": [],
   "source": [
    "# solution\n",
    "p.save(filename=\"myplot.png\", format=\"png\")"
   ]
  },
  {
   "cell_type": "markdown",
   "id": "5e8e36eb-2633-463b-b45e-3cdc6cbf8b72",
   "metadata": {},
   "source": [
    "\n",
    "#### Task - Change the size\n",
    "\n",
    "1.  Alter your code from the previous question to change the default\n",
    "    width and height to 8 in by 4 in. (Note: you will need to specify\n",
    "    the units option.) Open the file you created and see what is\n",
    "    different from before."
   ]
  },
  {
   "cell_type": "code",
   "execution_count": null,
   "id": "72845bb2-a3e3-4751-b8c8-71e0d75a466b",
   "metadata": {},
   "outputs": [],
   "source": [
    "# write your code here\n"
   ]
  },
  {
   "cell_type": "markdown",
   "id": "f3f3cd44-2074-4394-b469-66e50f2da746",
   "metadata": {},
   "source": [
    "#### Answer - \n",
    "\n",
    "Click on the ellipses (...) below to see the answers."
   ]
  },
  {
   "cell_type": "code",
   "execution_count": null,
   "id": "30a80ca1-abf4-4037-9cf3-40aeb2cc4b24",
   "metadata": {},
   "outputs": [],
   "source": [
    "# solution\n",
    "p.save(filename=\"myplot.png\", format=\"png\", width=8, height=4, units=\"in\")"
   ]
  },
  {
   "cell_type": "markdown",
   "id": "45308e26-6a23-414e-b8b5-1f6989e4a0f1",
   "metadata": {},
   "source": [
    "#### Task - Save as a vector format\n",
    "\n",
    "1.  Alter your code from the previous question to change the file type to be a PDF file.\n"
   ]
  },
  {
   "cell_type": "code",
   "execution_count": null,
   "id": "f5b67689-2b65-4043-aafc-946d16f8a85c",
   "metadata": {},
   "outputs": [],
   "source": [
    "# your code here\n"
   ]
  },
  {
   "cell_type": "markdown",
   "id": "119a19a9-347b-4b99-b9ce-ba6c4f772238",
   "metadata": {},
   "source": [
    "#### Answer - \n",
    "\n",
    "Click on the ellipses (...) below to see the answers."
   ]
  },
  {
   "cell_type": "code",
   "execution_count": null,
   "id": "51230d14-6cbb-4ddf-a56e-61eb4b96957b",
   "metadata": {},
   "outputs": [],
   "source": [
    "p.save(filename=\"myplot.pdf\")"
   ]
  },
  {
   "cell_type": "markdown",
   "id": "9d6b7452-8164-495f-ba81-9f237169dbf3",
   "metadata": {},
   "source": [
    "## Summary\n",
    "\n",
    "The essentials of creating any of these plots we've learned is with the\n",
    "grammar of graphics:\n",
    "\n",
    "```\n",
    "    ggplot(data = <DATA>) + \n",
    "      <GEOM_FUNCTION>(\n",
    "        mapping = aes(<MAPPINGS>) + \n",
    "        stat = <STAT>,\n",
    "        position = <POSITION>\n",
    "      ) + \n",
    "      <COORDINATE_FUNCTION> + \n",
    "      <FACET_FUNCTION> + \n",
    "      <CUSTOMIZATIONS>\n",
    "```\n",
    "When you are trying to create a plot from scratch, identify each of\n",
    "these pieces in order (data, geoms, etc.) and build"
   ]
  },
  {
   "cell_type": "markdown",
   "id": "7a8607bd-eef7-4730-8047-508b4a6849ac",
   "metadata": {},
   "source": [
    "## Exercises\n",
    "\n",
    "Try to recreate the figures below. The code has been hidden but the outputs have been saved."
   ]
  },
  {
   "cell_type": "markdown",
   "id": "c8d10a9a-ca0f-45aa-897d-90b23e7e99f3",
   "metadata": {},
   "source": [
    "### Figure 1"
   ]
  },
  {
   "cell_type": "code",
   "execution_count": 6,
   "id": "1093891b-9485-4792-9f32-be6949f8b571",
   "metadata": {
    "jupyter": {
     "source_hidden": true
    },
    "tags": []
   },
   "outputs": [
    {
     "name": "stderr",
     "output_type": "stream",
     "text": [
      "/opt/anaconda3/lib/python3.9/site-packages/plotnine/layer.py:411: PlotnineWarning: geom_point : Removed 31 rows containing missing values.\n",
      "/opt/anaconda3/lib/python3.9/site-packages/plotnine/guides/guides.py:253: PlotnineWarning: geom_point legend : Removed 1 rows containing missing values.\n"
     ]
    },
    {
     "data": {
      "image/png": "[encoded data removed]",
      "text/plain": [
       "<Figure size 640x480 with 1 Axes>"
      ]
     },
     "metadata": {},
     "output_type": "display_data"
    },
    {
     "data": {
      "text/plain": [
       "<ggplot: (400409814)>"
      ]
     },
     "execution_count": 6,
     "metadata": {},
     "output_type": "execute_result"
    }
   ],
   "source": [
    "(ggplot(data = trees.query('neighborhood == \"South Oakland\"'),\n",
    "    mapping = aes(x = \"height\", y = \"air_quality_benfits_total_dollar_value\", color = \"condition\")) +\n",
    " geom_point(mapping = aes(shape = \"condition\")) +\n",
    " geom_smooth(method = \"lm\", se = False) +\n",
    " ggtitle(\"Relationship between height and air quality benefit by condition\") +\n",
    " xlab(\"Height\") +\n",
    " ylab(\"Air quality benefit ($)\") +\n",
    " theme_bw())"
   ]
  },
  {
   "cell_type": "code",
   "execution_count": null,
   "id": "5984dca2-fa5a-4c6b-b586-01f1fbeda36b",
   "metadata": {},
   "outputs": [],
   "source": [
    "# write your code here\n",
    "\n"
   ]
  },
  {
   "cell_type": "markdown",
   "id": "7f9b951d-1732-45db-a58f-b59fff9998de",
   "metadata": {},
   "source": [
    "### Figure 2\n",
    "\n"
   ]
  },
  {
   "cell_type": "code",
   "execution_count": 7,
   "id": "e655d816-9517-42a7-85a0-978bd64827a2",
   "metadata": {
    "jupyter": {
     "source_hidden": true
    },
    "tags": []
   },
   "outputs": [
    {
     "name": "stderr",
     "output_type": "stream",
     "text": [
      "/opt/anaconda3/lib/python3.9/site-packages/plotnine/layer.py:411: PlotnineWarning: geom_point : Removed 4157 rows containing missing values.\n"
     ]
    },
    {
     "data": {
      "image/png": "[encoded data removed]",
      "text/plain": [
       "<Figure size 640x480 with 5 Axes>"
      ]
     },
     "metadata": {},
     "output_type": "display_data"
    },
    {
     "data": {
      "text/plain": [
       "<ggplot: (400327970)>"
      ]
     },
     "execution_count": 7,
     "metadata": {},
     "output_type": "execute_result"
    }
   ],
   "source": [
    "(ggplot(data = trees.query(\"public_works_division.notna()\"),\n",
    "       mapping = aes(x = \"width\", y = \"height\", color = \"co2_benefits_dollar_value\")) +\n",
    "  geom_point(alpha=0.3) + \n",
    "  facet_wrap(\"public_works_division\") + \n",
    "  scale_color_continuous(name=\"CO2 Benefits ($)\") + \n",
    "  theme_bw() + \n",
    "  ggtitle(\"Tree height vs width across 6 public works departments\") + \n",
    "  xlab(\"Width\") + \n",
    "  ylab(\"Height\"))"
   ]
  },
  {
   "cell_type": "code",
   "execution_count": null,
   "id": "38936e41-8b6d-4c52-b5d9-5dd654384d71",
   "metadata": {},
   "outputs": [],
   "source": [
    "# write your code here\n",
    "\n"
   ]
  },
  {
   "cell_type": "markdown",
   "id": "e371b5ec-bc1d-41f6-8660-5715292b4202",
   "metadata": {},
   "source": [
    "### Figure 3\n",
    "\n"
   ]
  },
  {
   "cell_type": "code",
   "execution_count": 8,
   "id": "5533a12e-35b4-47a3-b477-54e28f8deed3",
   "metadata": {
    "jupyter": {
     "source_hidden": true
    },
    "tags": []
   },
   "outputs": [
    {
     "data": {
      "image/png": "[encoded data removed]",
      "text/plain": [
       "<Figure size 640x480 with 1 Axes>"
      ]
     },
     "metadata": {},
     "output_type": "display_data"
    },
    {
     "data": {
      "text/plain": [
       "<ggplot: (671558885)>"
      ]
     },
     "execution_count": 8,
     "metadata": {},
     "output_type": "execute_result"
    }
   ],
   "source": [
    "(ggplot(data = trees.query(\"height.notna() and public_works_division.notna()\"),\n",
    "       mapping = aes(x = \"factor(public_works_division)\", fill = \"height < 22\")) +\n",
    "  geom_bar(position = \"fill\") + \n",
    "  scale_fill_discrete(name = \"Tree height\", \n",
    "                    labels = [\"> 22 ft\", \"<= 22 ft\"]) + \n",
    "  ylab(\"Proportion\") + \n",
    "  xlab(\"Public Works Division\") + \n",
    "  theme_classic())"
   ]
  },
  {
   "cell_type": "code",
   "execution_count": null,
   "id": "367b4958-22a2-4d99-b5b7-eeb8362ce212",
   "metadata": {},
   "outputs": [],
   "source": [
    "# write your code here\n",
    "\n"
   ]
  }
 ],
 "metadata": {
  "kernelspec": {
   "display_name": "Python 3 (ipykernel)",
   "language": "python",
   "name": "python3"
  },
  "language_info": {
   "codemirror_mode": {
    "name": "ipython",
    "version": 3
   },
   "file_extension": ".py",
   "mimetype": "text/x-python",
   "name": "python",
   "nbconvert_exporter": "python",
   "pygments_lexer": "ipython3",
   "version": "3.9.13"
  }
 },
 "nbformat": 4,
 "nbformat_minor": 5
}
